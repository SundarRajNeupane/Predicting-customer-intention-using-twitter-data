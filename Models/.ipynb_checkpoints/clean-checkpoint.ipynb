{
 "cells": [
  {
   "cell_type": "code",
   "execution_count": 2,
   "id": "45dc0f65",
   "metadata": {},
   "outputs": [],
   "source": [
    "import pandas as pd\n",
    "import numpy as np"
   ]
  },
  {
   "cell_type": "code",
   "execution_count": 3,
   "id": "ab7c5e95",
   "metadata": {},
   "outputs": [],
   "source": [
    "import nltk"
   ]
  },
  {
   "cell_type": "code",
   "execution_count": 4,
   "id": "98736848",
   "metadata": {},
   "outputs": [],
   "source": [
    "import re"
   ]
  },
  {
   "cell_type": "code",
   "execution_count": 5,
   "id": "8fd668f9",
   "metadata": {},
   "outputs": [],
   "source": [
    "from nltk.corpus import stopwords\n",
    "from nltk.tokenize import word_tokenize\n",
    "import math\n",
    "import enchant\n",
    "from nltk.stem import PorterStemmer"
   ]
  },
  {
   "cell_type": "code",
   "execution_count": 6,
   "id": "18cc3524",
   "metadata": {},
   "outputs": [],
   "source": [
    "ps=PorterStemmer()"
   ]
  },
  {
   "cell_type": "code",
   "execution_count": 7,
   "id": "d5d823f7",
   "metadata": {},
   "outputs": [],
   "source": [
    "pathData = r'C:\\Users\\su\\Desktop\\Major_Project_work\\data\\data.csv' \n",
    "pathStopwords= r'C:\\Users\\su\\Desktop\\Major_Project_work\\data\\stopwords.txt'"
   ]
  },
  {
   "cell_type": "code",
   "execution_count": 22,
   "id": "39e2b5dc",
   "metadata": {},
   "outputs": [],
   "source": [
    "from sklearn.feature_extraction.text import TfidfVectorizer\n",
    "from sklearn.feature_extraction.text import CountVectorizer\n",
    "from textblob import Word"
   ]
  },
  {
   "cell_type": "code",
   "execution_count": 23,
   "id": "4300174d",
   "metadata": {},
   "outputs": [],
   "source": [
    "class DataCLean:\n",
    "\n",
    "    def extract(self, path):\n",
    "        #fd = open(path, encoding=\"utf-8\", errors='replace')\n",
    "        df = pd.read_csv(r'C:\\Users\\su\\Desktop\\Major_Project_work\\data\\data.csv')\n",
    "        defined = df['class'] != (\"undefined\")\n",
    "        # #output dataframe without undeined\n",
    "        df2 = df[defined]\n",
    "        defined1 = df2['class'] != \"Undefined\"\n",
    "        df4 = df2[defined1]\n",
    "        # replace no PI with no\n",
    "        df3 = df4.replace(\"No PI\", \"no\")\n",
    "        # replace PI with yes\n",
    "        final = df3.replace(\"PI\", \"yes\")\n",
    "\n",
    "        replace_yes = final.replace(\"Yes\", \"yes\")\n",
    "        final_df = replace_yes.replace(\"No\", \"no\")\n",
    "        return final_df, df\n",
    "\n",
    "    def text_concat(self, final_df):\n",
    "        text = \"\"\n",
    "        for x in final_df[\"text\"]:\n",
    "            text = text + str(x)\n",
    "        return text\n",
    "\n",
    "    def read_stopwords(self, path):\n",
    "        file1 = open(path, \"r\")\n",
    "        stopword = file1.readlines()\n",
    "        file1.close()\n",
    "        li_stopwords = stopword[0].split()\n",
    "        return li_stopwords\n",
    "\n",
    "    def removeStopWords(self, text):\n",
    "        # stop_words = set(stopwords.words('english'))\n",
    "        stop_words = self.read_stopwords(pathStopwords)\n",
    "        word_tokens = word_tokenize(text)\n",
    "        filtered_sentence = []\n",
    "        for w in word_tokens:\n",
    "            if w not in stop_words:\n",
    "                filtered_sentence.append(w.lower())\n",
    "                # return list of corpus without stop words in a list.\n",
    "        return filtered_sentence\n",
    "\n",
    "    def remove_stopwords(self, df_punc_remove):\n",
    "        # stop_words = set(stopwords.words('english'))\n",
    "        li_stopwords = self.read_stopwords(pathStopwords)\n",
    "        # print(stop_words)\n",
    "        count_clean = 0\n",
    "        for text in df_punc_remove['text']:\n",
    "            word_tokens = word_tokenize(text)\n",
    "            clean_text = \"\"\n",
    "            for w in word_tokens:\n",
    "                if w.lower() not in li_stopwords:\n",
    "                    clean_text = clean_text + w.lower() + ' '\n",
    "            df_punc_remove.at[count_clean, 'text'] = clean_text\n",
    "            df_punc_remove.at[count_clean,\n",
    "                              'class'] = df_punc_remove.iloc[count_clean]['class']\n",
    "            count_clean += 1\n",
    "        # return list of corpus without stop words in a list.\n",
    "        # print(df_punc_remove)\n",
    "        return df_punc_remove\n",
    "\n",
    "    def removePunc(self, eachText):\n",
    "        remove_punc = re.sub(r'[^\\w\\s]', '', eachText)\n",
    "        return remove_punc\n",
    "        # pattern = re.compile(r'[a-zA-Z]+')\n",
    "        # matches = pattern.finditer(eachText)\n",
    "        # new_corpus = \"\"\n",
    "        # for match in matches:\n",
    "        #     new_corpus = new_corpus + match.group() + \" \"\n",
    "        # return new_corpus\n",
    "\n",
    "    def remove_punc(self, temp_df):\n",
    "        count = 0\n",
    "        for text in temp_df['text']:\n",
    "            out = re.sub(r'[^\\w\\s]', '', text)\n",
    "            temp_df.at[count, 'text'] = out\n",
    "            temp_df.at[count, 'class'] = temp_df.iloc[count]['class']\n",
    "            count += 1\n",
    "        return temp_df\n",
    "\n",
    "    def space(self, final_df):\n",
    "        new_df = pd.DataFrame()\n",
    "        count_tweets = 0\n",
    "        for text in final_df['text']:\n",
    "            temp = \"\"\n",
    "            for char in text:\n",
    "                if char in [\",\", \".\", \"!\", \"?\", \":\", \";\"]:\n",
    "                    temp = temp + ' ' + char\n",
    "\n",
    "                else:\n",
    "                    temp = temp + char\n",
    "            # print(temp)\n",
    "            new_df.at[count_tweets, 'text'] = temp\n",
    "            new_df.at[count_tweets,\n",
    "                      'class'] = final_df.iloc[count_tweets]['class']\n",
    "            count_tweets += 1\n",
    "        # print(\"new_df\")\n",
    "        # print(new_df)\n",
    "        return new_df\n",
    "\n",
    "    def handle_negation(self, final_df):\n",
    "        out_df = pd.DataFrame()\n",
    "        count_tweet = 0\n",
    "        for text in final_df['text']:\n",
    "            temp_text = \"\"\n",
    "            li_text = text.split()\n",
    "            for word in li_text:\n",
    "                count = 0\n",
    "                lower_word = word.lower()\n",
    "                if lower_word == \"didn't\" or lower_word == \"not\" or lower_word == \"no\" or lower_word == \"never\"\\\n",
    "                        or lower_word == \"don't\" or lower_word == \"hate\":\n",
    "                    temp = count + 1\n",
    "                    temp_text = temp_text + word + \" \"\n",
    "                    for i in range(temp, len(li_text)):\n",
    "                        if li_text[i] in [\",\", \"?\", \"!\", \".\"]:\n",
    "                            temp_text = \" \"+temp_text + li_text[i] + \" \"\n",
    "                            break\n",
    "                        else:\n",
    "                            temp_text = temp_text + \"NOT_\" + li_text[i]+\" \"\n",
    "\n",
    "                else:\n",
    "                    temp_text = temp_text + word + \" \"\n",
    "            # print(temp_text)\n",
    "            out_df.at[count_tweet, 'text'] = temp_text\n",
    "            out_df.at[count_tweet, 'class'] = final_df.iloc[count_tweet]['class']\n",
    "            count_tweet += 1\n",
    "        return out_df\n",
    "\n",
    "    def check_english(self, temp_df):\n",
    "        d = enchant.Dict(\"en_US\")\n",
    "        new_eng = pd.DataFrame()\n",
    "        count = 0\n",
    "\n",
    "        for sentence in temp_df['text']:\n",
    "            temp_sent = \"\"\n",
    "            for word in sentence.split():\n",
    "                temp = word.lower()\n",
    "                if d.check(word):\n",
    "                    # print(\"ammar\")\n",
    "                    temp_sent = temp_sent + temp + \" \"\n",
    "            # print(temp_sent)\n",
    "            new_eng.at[count, 'text'] = temp_sent\n",
    "            new_eng.at[count, 'class'] = temp_df.iloc[count]['class']\n",
    "            count += 1\n",
    "        # print(new_eng)\n",
    "        return new_eng\n",
    "\n",
    "    def Stemming(self, temp_df):\n",
    "        new_eng = pd.DataFrame()\n",
    "        count = 0\n",
    "# \n",
    "        for sentence in temp_df['text']:\n",
    "            temp_sent = \"\"\n",
    "            for word in sentence.split():\n",
    "                temp = ps.stem(word.lower())\n",
    "                temp_sent = temp_sent + temp + \" \"\n",
    "            print(temp_sent)\n",
    "            new_eng.at[count, 'text'] = temp_sent\n",
    "            new_eng.at[count, 'class'] = temp_df.iloc[count]['class']\n",
    "            count += 1\n",
    "        # print(new_eng)\n",
    "        return new_eng\n",
    "\n",
    "        stem(\"factionally\")\n",
    "\n",
    "    def clean_data(self, final_df):\n",
    "        # print(final_df)\n",
    "        eng_df = self.check_english(final_df)\n",
    "        # print(eng_df)\n",
    "        df_stem = self.Stemming(eng_df)\n",
    "        new_df = self.space(eng_df)\n",
    "        new_corpus_df = self.handle_negation(new_df)\n",
    "        remove_punc_df = self.remove_punc(new_corpus_df)\n",
    "        df_remove_stopWords = self.remove_stopwords(remove_punc_df)\n",
    "\n",
    "        new_corpus = self.text_concat(df_remove_stopWords)\n",
    "        li_new_corpus = new_corpus.split()\n",
    "        # print(remove_punc_df)\n",
    "        return li_new_corpus, df_remove_stopWords\n",
    "\n",
    "    def make_unique_li(self, li_cleanText):\n",
    "        unique_words_set = set(li_cleanText)\n",
    "        unique_word_li = list(unique_words_set)\n",
    "        return unique_word_li\n",
    "\n",
    "    def stemmed(self, li_cleanText):\n",
    "        count_stemed = 0\n",
    "        for word in li_cleanText:\n",
    "            if word[-1] == \"s\":\n",
    "                li_cleanText[count_stemed] = word[:-1]\n",
    "            elif word[-2:] == \"ed\":\n",
    "                li_cleanText[count_stemed] = word[:-2]\n",
    "            elif word[-3:] == \"ing\":\n",
    "                li_cleanText[count_stemed] = word[:-3]\n",
    "            count_stemed += 1\n",
    "        return li_cleanText\n",
    "\n",
    "    def Clean(self):\n",
    "        final_df, df = self.extract(pathData)\n",
    "        # corpus = clean.text_concat(final_df)\n",
    "        li_clean_text, df_clean = self.clean_data(final_df)\n",
    "        # print(\"ammar\")\n",
    "        uniqueWords = self.make_unique_li(li_clean_text)\n",
    "        return df_clean, uniqueWords\n"
   ]
  },
  {
   "cell_type": "code",
   "execution_count": 24,
   "id": "c76bef01",
   "metadata": {},
   "outputs": [],
   "source": [
    "\n"
   ]
  },
  {
   "cell_type": "code",
   "execution_count": null,
   "id": "f8836135",
   "metadata": {},
   "outputs": [],
   "source": []
  },
  {
   "cell_type": "code",
   "execution_count": 26,
   "id": "311f999c",
   "metadata": {},
   "outputs": [
    {
     "name": "stdout",
     "output_type": "stream",
     "text": [
      "                                                   text class\n",
      "0                      buy get fucking weather reports     no\n",
      "1     dude selling iphone 64 like nigga no not_dude ...    no\n",
      "2     home dab emote man today get hopped two full d...   yes\n",
      "3                                           buy iphone    yes\n",
      "4     hate not_hate not_11 11 iphone works slower th...    no\n",
      "...                                                 ...   ...\n",
      "1156  iphone camera quality looks trash next hate no...    no\n",
      "1157  apple hey brand new expensive iphone cant even...    no\n",
      "1158  unpopular hate not_i not_hate not_the not_ipho...    no\n",
      "1159                                          want bad    yes\n",
      "1160  anyone explain incredibly expensive randomly s...    no\n",
      "\n",
      "[1161 rows x 2 columns]\n"
     ]
    }
   ],
   "source": [
    "print(final_data_frame)"
   ]
  },
  {
   "cell_type": "code",
   "execution_count": 27,
   "id": "807e6ff8",
   "metadata": {},
   "outputs": [
    {
     "name": "stdout",
     "output_type": "stream",
     "text": [
      "iphone    966\n",
      "buy       305\n",
      "dtype: int64\n",
      "removed comman words\n",
      "0                          get fucking weather reports\n",
      "1    dude selling 64 like nigga no not_dude not_in ...\n",
      "2    home dab emote man today get hopped two full d...\n",
      "3                                                     \n",
      "4    hate not_hate not_11 11 works slower thanks su...\n",
      "Name: text, dtype: object\n",
      "\n"
     ]
    }
   ],
   "source": [
    "# COMMON WORD REMOVAL\n",
    "freq = pd.Series(\n",
    "    \" \".join(final_data_frame[\"text\"]).split()).value_counts()[:2]\n",
    "print(freq)\n",
    "freq = list(freq.index)\n",
    "final_data_frame[\"text\"] = final_data_frame[\"text\"].apply(\n",
    "    lambda x: \" \".join(x for x in x.split() if x not in freq)\n",
    ")\n",
    "print(\"removed comman words\")\n",
    "print(final_data_frame[\"text\"].head())\n",
    "print()"
   ]
  },
  {
   "cell_type": "code",
   "execution_count": 28,
   "id": "16a92b2e",
   "metadata": {},
   "outputs": [
    {
     "name": "stdout",
     "output_type": "stream",
     "text": [
      "not_bought    1\n",
      "verizon       1\n",
      "chins         1\n",
      "not_apples    1\n",
      "gives         1\n",
      "2150          1\n",
      "not_lie       1\n",
      "tooth         1\n",
      "annoyed       1\n",
      "ordinary      1\n",
      "dtype: int64\n",
      "removed rare words\n",
      "0                          get fucking weather reports\n",
      "1    dude selling 64 like nigga no not_dude not_in ...\n",
      "2    home dab emote man today get hopped two full d...\n",
      "3                                                     \n",
      "4    hate not_hate not_11 11 works slower thanks su...\n",
      "Name: text, dtype: object\n",
      "\n"
     ]
    }
   ],
   "source": [
    "rare = pd.Series(\n",
    "    \" \".join(final_data_frame[\"text\"]).split()).value_counts()[-10:]\n",
    "print(rare)\n",
    "rare = list(rare.index)\n",
    "final_data_frame[\"text\"] = final_data_frame[\"text\"].apply(\n",
    "    lambda x: \" \".join(x for x in x.split() if x not in rare)\n",
    ")\n",
    "print(\"removed rare words\")\n",
    "print(final_data_frame[\"text\"].head())\n",
    "print()"
   ]
  },
  {
   "cell_type": "code",
   "execution_count": 29,
   "id": "45059655",
   "metadata": {},
   "outputs": [
    {
     "name": "stdout",
     "output_type": "stream",
     "text": [
      "['get fucking weather reports', 'dude selling 64 like nigga no not_dude not_in not_selling not_the not_iphone not_x not_64 not_for not_like not_nigga not_no not_one not_is not_gonna not_buy not_that not_shit not_when not_they not_can not_get not_the not_256 not_for not_that not_price one gon na shit get 256 price', 'home dab emote man today get hopped two full diamonds 5 minutes w tap thanks bedroom brand new rated sexiest thing', '', 'hate not_hate not_11 11 works slower thanks subtle way forcing purchase 8 dont not_hate not_11', 'sale tomorrow tmobile one get one free phones tablets not not_tomorrow not_at not_tmobile not_buy not_one not_get not_one not_free included info', 'get willing', 'unlimited everything', 'really wish get meet one day do good tech videos hope win giveaway way maybe able talk big fan watch every video', 'sprint switch get theyd contract', 'faster face recognition', 'dont not_buy not_an not_iphone not_x not_if not_youre not_ugly youre ugly time work recover selfies', 'price paid nice', 'friend not not_friend not_iphone not_x not_is not_not not_that not_expensive not_i not_should not_get not_4 expensive get 4', 'upgrade 8 add digits line get apple watch heart beat purchase right', 'dont not_dont not_get not_it not_is not_it not_basically not_impossible not_to not_buy not_a not_x not_from not_if not_im not_on not_a not_prepaid get basically impossible prepaid', 'pleasure use far ive ever', 'wanted places sold people reselling like 1', 'love holiday gift guides assume spare aunt', 'vip', 'anyone else experiencing glitch apps wont open try open phone feel like conspiracy apple', 'finally quit switching sim cards whenever get', 'apple send email christmas gifts suggestions suggested', '', 'love design', 'not not_can not_buy not_yourself not_an not_iphone not_x not_but not_can not_not not_get not_me not_a not_gift not_card get gift card', 'love note 8 awesome phone sister small hands like did 1 get ordered apple getting note 8 back', 'not not_this not_what not_i not_want want', 'crazy love dont not_crazy not_love not_with not_this not_dont not_buy not_iphone not_x not_via via', 'love w', 'hmm thought harder apple upgrade program new enrollee tmobile tmobile shows go apple store', 'love w', 'lot convincing not not_need not_a not_lot not_of not_convincing not_to not_not not_buy not_this not_iphone not_x', 'glitch get us', 'love still wish wouldve made plus tho', 'today great start first time ever screen cracked phone also issues sound past week', 'wish grandpa switch sprint get', 'not not_not not_wait not_to not_get not_my not_iphone not_x not_wish not_they not_came not_in not_more not_colors not_though wait get wish came colors though', 'christmas love', 'really want', 'daddy tried do got money like no not_daddy not_tried not_me not_on not_that not_do not_you not_got not_iphone not_x not_money not_like not_no not_nigga not_but not_you not_do not_now not_buy not_it nigga do', 'cant wait giveaway announcement weekend', 'total love saw camera test videos wish meet go someday', 'wish get new', 'sugar daddy', 'cheaper adult llama get', 'fucking stressed depressed cant august 2018 psychopath kill', 'anyone freeze never not_x not_just not_freeze not_on not_them not_and not_never not_work not_again not_or not_is not_that not_just not_me work feel like bought damn bootleg terrible luck w phones man get hypnotized curse', 'get funding january one paintings feel real expensive', 'snap chat got blocked think new dat phone house africa', 'christmas year said wanted new laptop', 'cant enjoy unless', 'dont not_you not_wish not_it not_came not_out not_of not_the not_box not_like wish came box like next best thing visit make', 'come bulgaria 100200 entire country didnt not_iphone not_x not_just not_come not_to not_bulgaria not_they not_had not_100200 not_for camp store get 2 weeks guess money really cant everything', 'get', 'going christmas deserve something really', 'feel like old man used w home bottom didnt not_feel not_like not_an not_old not_man not_i not_used not_the not_iphone not_x not_w not_the not_home not_bottom not_and not_didnt not_like not_it like change felt strange', 'returning still really like little like reach whole screen', 'apple thinks breaking phones get us newest ones 8 not not_apple not_thinks not_breaking not_down not_our not_phones not_to not_get not_us not_buy not_the not_newest not_ones not_iphone not_8 not_and not_x not_its not_not not_its not_just not_making not_us not_broke making us broke', 'hsbc steven started rating target co installed base users cant wait get hands', 'manager gon na get told llama instead 50 bucks cheaper gave look walked away', 'almost got fucked w wack like android brand not not_almost not_got not_the not_iphone not_x not_and not_then not_i not_fucked not_w not_it not_and not_it not_is not_wack interested fire', 'talked w owner today overall actually kinda happy issues matter learning others bad misses like pic', 'love since take ear doctor watching story headphones still love ya tho', 'wish apple get stock december getting impatient', 'wish get', 'wish one mates get good pics night', 'yesterday 20 minute conversation w guy shouldnt get', 'nah son join no not_son problems plus love attention brings let play around mine', 'didnt not_didnt not_get not_any not_birthday not_presents get birthday presents wants', 'really dont not_really not_dont not_understand not_why not_anyone not_would not_buy not_the not_x understand anyone like brand cause dont not_really not_dont not_understand not_why not_anyone not_would not_buy not_the not_x get hype supreme shit either', 'went apple store return back get onto upgrade program tmobile customer', 'african parent', 'skip november 30th get prob wont phone w day 2 shit', 'logan make pay love', 'shit fuck sides car dont not_how not_i not_fuck not_up not_both not_sides not_of not_my not_car not_dont not_even not_wanna not_wash not_this not_bitch even wan na wash bitch wan na new one 7 tweaking guess get wan na set nice 2018', 'trap get newest did love charging day', 'wish bigger like size plus', '6 plus since tried get plus range hope bring plus do year two one poor man', 'cause broke fuck', 'glad did not not_i not_did not_not not_hit not_that not_iphone not_x not_i not_was not_going not_to not_buy not_one not_in not_january not_but not_now not_i not_will not_just not_wait not_till not_next not_fall not_to not_get not_the not_bigger not_one hit going one january wait till next fall get bigger one', 'wait people flame notch theyre buying app make look like normal', 'people mad calendar overpriced costs make', 'gon na get plus comes next year w 10 5 display everything gets worked', 'whats going apple stores selling higher prices selling combining apple watch something else compelling lucknow', 'trying go w home button love apple personally shit wack', 'want tax refund leaving', 'like wan na spend rack', 'someone see fixed battery dying every 10 minutes problem get back thanks', '7 plus store playing note 8 note 8 blew away love glad purchased complaint', 'please love like love kids', 'want dont not_want not_the not_iphone not_x not_but not_dont not_feel not_like not_waiting not_for not_it not_i not_want not_the not_gold not_8 not_plus not_too not_what not_im not_gonna not_do not_because not_i not_already not_have not_the not_7 not_plus not_and not_thats not_basically not_the not_same not_as not_the not_8 not_but not_i not_love not_the not_color not_im not_terrible not_i not_wish not_the not_8 not_was not_a not_full not_screen not_like not_the not_x feel like waiting want gold 8 plus gon na do already 7 plus thats basically 8 love color terrible wish 8 full screen like', 'wish somehow get mother really want phone real', 'love everything except horrendous sound issues w', 'want see size first', 'apple really thinks get slowing phone right causing glitch theyre absolutely right take money', 'never not_why not_you not_never not_buy not_the not_first not_batches not_of not_anything not_new not_the not_iphone not_x not_freezes not_when not_its not_cold not_like first batches anything new freezes cold like', 'really ready 2 get home play around w', 'really want going though whatever phone get', 'wan na dont not_wanna not_buy not_the not_iphone not_x not_but not_dont not_wanna not_wait not_till not_january not_to not_get not_it wan na wait till january get', 'every update 6 gets slower like apple want something', 'want do get paid', 'really not not_not not_buy not_an not_8 not_i not_need not_an not_x not_unlocked 8 unlocked', 'get tech father keep prayers', 'flagship phones chose pixel 2 wasnt reason get want rejoin apple ecosystem everything got new flagship phone w contract', 'like not not_this not_is not_not not_going not_to not_make not_me not_buy not_iphone not_x going make not not_this not_is not_not not_going not_to not_make not_me not_buy not_iphone not_x thousand dollar fix', 'said get back 24 months', 'go today', 'hey everyone broken going get fix dont not_everyone not_my not_is not_broken not_am not_going not_to not_get not_it not_fix not_or not_buy not_the not_iphone not_x not_i not_dont not_know know', 'get comfort zone see world dont not_out not_of not_your not_comfort not_zone not_see not_the not_world new fancy shoes ticket make memories do', 'someone make cute talking emoji videos lily', 'hands camera screen nice', 'apple no not_no not_news not_of not_iphone not_x not_in not_should not_i not_buy not_some not_other not_phone not_if not_its not_going not_to not_be not_late news phone going late urgent update availability', 'better phone outright go another contract ends like 5 months want', 'couldnt get today stock next month think may go new gun', 'wow loren 7 plus lucky wish rich like', 'love best purchase ever made', 'generally favor system old one', 'actually sort like pay tiffany', 'thanks giving face recognition feature galaxy max love never not_for not_giving not_me not_x not_face not_recognition not_feature not_in not_galaxy not_on not_max not_only best', 'first sell kidney', 'no not_no not_no not_no not_no not_no not_no no not_no not_no not_no not_no not_no not_no no not_no not_no not_no not_no not_no not_no no not_no not_no not_no not_no not_no not_no no not_no not_no not_no not_no not_no not_no no not_no not_no not_no not_no not_no not_no no not_no not_no not_no not_no not_no not_no phone battery fucked phone went 50 calling soon get room like yall want fucking', 'anyone give new phone poor thanks', 'wish hadnt played around sort fell love also dont not_wish not_i not_hadnt not_played not_around not_with not_an not_iphone not_x not_because not_i not_sort not_of not_fell not_in not_love want drop kind phone', 'great actually bravo samsung funny ad wish ads fun like', 'att best stores get', 'guess bad manage get since problems w shall patient wait next batch', 'id like upgrade uk already site says not not_like not_to not_buy not_an not_iphone not_x not_on not_the not_iphone not_upgrade not_in not_the not_uk not_already not_on not_the not_your not_site not_just not_says not_not not_taking not_reservations not_to not_buy not_iphone not_in not_the not_store not_right not_now taking reservations store right please check back', 'really wish camera wont make look ugly', 'retard sold ipad spent like 300 not not_sold not_his not_ipad not_and not_iphone not_and not_spent not_like not_300 not_more not_to not_buy not_the not_iphone not_x not_and not_its not_not not_even not_that not_much not_different even much different', 'portrait photo blurred dont not_a not_portrait not_photo not_with not_blurred not_dont not_buy not_iphone not_x', 'oh damn wish 8 wait month get friends', 'got new', 'dont not_dont not_get not_why not_people not_still not_buy not_x not_such not_a not_waste not_of not_money get people still waste money', 'gaming pc alright dont not_might not_just not_buy not_a not_gaming not_pc not_the not_iphone not_x not_is not_alright not_but not_i not_dont not_really not_have not_friends not_to not_blow not_up not_my not_phone not_not not_really not_the not_popular not_type not_and not_i not_also not_really not_want not_to not_play not_and not_other not_games not_on not_pc not_but not_is not_coming not_out not_for not_the not_soon not_so not_i not_cant not_choose not_what not_to not_get really friends blow phone not not_might not_just not_buy not_a not_gaming not_pc not_the not_iphone not_x not_is not_alright not_but not_i not_dont not_really not_have not_friends not_to not_blow not_up not_my not_phone not_not not_really not_the not_popular not_type not_and not_i not_also not_really not_want not_to not_play not_and not_other not_games not_on not_pc not_but not_is not_coming not_out not_for not_the not_soon not_so not_i not_cant not_choose not_what not_to not_get really popular type also really want play games pc coming soon cant choose get also', 'dont not_buy not_the not_iphone not_x get mate 10 pro instead', 'somebody love forever', 'want get drunk tonight not not_to not_get not_drunk not_tonight not_so not_i not_can not_buy not_the not_iphone not_x not_and not_not not_feel not_guilty not_about feel guilty', 'convinced 11 glitches conspiracy apple get everyone new', 'do no not_i not_need not_the not_iphone not_x not_no', 'get home ny', 'trying get one please dad', 'used front face camera realized ugly camera like another good reason not not_the not_front not_face not_camera not_on not_the not_iphone not_x not_realized not_too not_ugly not_to not_own not_a not_camera not_like not_that shit', 'played feels perfect like phone ought', 'fell love w', 'get 333 meal deals instead', 'wish money get ive already bought', 'reason new', 'biggest wish future proper fast charging support box adapter', 'wish win', 'wish get dont not_wish not_i not_could not_get not_the not_iphone not_x not_but not_dont not_have not_to not_spend spend', 'playing work day pretty decent lovely things like screen brightness size new gestures get around notch noticeable first', 'do not not_not not_buy not_an not_iphone not_x not_because not_it not_ruins not_your not_life ruins life talking phone like', 'wow wish get like planned screwed third fourth year row', 'like', 'no not_one not_is not_forcing not_you not_to not_buy not_it one forcing dont not_one not_is not_forcing not_you not_to not_buy not_it want', 'dad said get job hed whos hiring', 'today professor talking students buying like cant even afford new', 'length contract 2 years per usual pay per month crazy not not_length not_of not_contract not_for not_this not_x not_is not_2 not_years not_as not_per not_usual not_you not_pay not_per not_month not_with not_crazy not_i not_would not_not not_pay not_that not_in not_a not_million not_years not_are not_they not_having not_a not_laugh not_or not_i not_would not_recommend not_you not_buy not_a not_one not_plus not_5 not_for not_sim not_only not_deal not_for not_per not_month not_with not_3 pay million years laugh recommend one plus 5 sim deal per month 3', 'want face edge people want reason wont wont get much better without using displays havent done yet many money w', 'also money id rather something like ipad pro', 'randomly told llama', 'rather cause get longer phone instead paying 2 minutes', 'finally got cali go go best san francisco homeless man stack least runs best day look money throws table says', 'looks like nice piece machinery', 'college students complaining theyre broke go like went 3 weeks without groceries wait reopen', 'yo fuck did get enough money', 'well 240 feature got activated everyone still wan na get one enough insanely expensive gon na tried win one win oh well wish won', 'dream though us get', 'mom offered bro gets cs used get grounded weeks still mad', 'congrats huge success sad available almost look already premium phone love see dealers dont not_for not_huge not_success not_on exploit lovers finding', 'anybody currently selling mine purchase new dm interested', 'dont not_dont not_get not_why not_people not_freak not_about not_about not_the not_iphone not_x not_being not_like not_people not_dont not_outright not_buy not_the not_phone not_and not_do not_they not_not not_realize not_they not_were not_paying not_for not_all not_the not_older get people freak like people dont not_dont not_get not_why not_people not_freak not_about not_about not_the not_iphone not_x not_being not_like not_people not_dont not_outright not_buy not_the not_phone not_and not_do not_they not_not not_realize not_they not_were not_paying not_for not_all not_the not_older outright phone do not not_dont not_get not_why not_people not_freak not_about not_about not_the not_iphone not_x not_being not_like not_people not_dont not_outright not_buy not_the not_phone not_and not_do not_they not_not not_realize not_they not_were not_paying not_for not_all not_the not_older realize paying older', 'definitely one best purchase highly advisee go get t', 'wish use mute filters like', 'urge support inexpensive phones reject consumerist mindset dont not_urge not_you not_to not_support not_and not_buy not_inexpensive not_phones', 'told apple rep yesterday 4 major us carriers bought deal apple offer models networks launch no not_was not_told not_by not_an not_apple not_rep not_yesterday not_that not_the not_4 not_major not_us not_carriers not_into not_a not_deal not_with not_apple not_to not_only not_offer not_iphone not_x not_models not_on not_their not_networks not_during not_launch not_why not_no not_unlocked not_model not_as not_of not_i not_wonder not_if not_tmobiles not_buy unlocked model wonder tmobiles', 'dont not_dont not_need not_those not_perfect not_tooth perfect', 'since cant purchase decided get official wallpaper', 'noticed issue w latest version app tends copy regardless copy password', 'new instead samsung bad sheep word', 'wonder asked begged dad', 'feel like purposely make stop working shitty ass', 'thinking 8 plus may last purchase gon na rock w one dont not_thinking not_this not_8 not_plus not_may not_be not_the not_last not_iphone not_i not_purchase want never not_thinking not_this not_8 not_plus not_may not_be not_the not_last not_iphone not_i not_purchase desired cop 5th', 'apple did glitching shit purpose get expensive ass costs owe car', 'cracked phone like time mf', 'wake tell everyday dont not_to not_wake not_up not_and not_tell not_myself not_everyday not_you not_dont not_need not_to not_trade not_in not_your not_phone not_and not_buy not_the not_iphone not_x trade phone', 'yeah dont not_i not_dont not_really not_like not_that not_nor not_do not_i not_trust not_it not_so really like nor do trust didnt not_i not_dont not_really not_like not_that not_nor not_do not_i not_trust not_it not_so', 'give solid recognizing face w makeup w glasses barely recognize like', 'think apple fucking way get', 'go barely get guess whole world moron apple stock', 'phone awesome want old want sell contact us no not_phone not_was not_awesome not_but not_i not_want not_buy not_yours not_old not_if not_you not_want not_to not_sell not_contact not_us not_my not_no not_9934000507 not_and not_also 9934000507 also', 'liked video augmented reality review bad battery life heat test total', 'got 8 since 8 plus big still order wait many weeks course expensive', 'glad good camera look good pictures look bad low quality cameras cooper', 'expensive sure freeze', 'thinking ask thats really expensive thing want', 'rt cheapest expensive dollars', 'expensive', 'expensive', 'got bad reviews', 'read many bad reviews theyre not not_you not_read not_many not_bad not_reviews not_about not_iphone not_x jealous', 'broke want kinda bad', 'bad', 'camera terrible w bad lighting', 'literally hate not_literally not_hate not_the not_iphone not_x not_so not_much much', 'kinda dislike lock button volume buttons placed trying put volume whilst watching someones snaps instead screenshot', 'expensive cause samsung control monopoly display uses raised price ass', 'glad didnt not_glad not_i not_didnt not_wait not_for not_the not_iphone not_x wait hate not_glad not_i not_didnt not_wait not_for not_the not_iphone not_x', '6 tuesday', 'costs make reason expensive compete samsung samsungs isnt expensive', 'added video playlist sophia talking expensive singularity hanson', 'want bad like dont not_want not_the not_iphone not_x not_so not_bad not_but not_like wan na spend phone', 'want bad whos', 'green line display apple new problem owners super expensive', 'hearing many bad things tempted cancel shipment stay', 'finally saw yesterday not not_saw not_x not_yesterday not_and not_its not_not not_bad not_o not_but not_worth not_all not_the not_hype not_jo bad worth hype jo', 'love hate not_hate not_relationship not_with not_this not_x relationship', 'get youll realize bad', 'front camera really bad', 'switch phone boring already', 'whys no not_no not_one not_talking not_about not_how not_bad not_the not_radios not_are not_in not_this not_iphone not_x not_its not_real not_bad one talking bad radios real bad', 'camera fucking horrific', 'buzzing finally get tomorrow', '', 'liked video cinematic toronto canada', 'got pixel 3 finally much smarter think one yet camera ridiculous not not_my not_pixel not_3 not_finally smooth apple awesome enjoyable', 'seriously considering trading flip face recognition crap creeping', 'apple no not_no not_longer not_sells not_the not_iphone not_x not_but not_that not_doesnt not_mean not_you not_shouldnt not_protect not_yours not_if not_you not_have not_one longer sells doesnt mean shouldnt protect one', 'liked video smashing public prank', 'live quality', 'screen thank goodness went instead like originally planned blue color tempting though', 'silly bitch', 'biggest struggle easy screenshot ive month ive many peoples instagram stories accident', 'calls phone cant hear end unless speaker every time take issue apple n throw new right 3rd replacement phone warranty ends', 'big money want money money', 'got compliments verizons bf sending texts personal emoji anyone know wont end well', 'back lens rotates small set screw rotate vertical', 'want win cases giveaway enter 1st entered win', 'everything even', 'time get', 'wait monday get', '', 'want new phone sick', 'feeling behind times 7 right didnt not_very not_behind not_the not_times not_with not_my not_iphone not_7 not_right not_now not_i not_didnt not_know not_these not_iphone not_x not_existed know existed', 'came', 'business', 'best week deals 8', 'stupidity max no not_is not_when not_you not_buy not_an not_iphone not_x not_max not_then not_when not_its not_no not_reasonable not_person not_can not_help not_fix not_it not_in not_nigeria reasonable person help fix nigeria', 'use 7 phone charger thats win guess', 'lady buying 7 maxes outright bread', 'far apple done good job havent read stuff earlier apple watch elements stuck hope see promotion elsewhere get tough mac using', 'today received brand new day handing old smashed understand pay month insurance', 'basically', 'came cant wait activate make', 'got gained 100 followers', 'told dream big yeah', 'stand chance win simply click', 'whats difference', 'listened hypercritical whole episode lcd ghosting horrible doesnt ghosting annoy drives crazy every time scroll black backgrounds', 'wont bad', 'do dickhead written', 'still sexy year later', 'not not_not not_im not_using not_my not_kidney using kidney max live life fullest', 'max sale', 'someone told ive never not_once not_told not_me not_that seen turned especially old devices think saw someones', 'screenshots look clapped', 'looks like use 6 already', 'takes long charge', 'face unlock samsung features not not_so not_had not_face not_unlock hear word', 'thanks interested local shop couldnt match cost like stay match phone data 24 month contract no upfront cost', 'win festive season via', 'everyone knows pic lost first round', 'mum got scammed trying', 'whole doesnt feel polished new ipad pros generation 13 needs deliver significant enchantments features take advantage true depth camera system ipad pro also needs serious attention terms pro features', 'got sale 6 pretty sure get something', '6 regular plus regular plus 3 25 free shipping retweet', 'replying trust say look went tho cant wait get back op contract ends sister ive experienced gaming main', 'nope bell', 'unclaimed euro millions winner find get christmas wan na add funds wont say', 'bro camera quality better come next friday get phone', 'one exception camera phone quality takes steep nose dive going nokia solid cameras cant keep flagships', 'apple ipad hit products', 'fucking', 'thats decade knew', '', 'talking friend whos manager saying looking xs think struggling wouldnt even sync computer back', '10 friday get get max', 'hello find pricing information different available tabs', 'instead giving one example not not_instead not_of not_giving not_out not_just not_one not_for not_example not_the not_iphone not_x not_which not_about not_off use fund reduce prices gadgets customers', 'don find naira app tire black friday na die oh', 'youre right theyre even guess folk not not_right not_there carry pocket doesnt seem consideration', 'daughters cant even cast music onto 75 inch sony tv apple lame gear losers dont not_daughters not_iphone not_x not_cant not_even not_cast not_music not_onto not_my not_75 not_inch not_sony not_tv understand theyre buying', 'really love', 'obviously p better theyre fucking stupid bet', 'still getting win', 'actually want deal new actually', 'online store', 'wish apple give free sample patronize really nice', 'love everything except size wish size 7 plus', 'every time think buying like use money travel europe car', 'wallet do not not_will not_is not_my not_wallet not_is not_i not_do not_not not_need not_the not_iphone not_x not_my not_will not_is not_my not_wallet not_is not_i not_do not_not not_need not_the not_iphone not_x not_my not_w wallet do not not_will not_is not_my not_wallet not_is not_i not_do not_not not_need not_the not_iphone not_x not_my not_will not_is not_my not_wallet not_is not_i not_do not_not not_need not_the not_iphone not_x not_my not_w w', 'honestly excited get hands never not_honestly not_am not_excited not_to not_get not_my not_hands not_on not_the not_x not_but not_i not_will not_never not_buy not_one one dislike every new release', '', 'support phone 109 152 apps stock updated thats not not_x not_support not_on not_my not_phone not_109 not_of not_my not_152 not_apps not_stock not_are not_updated not_now bad', 'twelve hours strongly dislike not not_other not_twelve not_hours not_i not_strongly not_dislike not_this not_iphone not_x feeling', 'couldnt agree review absolute', 'hate not_de not_mon not_x not_chez de mon chez', 'hate not_hate not_the not_phone not_im not_using not_right not_now phone using right main reason not not_hate not_the not_phone not_im not_using not_right not_now using twitter right 4 weeks', 'liked video review good bad', 'w bad experience', 'like cant afford expensive', 'going get tomorrow hate not_to not_get not_the not_iphone not_x not_tomorrow phone', 'hate not_to not_be not_this not_guy not_but not_since not_the not_iphone not_8 not_and not_iphone not_x not_have not_been not_released not_my not_7 not_has not_been not_slow not_and not_freezing not_constantly guy since 8 released 7 slow freezing constantly', 'daily feel useless think notch', 'bad reviews', 'bought expensive reserve right gripe vagaries ownership', 'expensive new one', 'take 8 expensive still doubts new features', 'ive tried every way return phone 14 day limit hate not_tried not_every not_way not_to not_return not_my not_phone not_before not_the not_14 not_day not_limit', 'screw', 'apple didnt not_didnt not_include not_a not_number not_of not_gigabit not_technologies not_in not_the not_iphone not_x not_or not_iphone not_8 not_this not_even not_though not_most not_android not_flagships not_have not_those not_features include number gigabit technologies 8 even though android flagships features newest expensive massively slower android counterparts', 'want bad', 'many bad reviews', 'damn camera quality sucks ass bad like oldest brother', 'really hate not_really not_hate not_putting not_in not_my not_code not_to not_unlock not_my not_phone putting code unlock phone hoping comes fingerprint asap', 'want bad', 'oh yeah dont not_yeah not_i not_dont not_remember not_asking not_you not_to not_send not_back not_my not_iphone not_x not_and not_your not_customer not_service not_representative not_was not_absolutely not_useless remember asking send back customer service representative absolutely useless', 'repeatedly goes black screen spinning icon bad boy returned', 'apple best via always look forward reviews never not_iphone not_x not_the not_best not_via not_always not_look not_forward not_to not_reviews not_never not_biased biased good hell say', 'ridiculously expensive', 'second primary phone', 'talked owner today overall actually kinda happy issues matter learning others bad misses like pic', 'liked video review good bad', 'one new follower started following funny samsung never not_one not_new not_follower not_would not_be not_me not_i not_started not_following not_you not_from not_your not_iphone not_x not_so not_funny not_i not_have not_samsung not_and not_never not_looked not_back not_from not_my not_iphone not_4 not_days not_never not_hate not_only looked back 4 days never not_one not_new not_follower not_would not_be not_me not_i not_started not_following not_you not_from not_your not_iphone not_x not_so not_funny not_i not_have not_samsung not_and not_never not_looked not_back not_from not_my not_iphone not_4 not_days not_never not_hate not_only hate not_one not_new not_follower not_would not_be not_me not_i not_started not_following not_you not_from not_your not_iphone not_x not_so not_funny not_i not_have not_samsung not_and not_never not_looked not_back not_from not_my not_iphone not_4 not_days not_never not_hate not_only', 'delivery today meant arrive 245 sitting apartment 545 go find missed delivery notice 540 no not_out not_for not_delivery not_today knock', 'want bad', 'getting bad reviews', 'bad problems hon break us coming radio', 'saw today deal size', 'bad problems hon break us coming radio', 'sounds bad end', 'new one utterly useless travel colombia soon ordering requires 34 week wait', 'days thought id hate not_days not_into not_the not_iphone not_x size screen picking 7 already feels small comparison irritating though severity offangle shifting display concludes bens gadget review', 'want bad dont not_want not_the not_iphone not_x not_bad not_but not_i not_dont not_want not_a not_smaller not_phone want smaller phone', 'trolls keep saying horizontal video looks bad', 'agree justify since expensive slightly better camera', 'want bad', 'hate not_hate not_the not_iphone not_x not_already already', 'looks great', 'kid fools face id', 'bout ditching tho shit boring', 'embracing adapting controversial design hate not_the not_how not_are not_you not_adapting not_to not_the not_most not_controversial not_iphone not_x not_design not_i not_hate not_everything everything', 'multiple reported issues cracked screens bad audio', 'want bad broke', 'anyone heard good bad things looking upgrade next week', 'saw new apple store today screen seemed really dark', 'watch 10yearolds face unlock moms wired always thought bad idea', 'lot articles bad face recognition last every mistake may input next generation recognition model', 'want 8 bad', 'talking day odd notch top screen', 'hate not_hate not_it not_because not_its not_not not_on not_my not_iphone not_x not_right not_now not not_hate not_it not_because not_its not_not not_on not_my not_iphone not_x not_right not_now right', 'not not_not not_saying not_the not_iphone not_x not_is not_bad not_but not_i not_have not_a not_paper not_cut not_after not_holding not_one saying bad paper cut holding one', 'agree got 8 plus', 'still needs improvements', 'crazy many people dislike going 8 wow wow wow', 'contract ending due upgrade phone 8 expensive per month', 'much hate not_much not_as not_i not_hate not_the not_price not_and not_i not_want not_to not_return not_the not_iphone not_x not_back price want return back', 'people getting 8 instead feel like thats bad choice', 'expensive', 'everyone forgotten expensive since advent calendar', 'dropped 1 week review good bad experiences shared', 'guess experiencing lots problems feel bad whoever dropped rack phone', 'tweaking hate not_x not_be not_tweaking not_i not_hate not_it', 'unhappy swapped three delivery pushed back 3 times bad choice switching', 'way expensive plan right', 'saw front camera shit look bad', 'do do like dislike', 'apple really owe free bad phone glitching', 'apple worst update ever either yall seriously trying trick people getting yall seriously werent ready release new nothing works phone lags bad apple genius told', 'bad experience', 'want bad', 'phones waterproof', 'apples facialrecognition login system rather expensive', 'want bad way bank account set', 'bad ass swear worth paying grand', 'guess breaking even selling isnt bad', '10yearold unlocks face id mothers questionable mask spoofing surfaces hate not_unlocks not_face not_id not_on not_his not_mothers not_iphone not_x not_as not_questionable not_mask not_spoofing not_surfaces everything', 'hey casey know said hate not_casey not_i not_know not_you not_said not_you not_hate not_the not_top not_of not_the not_x not_and not_thought not_you not_should not_take not_a not_look not_at not_this not_video not_if not_you not_havent not_seen not_or not_heard not_about not_it not_already top thought take look video havent seen heard already', 'really hate not_really not_hate not_how not_legit not_they not_make not_the not_iphone not_x not_look not_physically legit make look physically really canceled shit', 'got ta say ive seeing lots hate not_say not_ive not_been not_seeing not_lots not_of not_hate not_on not_the not_x', 'hi bud came israel expensive much cost', 'kinda really want dont not_kinda not_really not_want not_the not_iphone not_x not_but not_i not_dont not_want not_to not_look not_like not_some not_rich not_ass not_kid not_that not_gets not_everything not_shoved not_up not_their not_ass want look like rich ass kid gets everything shoved ass id money worked dont not_kinda not_really not_want not_the not_iphone not_x not_but not_i not_dont not_want not_to not_look not_like not_some not_rich not_ass not_kid not_that not_gets not_everything not_shoved not_up not_their not_ass know', 'gon na', 'sugar daddy new christmas fuck independent woman', 'apple booked 4th promised get 23 days today 12th people say want get phone first speaker 38000 really upset apple expected looks like apple b', 'awesome explanation 7 plus confused whether not not_that not_is not_some not_awesome not_explanation not_i not_own not_iphone not_7 not_plus not_and not_was not_confused not_whether not_to not_buy not_iphone not_x not_or not_not sir saved least', 'thinking due joy cause right like without beautiful life', 'apple suffered loss', 'attempt feign innovation jumbling make feel like fresh no not_to not_feign not_innovation not_by not_jumbling not_the not_to not_make not_it not_feel not_like not_its not_fresh landscape shouldnt read 10 years using least steve prepped us w', 'face id screen square space tall phone sleeker smaller no not_iphone not_x not_is not_a not_would not_buy not_and not_the not_face not_id not_is not_the not_screen not_is not_the not_most not_square not_space not_and not_its not_tall outside screen', 'really wanted guy store said sucks trouble w guess get 8', '133 33 copies movie instead buying', 'really soon get back', 'lot shit far ipad pro 12 9 get everybody else clothes drawls', 'apple wasnt going went look couldnt resist love joy use old eyes needed bigger', 'make phone cases like yeah wan na', 'id like one impossible brazil highest price world please give', 'friend willing know yall', 'wish didnt not_wish not_i not_didnt not_have not_to not_wait not_a not_month not_for not_my not_iphone not_x not_to not_get not_here not_because wait month get', 'get free', 'love wish gotten', 'best freehold mall come get', 'available purchase', 'think said wouldnt get want', 'phone cracked little bit thats sign', 'planning get thinking 3 used girls do', 'shit late dey go no not_late ah', 'apple know new update making phone glitch purpose youre not not_i not_know not_this not_new not_update not_is not_making not_my not_phone not_glitch not_out not_on not_purpose not_youre not_not not_fooling not_me fooling not not_i not_know not_this not_new not_update not_is not_making not_my not_phone not_glitch not_out not_on not_purpose not_youre not_not not_fooling not_me buying fucking either suck dick actually like products dont not_i not_know not_this not_new not_update not_is not_making not_my not_phone not_glitch not_out not_on not_purpose not_youre not_not not_fooling not_me like bullshit do get p', 'airplane ticket wait next year get phone', 'ready drop apple products working fine update apple creating bugs like battery life issue get us 8 jokes', 'want please', 'played today 3 minutes needless say', 'do not not_not not_buy not_the not_x not_its not_a not_piece not_of not_over not_priced not_shit not_get not_the not_pixel not_2 piece priced shit get pixel 2', 'ive decided really want apple store though get full experience anyone idea long itll theyre available', 'love amazing lulu friends obviously first thing do make poop', 'bro selling one get one free gift card one today lord help', 'available love even extra data us', 'grandma offered yesterday like couldnt phone wait start messing', 'someone please tell cousin india ive never not_please not_tell not_me not_why not_my not_cousin not_in not_india not_ive not_never not_talked not_to not_calls not_me not_on not_just not_tell not_me not_to not_buy not_him not_an not_iphone not_x not_excuse not_me not_but not_does not_money not_grow not_on not_trees not_where not_to not_get not_one not_of not_those not_trees talked calls tell excuse money grow trees get one trees', 'still want wan na get look phones anything wish get pixel 2 camera', 'really love', 'wish offer deal sams club gift card purchase today', 'real shit', 'r still deciding done doesnt get better', 'get adult llama people dumb', 'cant believe morons actually feel like apple telling set heart', 'hi big big big big fan apple 10 years old', 'impulse buyer guy went today utterly disappointed played yea think got one wrong phone 8 seemed really nice though', 'new love love dream phone get golden star fest', 'fucking needs better durability 2 ft fucking fall ground fucking flop breaks apart got damn thing sure gon na cost fix love products w', 'like saliva', 'finally got play local apple store size nice wish se dimensions', 'literally want home button headphone jack dont not_if not_you not_want not_a not_home not_button not_and not_a not_headphone not_jack not_dont not_buy not_an not_x not_go not_get not_the not_6 go get 6', 'yall want nervous get one nice face id works think wont notch nonissue nothing keyboard good call inuse screen nice w no not_who not_want not_an not_iphone not_x not_but not_are not_nervous not_about not_it not_should not_get not_one issues prefer no not_who not_want not_an not_iphone not_x not_but not_are not_nervous not_about not_it not_should not_get not_one home button dont not_who not_want not_an not_iphone not_x not_but not_are not_nervous not_about not_it not_should not_get not_one think', 'hate not_hate not_how not_apple not_purposely not_dropped not_my not_iphone not_today not_to not_get not_me not_to not_buy not_a not_new not_x apple purposely dropped today get new', 'want get thanks enabler anyone want 7', 'purchase doesnt come store till december use 8 til kinda like 8 get plus refund', 'apple yall trying get ride dies better believe', 'post made confident choice not not_post not_made not_me not_confident not_in not_my not_choice not_to not_not not_buy not_the not_x not_the not_other not_day day se everything', 'wow wish rich decide dont not_i not_wish not_i not_was not_as not_rich not_as not_where not_i not_could not_buy not_an not_iphone not_x not_the not_decide not_i not_dont not_like not_it not_and not_buy not_another not_new not_iphone not_pay not_my not_student not_loans like another new pay student loans', 'went w 8 plus ive never not_went not_w not_the not_8 not_plus not_because not_ive not_never not_had not_the not_plus not_version not_of not_an not_iphone plus version also', 'people complain like fuck did', 'wish money get', 'wish jailbreak accessible get battery percentage different way access control', 'besides concerns terrible customer service', 'tho like dis wish', 'get keep 7 newer apple watch', 'nigga tried hardest get', '', 'also apple way behind comes technology phones face id nice samsung two years ago also screens couldnt even produce samsung put', 'looks like rather get newest know not not_looks not_like not_it not_i not_would not_rather not_just not_get not_the not_newest gon na long come w something', 'someone cause awesome', 'rt trying get man think itll easier', 'trying get man think itll easier', 'dont not_buy not_the not_x', 'tmobile couple getting try get adopted wish luck', 'man checked dont not_i not_checked not_out not_the not_iphone not_x not_but not_i not_dont not_think not_i not_can not_go not_back not_to not_a not_smaller not_phone think go back smaller phone', 'saw someones man think got ta keep rolling w like screen cant play no not_just not_saw not_someones not_x not_and not_man not_i not_think not_i not_gotta not_keep not_rolling not_w not_my not_like not_the not_screen not_is not_the not_same not_but not_i not_cant not_play not_no not_tiny not_phone not_game not_a not_grown not_woman tiny phone game grown woman well see well see', 'think actually see tree clearly', 'somebody', 'nominate youre best', 'yup time get new save w unlimited everything netflix included', 'think time picture looks like taken polaroid', 'choice spend get list', 'temptation money', 'really go sprint look 8 play w see one really want cause hearing mixed reviews', 'pathetic seriously', 'debt collectors calling asking trying get', 'like please', 'wish get least', 'thats ridiculous looks like break', 'like', 'awesome', 'black friday one get one', 'reason play around emojis seems fun', 'never not_have not_never not_won not_anything not_ever not_in not_my not_life won anything ever life never not_have not_never not_won not_anything not_ever not_in not_my not_life owned apple device really wish get many friends hope win least something want experience like win', 'nice', 'get free 8', 'understand youre probably making phones work like hell us dont not_understand not_youre not_probably not_making not_all not_our not_phones not_work not_like not_hell not_so not_we not_buy not_the not_iphone not_x not_but not_some not_of not_us not_dont not_have not_that not_kind not_of not_money not_and not_are not_also not_extremely not_loyal not_to kind money also extremely loyal', 'almost swore another looks like worth gamble', 'wish get samsung 8 camera runs', 'black friday deal get galaxy note 8 purchase', 'dilemma decide', '', 'bro tell get friend do speed test vs note 8', 'spend cheaper get flight america one', 'feel expensive', 'god wish get quicker december 1 back orders thing', 'busting ass trying get many hours work see people youtube drop scratch test', 'many christmas presents', 'ive full day w face id pretty amazing fast tech uses almost forget phone blazing fast', 'hey post video 7', 'trap get newest did love charging day', 'maybe slowing get', 'like going apple headquarters see look like want look original', 'wish bigger like size plus', '6 plus since ive tried get plus range hope bring plus do year two one poor man', 'cause broke fuck', 'glad didnt not_i not_didnt not_hit not_that not_iphone not_x not_i not_was not_going not_to not_buy not_one not_in not_january not_but not_now not_ill not_just not_wait not_till not_next not_fall not_to not_get not_the not_bigger not_one hit going one january wait till next fall get bigger one', 'brothers aus mobile plan get 256', 'gon na get plus comes next year w 10 5 display everything gets worked', '26 yr cant', 'whats going apple stores selling higher prices selling combining apple watch something else compelling lucknow', 'trying go w home button love apple personally shit wack', 'do better prepared one job feel like trying happy birthday', 'want tax refund leaving', 'like wan na spend rack', 'someone see fixed battery dying every 10 minutes problem get back thanks', 'ask people phone', '7 plus store playing note 8 note 8 blew away love glad purchased complaint', 'like say pray', 'please love like love kids', 'want dont not_want not_the not_iphone not_x not_but not_dont not_feel not_like not_waiting not_for not_it not_i not_want not_the not_gold not_8 not_plus not_too not_what not_im not_gonna not_do not_because not_i not_already not_have not_the not_7 not_plus not_and not_thats not_basically not_the not_same not_as not_the not_8 not_but not_i not_love not_the not_color not_im not_terrible not_i not_wish not_the not_8 not_was not_a not_full not_screen not_like not_the not_x feel like waiting want gold 8 plus gon na do already 7 plus thats basically 8 love color terrible wish 8 full screen like', 'wish somehow get mother really want phone real', 'love everything except horrendous sound issues w', 'want see size first', 'apple really thinks get slowing phone right causing glitch theyre absolutely right take money', 'never not_why not_you not_never not_buy not_the not_first not_batches not_of not_anything not_new not_the not_iphone not_x not_freezes not_when not_its not_cold not_like first batches anything new freezes cold like', 'really want going though whatever phone get', 'wan na dont not_wanna not_buy not_the not_iphone not_x not_but not_dont not_wanna not_wait not_till not_january not_to not_get not_it wan na wait till january get', 'every update 6 gets slower like apple want something', 'want do get paid', 'really not not_not not_buy not_an not_8 not_i not_need not_an not_x not_unlocked 8 unlocked', 'get tech father keep prayers', 'flagship phones chose pixel 2 wasnt reason get want rejoin apple ecosystem everything got new flagship phone w contract', 'like not not_this not_is not_not not_going not_to not_make not_me not_buy not_iphone not_x going make not not_this not_is not_not not_going not_to not_make not_me not_buy not_iphone not_x thousand dollar fix', 'go today', 'no not_way not_girl way girl future remember rest following next year like', 'hey everyone broken going get fix dont not_everyone not_my not_is not_broken not_am not_going not_to not_get not_it not_fix not_or not_buy not_the not_iphone not_x not_i not_dont not_know know', 'someone make cute talking emoji videos lily', 'hands camera screen nice', 'want remove dont not_would not_you not_want not_to not_remove not_the not_if not_you not_dont not_like not_it not_why not_buy not_the not_iphone not_x like', 'better phone outright go another contract ends like 5 months want', '', 'doesnt do ask wendy one', 'guys really shouldnt year wait next year refine new design language get piezoelectric fingerprint reader work', 'loved weeks totally agree great device think like screen size screen not not_this not_weeks not_i not_totally not_agree not_with not_you not_on not_the not_iphone not_x wide enough wish wide', 'wan na wig since adult not not_wanna not_buy not_this not_wig getting', 'paychecks wanted talking pushing spending money loved ones nice awesome things', 'get tiny amount satisfaction seeing commercials knowing not not_get not_a not_tiny not_amount not_of not_satisfaction not_seeing not_all not_of not_the not_iphone not_x not_commercials not_knowing not_im not_not not_gonna not_buy not_it gon na', 'usually not not_usually not_not not_interested not_in not_the not_new not_phones not_or not_like not_still not_living not_w not_my not_iphone not_se not_which not_is not_like not_a not_5 not_but not_for not_some not_reason not_i not_need not_the not_iphone not_x interested new phones like still living w se like 5 reason', 'dont not_dont not_have not_an not_x not_but not_i not_bet not_apple not_made not_the not_like not_this not_as not_a not_marketing not_scheme not_to not_get not_to not_buy not_more not_of not_the not_new not_product bet apple made like marketing scheme get new product', 'sugar mommy', 'apple swear motherfuckers bugged phone get', 'do people get', 'looks like got ta', 'wish came plus', 'seeing high quality pictures videos like wish', 'people change expensive like 2 4 months today really spoiled change 7 7 plus 8 months going wait plus next year tho', 'hi looking cases going get build commuter one possibly add white rubber piece', 'yes going encourage employer staff stop taxation criminal justice system collapse cabinet ministers dont not_i not_am not_going not_to not_encourage not_my not_employer not_and not_all not_staff not_to not_stop not_taxation not_so not_that not_the not_and not_criminal not_justice not_system not_can not_collapse not_so not_i not_can not_buy not_an not_x get paid either', '11 apples way make hate not_is not_way not_to not_make not_me not_hate not_my not_iphone not_6 not_so not_much not_that not_i not_need not_to not_go not_buy not_an not_iphone not_x 6 much go', 'wait second generation like 8', 'talking finally allowed sell indonesia get one', 'anybody 8 plus dm let know like phone wish wouldve gotten one cant decide one want', 'sugar daddy', 'thing work art awesome however tall', 'kinda really want dont not_kinda not_really not_want not_the not_iphone not_x not_but not_i not_dont not_want not_to not_look not_like not_some not_rich not_ass not_kid not_that not_gets not_everything not_shoved not_up not_their not_ass want look like rich ass kid gets everything shoved ass id money worked dont not_kinda not_really not_want not_the not_iphone not_x not_but not_i not_dont not_want not_to not_look not_like not_some not_rich not_ass not_kid not_that not_gets not_everything not_shoved not_up not_their not_ass know', 'expensive cost', 'do think hate not_do not_you not_think not_of not_the not_x not_hate not_it not_apple not_copied not_but not_made not_and not_uglier apple copied made uglier', 'poor thing cant find proper retort lose like flagship vs hopefully next year google introduce useless features slash prices maybe make fun apple commercials wont work though', 'liked video hate not_liked not_a not_video not_iphone not_x not_why not_i not_hate not_this', 'touch screen unresponsive', 'hate not_i not_hate not_wait not_almost not_a not_month not_receive not_my not_iphone not_x wait almost month receive', 'bad reviews la', 'want bad fuck', 'new version sadly vulnerable took little 8 seconds kill lightning port making new useless', 'want pixel 2 really bad perfectly content se', 'hate not_the not_iphone not_x not_theres not_an not_app not_for not_that theres app spoken edition', 'know multiple returned apparently say felt like downgrade one specifically cited ass face print shit', 'hate not_hate not_that not_the not_x not_got not_a not_plus got plus', 'wait deal no not_deal not_or not_no not_i not_hate not_commercials not_i not_care not_ab not_the not_iphone not_x hate not_deal not_or not_no not_i not_hate not_commercials not_i not_care not_ab not_the not_iphone not_x commercials care ab', 'like hate not_like not_the not_x not not_like not_the not_x pressing home button', 'sister got want bad', 'want bad', 'life bad', 'wow every one school talking 10', 'looks like samsung hate not_iphone not_x not_looks not_like not_a not_samsung', 'switch phone boring already', 'apps finally gon na adjust resolution hate not_are not_these not_apps not_finally not_gonna not_adjust not_to not_the not_resolution not_of not_the not_iphone not_x not_i not_hate not_using not_some not_apps not_now not_that not_dont not_take not_up not_the not_entire not_screen using apps dont not_are not_these not_apps not_finally not_gonna not_adjust not_to not_the not_resolution not_of not_the not_iphone not_x not_i not_hate not_using not_some not_apps not_now not_that not_dont not_take not_up not_the not_entire not_screen take entire screen', 'looking getting high accuracy radial velocity planet searcher guessing less expensive new', 'youre not not_not not_the not_only not_person not_ive not_heard not_this not_from person ive heard guessing thats shipping estimates keep improving people starting realize not not_not not_the not_only not_person not_ive not_heard not_this not_from worth hype sorry hear bad experience', 'want bad', 'awesome awesome perfect life video sick dont not_x not_awesome care expensive awesome doesnt feel worth got mine free tho', 'bad do want', 'want bad almost went got today thats much money man funds real low', 'pissed hate not_so not_pissed not_this not_is not_why not_i not_hate not_ordering not_shit not_online not_now not_i not_cant not_change not_my not_payment not_method not_for not_the not_iphone not_x not_so not_now not_yall not_are not_cancel not_my not_order not_and not_ill not_have not_to not_wait not_even not_longer not_if not_i not_want not_to not_get not_one ordering shit online cant change payment method yall cancel order wait even longer want get one', 'yeah selling expensive item well think spend even starbucks dont not_is not_selling not_an not_expensive not_item', 'online reviews become boring watch', 'hate not_i not_hate not_return not_my not_apple not_iphone not_x not_10 not_back not_to not_best not_11 not_via return apple 10 back best 11 via', 'bad cant wait get', 'get screen bigger', 'want bad cant justify spending', 'people complain expensive lure people', 'apple making hate not_making not_me not_hate not_iphone not_x', 'wanted ive heard bad things good', 'seems useless since people afford pay people get list shirt', 'want bad wont one unless', 'patiently waiting almost week ship bad phone spider web app thing', 'hate not_hate not_the not_damn not_iphone not_x damn', 'hate not_hate not_myself not_even not_though not_i not_say not_done not_with not_apple not_i not_cant not_help not_but not_to not_want not_to not_buy not_the not_new not_iphone not_x even though say done apple cant help want new', 'way invoke control center killing id go far say hate not_way not_you not_invoke not_control not_center not_is not_killing not_me not_on not_iphone not_x', 'get funding january one paintings feel real expensive', 'want expensive cant even take pictures phone anymore', 'shit getting bad worst', 'want bad', 'deck gear get free discount', 'want bad', 'looks fucking bad whoever designed fucking idiot also people went along little top camera', 'returned 3 getting 3 tracking saying w delivered signed tm says 1 terrible rep no not_returned not_3 not_after not_getting not_3 not_x not_and not_have not_the not_tracking not_saying not_they not_w not_delivered not_and not_signed not_for help first time bad cs please help', 'tested person not not_iphone not_x not_in not_person bad still think samsung beat apple game galaxy half year older device still superior terms overall feel', 'yeah new phone real bad really want camera considering breaking first time since came google phone save 150 every little bit helps insane prices', 'actually true expensive', 'man get break face', 'found go get pretty much free wonderful news', 'get thanks', 'see want order way car payments set', 'get notified availability apple stores australia', 'returned like', 'gon na get doesnt look worth extra honest get new every 12 months time plan hoping something amazing looks beautiful', 'cant wait able order new phone pronto', 'economical like note last time checked price', 'look reviews', 'tim gave option 8 get 8 kids break fast', 'georgia said 12 dont not_just not_said not_you not_are not_12 not_and not_that not_u not_dont not_need not_the not_iphone not_x', 'know get changing avatars heap feces', 'get', 'praying something doesnt exist screaming want literally nothing', 'praying something doesnt exist screaming want literally nothing', 'want', 'biggest problem developers going redesign', 'want', 'okay okay okay fucking tired phone slow thrown floor many times acting yall arent rich enough new 8', 'even ex hell', 'nice', 'birthday tomorrow really want anyone struggling think get', 'sprint many get free', 'hard yall try hype wont purchase first smaller plus already turn', 'thing like', 'want', 'makes 7 look like android', 'ordered dont get til dec', 'really considering getting', 'attempt 3 cant find return label send tradein already get another', 'complaint wish big', 'far pretty let switch apps consistently freeze', 'know love', 'actually upsetting sick looks considering never not_actually not_upsetting not_how not_sick not_the not_x not_looks not_considering not_never not_buy not_it', 'liked video dont not_liked not_a not_video not_dont not_buy not_the not_x', 'takes nice pix fantasy springs resort casino', 'getting', 'moment help get bring en casa', 'thinking switching something like', 'promised phone tomorrow receive text couple hours later saying wait even longer youre making false promises get sales current phone hardly works desperately needs replacing', 'love missing launch day transit 6 days help', 'really want bad guess wait wedding', 'want bad', 'apple really exited use new no not_really not_exited not_to not_use not_the not_new not_x not_but not_no not_money not_to not_buy not_it money', 'played bit today not not_played not_with not_the not_iphone not_x not_for not_a not_bit not_today not_and not_not not_that not_it not_needs not_to not_be not_any not_more not_expensive needs expensive', 'kinda want', 'love new', 'opinion like competitors specs camera way good photographers take', 'mean incredible fix shit', 'think want', 'love', 'mom since 2 4', 'want refuse pay 1', 'sad spent much money wait three weeks get', 'yall like 8', 'real one', 'liked video 5 things love', 'dont know want keep getting pulled either way', 'excited get next month', 'hello got did get used narrower', 'yall like 8', 'well live new faster pulling cave usually get', 'want camera', 'hard get tho realistically', 'fantastic device', 'trying decide get 8', 'convincing dont not_convincing not_myself not_that not_i not_dont not_need not_to not_upgrade not_but not_now not_the not_iphone not_x not_is not_out upgrade', 'placed order 2nd get', 'much wan na prove point', 'thank really appreciate assistance supposed pick dont not_you not_i not_really not_appreciate not_your not_assistance want wait till tomorrow', 'ordered cant wait get rid shitty phone', 'not not_not not_on not_your not_level not_ill not_get not_you not_the not_iphone not_x not_plus not_when not_i not_t not_comes not_out level get plus t comes', 'like actually held one money anyone getting one', 'awesome tips', 'want', 'apple working fix bug causing display become temporarily unresponsive cold weather hate not_working not_on not_fix not_for not_bug not_causing not_iphone not_x not_display not_to not_become not_temporarily not_unresponsive not_in not_cold not_weather everything', 'damn got wait december get', '', 'love amazing photos seeing check stunning work 28771583723823104', 'decided gone first didnt care either camera', 'small dont want', 'tim cook love amazing photos seeing check stunning work 28771583723823104', 'really enjoying using hotel room key nyc love capability', 'went see upgrading either pay wait till get wait till get free', 'preferred 8 plus debating get next phone seems small', 'cant wait get activated turn twitter', 'really want spoil', 'yesterday didnt want pay dinner today bought think well', 'noticed issues not not_you not_noticed not_an not_issues not_with not_the not_iphone not_x not_not not_recognizing not_touch not_in not_cold not_like not_26 not_degrees not_cold recognizing touch cold like 26 degrees cold', 'mom offered get new much mess get', 'new pro', 'want want save money', 'legit reason ever', 'like last time say phone gon na early december scare getting black still ordered bitch coming whole month early', 'want', 'latest version clips make want', 'cant wait get', 'yeah dude', 'still love', 'makes want', 'apple fanboy never not_apple not_fanboy not_and not_i not_never not_thought not_i not_would not_say not_this not_but not_i not_hate not_the not_iphone not_x thought say hate not_apple not_fanboy not_and not_i not_never not_thought not_i not_would not_say not_this not_but not_i not_hate not_the not_iphone not_x small hands', 'not not_the not_iphone not_x not_is not_not not_like not_the not_letter not_its not_really not_iphone not_10 like letter really 10', 'gon na', 'brightness good', 'got notified morning card charged order hopefully means get estimated nov 1724 delivery least earlier side', 'handson time friends feels like amazing device', 'ship', 'fucked messing best really really want one id rather spend keep 6', 'executive summary diary piece almost week still love', '', 'trying get use wish came plus size big ass hands', 'went get today 15 minutes', 'justified purchase single picture wow', 'not not_not not_upgrading not_to not_shit not_but not_that not_iphone not_x upgrading shit', 'kid walked class prof front room presenting like show n tell', 'did not not_did not_not not_want not_an not_iphone not_x want', 'abroad', 'asap', 'camera', 'disappointed didnt work since get tried everything recommended website', 'bad investment expensive repair made probably likely break material', 'brother go get whole', 'pretty', 'yall go ahead get thing beautiful', 'wanted say love 8 plus', 'want christmas deb ziegler benton', 'dont want theres plus good 8', 'take pic', 'still getting used layout like though', 'love thread asap', 'guess youll new', 'plus size available definitely satisfied', 'dad went bought get hands', 'like wanting given nokia 402', 'somehow managed get launch day ive almost week', 'see people taking pics camera want', 'not not_about not_iphone not_x not_im not_not not_getting not_an not_iphone not_x not_but not_just not_like not_to not_look not_at not_cases not_for not_it getting like look cases', 'expensive doesnt parts cost', 'love', 'apples best phone apples expensive new lot going', '7 plus didnt not_iphone not_7 not_plus not_i not_didnt not_want not_to not_get not_the not_8 not_or not_x want get 8', 'happy got almost week late worth wait', 'thinking updating still love app damn much', 'not not_gonna not_but not_i not_love not_the not_way not_this not_wallpaper not_looks not_on not_my not_iphone not_x gon na lie love way wallpaper looks', 'ive ordered wot r chances get', 'really want jet white sick', 'camera good makes feel like photographer', 'no not_its not_bad not_and not_will not_promote not_a not_lower not_standard not_of not_living bad promote lower standard living like car way not not_its not_bad not_and not_will not_promote not_a not_lower not_standard not_of not_living allow innovation no not_its not_bad not_and not_will not_promote not_a not_lower not_standard not_of not_living historical evidence socialism communism lifted poverty none', 'seen google trying figure organs dont really', 'comes tomorrow', 'love named', 'disappointed like honestly', 'thinking going get 7 plus isnt good enough', 'gon na fuck around get', 'looking like motive', 'anything', 'think may try go get shower', 'damn kinda sorta', 'front cameras portrait mode makes look like youre taking selfies heaven', 'ordered today always nice feeling know youve got new piece technology way', 'dont think app breadcrumb good', '', 'literally trying every single situation possible get want bad know figure', 'used', 'good idea expensive', 'rather get 8', 'really cant get beautiful clear screen looks held archaic', 'sucks hate not_i not_hate not_it not_so', 'phone perfectly fine still want', 'get itll cost bank', 'really want like cause good camera', 'wont not not_is not_why not_i not_wont not_and not_will not_not not_buy not_a not_iphone not_x', 'want fucking already long take get phone', 'joy use', 'tempted get 6 aint never not_to not_get not_this not_iphone not_x not_but not_my not_6 not_aint not_never not_did not_me not_wrong did wrong', 'damn want', 'want', 'not stop watching videos really want', 'want galaxy note 8', 'talking emojis make wan na get', '5 bucks', 'expensive ipad pro', 'want not not_the not_x not_but not_not not_willing not_to not_spoil not_myself not_and not_bust not_into not_my not_savings not_account not_to not_buy not_it willing spoil bust savings account maybe', 'got 7 plus want', 'portrait mode data center loves come get way', 'get instead', 'get christmas god bless', 'expensive', 'look like android', 'want', 'love', 'get worth', 'damn want', 'didnt move like thought held hands like simba lion king', 'not stop watching videos really want', 'want galaxy note 8', 'talking emojis make wan na get', '5 bucks', 'expensive ipad pro', 'want not not_the not_x not_but not_not not_willing not_to not_spoil not_myself not_and not_bust not_into not_my not_savings not_account not_to not_buy not_it willing spoil bust savings account maybe', 'got 7 plus want', 'get instead', 'ive thinking order plan tomorrow like 40 month 30 months also phone plan 90 month 30', 'get christmas god bless', 'expensive', 'want', 'love', 'get notified availability apple stores australia', 'get', 'ive like 3 hours already', 'get worth', 'babe get honestly seems way better', 'get', 'trying get ordered told not order business said wouldnt let tried get ipad well told cant ordered also none stock nothing do', 'sprint telling get 8 aggressively phone freezing sudden phone companies collective scammers', 'liked video never not_liked not_a not_video not_never not_buy not_an not_iphone not_x not_off', 'looked today not not_at not_the not_iphone not_x not_today not_and not_its not_not not_bad bad', 'ridiculous happens every update did way get', 'wireless charging pad bought came today fuck modern day magic like future love', 'reservation come 3 weeks early nice hoping time make mind whether want not not_iphone not_x not_reservation not_has not_come not_in not_3 not_weeks not_early', 'samsung advertising note 8 iris scanning fingerprint scanning face id thats face protect best phone world', 'trouble filling passwords via extension log', 'want', 'ordered everything', 'dont not_you not_dont not_need not_an not_iphone not_x not_or not_any not_other not_expensive not_new not_phone expensive new phone', 'showing us yall really look like', 'really want send bf', 'fuck time get', 'let first tell hype around real thing awesome', 'did get yet got ups tracking number getting week nov 17', 'chinese dont not_chinese not_dont not_need not_iphone not_x', '928252802505367552', 'got ta get', 'aint dry', 'want', 'bout do spring garden get', 'feels like longest weeks', 'wish get', 'really think want', 'want ship already', 'breakable expensive ever made', 'whos think good look jesus', 'really wish bigger', 'well didnt want do', 'get tomorrow', 'camera good', 'well get', 'honestly want try portrait mode new', 'even though ridiculously expensive', 'glitch apple plan us 8', 'want', 'resolution actually thing really wanted phone happy really nice', 'cant wait get', 'do really want', 'almost certainly tiniest awesome feature', 'picked apple done thing everything came looks like utter shit product development finest', 'giant company like apple not not_giant not_company not_like not_apple not_can not_not not_accelerate not_the not_production not_of not_iphone not_x accelerate production', 'think notch smart marketing move makes device easy identify wild like red dot new apple watch', 'get app update', 'couldnt wait fixed got ta rock cracked 7 bit fuck aint bad damn', 'legit dont know whether get nah looks weird', 'great cause edit selfies like 20 seconds make look like took', 'want bad refuse pay 1500', '', 'get', 'saw today wish bigger', 'want bad', 'okay may not not_i not_may not_not not_like not_but not_if not_anyone not_has not_an not_iphone not_x not_i not_wanna not_see not_it not_just not_for not_the like anyone wan na see', 'get', 'love forever arrives tomorrow', 'gon na get soon', 'ugh want bad', 'want', 'nigga said gon na december like mean next', 'looks nice dumb theres no not_looks not_nice not_but not_its not_so not_dumb not_theres not_no not_aux not_cord not_and not_just not_like aux cord like expensive', 'never not_should not_have not_never not_put not_my not_hands not_on not_an not_iphone not_x put hands', 'save money get 8 go 6', '', 'att one get one', 'not not_sure not_what not_phone not_from not_4 not_years not_ago not_comes not_close not_to not_the not_x not_in not_terms not_of not_design sure phone 4 years ago comes close terms design seems like youre jealous beat android screen reaches 4 corners galaxys still plagued massive foreheads', 'wan na get said plus like 5 months got ta wait', 'think gon na go ahead get', 'hate not_hate not_how not_no not_iphone not_x not_plus no not_hate not_how not_no not_iphone not_x not_plus plus', 'love', 'isnt bad looking consider', 'fuck not not_for not_not not_having not_enough not_x not_i not_want not_that not_shit not_now not_not not_4 not_weeks not_from not_now enough want shit not not_for not_not not_having not_enough not_x not_i not_want not_that not_shit not_now not_not not_4 not_weeks not_from not_now 4 weeks', 'do get 8 wait come mail couple days', 'wish made plus', 'thing dont like per month 24 months', 'wish wasnt ugly cause nice features', 'want', '11 things know', 'get new one', 'want hot new 3 product messaging lessons youve probably already absorbed', 'saw person pretty much easier hold hands 8 plus still satisfied mine get 2nd gen next year', 'dont not_you not_dont not_need not_an not_iphone not_x not_any not_other not_expensive not_new not_phone not_via expensive new phone via', 'want bad', 'hello got', 'course mom get apple watch day', 'actually apple made deal samsung manufacture display even though powerful outdated', 'makes really want', 'go sprint store tell 64 gb get brings 256 gb instead says mistake seems didnt care drove nothing thanks breaking heart', '8', 'phone guess reason get', 'still talking crummy ass get', 'delivered doorstep like', 'think gon na get next month way set', 'quite mad smaller nephew did made like', 'stop wanting dumb wont lie though sure looks cool', 'want', 'liked video everything know wireless charging 8', 'get new razor new', 'apple design chief time hate not_design not_chief not_iphone not_x not_will not_and not_over not_time everything', 'liked video 8', 'want plus tired 7', 'finally held pixel 2 difference feel hand crazy pixel feels like toy feels luxurious', 'confirm hype shattered phone morning', 'want', 'get today', 'do like', 'want bad', 'everyone telling get new apple store picking store checked site got', 'got', 'huge deal', 'dont like lot app doesnt fit whole screen feel like using ipad', 'want', 'buying christmas feels like', 'know hes trying get birthday please dont waste money', 'ready get', 'daddy dont want get regular 8 plus no not_daddy not_dont not_want not_to not_get not_me not_the not_iphone not_x not_just not_the not_regular not_8 not_plus not_no not_nigga not_we not_twins not_what not_you not_get not_im not_getting not_try not_again not_sir nigga twins get getting try sir', 'hows everyone like', 'really wanted get actually', 'send username 5 people follow running 2 place get 8', 'fucking nice', 'want make sure get soon possible please send us pm look', 'love bro', 'simple', 'sell 7 plus', 'dont even canon camera get', 'get get 8 man', 'like big phones got 8 yesterday wanted nobody', 'quit playing get act damn fool like everybody else', 'takes nice selfies', '', 'dat', 'notch top screen driving crazy dont think get used thinking gon na go back 8 plus', 'news flip shit dont get tomorrow', 'sorry dont like small 8 way better', 'bought abba looking new phones ab', 'did take long start calling like gon na start using roman numerals ten apple making look stupid hell walking around getting new fuck 280', 'seeing bad reviews even though want next choice', 'thought wouldnt like due screen size slimmer longer 7 plus actually growing', 'face id one greatest features new', 'want', 'still better quality camera video 68 even old better 6 7 came love 7 inch camera 2015 no not_still not_has not_better not_quality not_camera not_and not_video not_then not_68 one acknowledge came well', 'love us', 'reason', 'offered decent monthly deal upfront cost telling no not_offered not_me not_a not_decent not_monthly not_deal not_for not_the not_iphone not_x not_but not_that not_upfront not_cost not_is not_telling not_me not_no', 'got little excited apple store last night posting today new increased twitter character count', 'did means order get number weeks', 'reason get', 'got 7 like four months ago want', 'want', 'get new phone get 8 theyre 1000 dollars', 'week get', 'hate not_i not_hate not_apple not_fanboys not_iphone not_x not_via apple fanboys via', 'no not_dont not_get not_the not_iphone not_x dont not_dont not_get not_the not_iphone not_x get', 'get 8', 'thats fair ive always android lazy dont not_fair wan na get used looks pretty damn sick tho', 'quality good every snap watching looks like android quality', 'get allnew gamechanging network unlimited', 'get today theres no not_get not_my not_iphone not_x not_today not_and not_theres not_no not_cute not_cases not_so not_this not_is not_good cute cases good', 'people wit keep stunting think got ta go get', 'get new 8 save', 'one', '9 yrs', 'someone do back van ting get', 'want christmas', 'wonder store app ever let anyone uk get upgrade waiting feels like lifetime', 'want mean like good portion savings gone new phone bad', 'stunt holiday pics', 'yeah', 'apple work hard pixel outshining portrait selfies bad bros back camera takes good one selfie portrait sucks', 'hate not_hate not_the not_iphone not_x text one handed put biscuit reply tweet never not_hate not_the not_iphone not_x put food not not_hate not_the not_iphone not_x happy', 'apple bad near mint condition 2309 40 bids', 'try screen expensive apple', 'low key hate not_low not_key not_hate not_my not_iphone not_and not_all not_my not_x not_too', 'hate not_how not_x not_cuts not_off not_headers cuts headers', 'apple oh xs models not not_why not_oh not_why not_on not_iphone not_x not_xs not_models not_can not_we not_not not_replace not_the not_almost not_useless not_battery not_icon not_with not_a not_percentage replace almost useless battery icon percentage', 'apple really hate not_i not_really not_hate not_the not_fact not_that not_i not_spent not_all not_this not_money not_on not_the not_iphone not_x not_for not_the not_camera not_to not_be not_so not_the not_camera not_is not_so not_much not_better fact spent money camera camera much better guys really disappointed', 'order download video first update itunes not updated update version os running people hate not_in not_order not_to not_download not_a not_video not_from not_my not_i not_first not_need not_to not_update not_itunes not_which not_cannot not_be not_updated not_until not_i not_update not_the not_version not_of not_os not_x not_that not_im not_running computers', 'hate not_hate not_when not_i not_someone not_and not_my not_screen not_give not_me not_the not_hang not_up not_option someone screen give hang option glitch', 'eh kinda bad charge 3 times day wake morning 6 drops 30', '8 popular expensive', 'cant relate cool features honestly hate not_iphone not_x not_cant not_relate not_with not_all not_those not_cool not_features', 'honestly hate not_honestly not_hate not_the not_iphone not_x', 'anyone hate not_anyone not_have not_the not_iphone not_x not_i not_hate not_mine not_a not_green not_line not_appeared not_on not_my not_screen not_and not_super not_annoying not_not not_going not_away not_no not_matter not_how not_many not_times not_i not_restart not_my not_phone not_and not_i not_just not_deal not_with not_it mine green line appeared screen super annoying not not_anyone not_have not_the not_iphone not_x not_i not_hate not_mine not_a not_green not_line not_appeared not_on not_my not_screen not_and not_super not_annoying not_not not_going not_away not_no not_matter not_how not_many not_times not_i not_restart not_my not_phone not_and not_i not_just not_deal not_with not_it going away no not_anyone not_have not_the not_iphone not_x not_i not_hate not_mine not_a not_green not_line not_appeared not_on not_my not_screen not_and not_super not_annoying not_not not_going not_away not_no not_matter not_how not_many not_times not_i not_restart not_my not_phone not_and not_i not_just not_deal not_with not_it matter many times restart phone deal', 'think people believe say hate not_think not_people not_believe not_me not_when not_i not_say not_i not_hate not_my not_x not_but not_like not_i not_genuinely not_hate not_this not_phone like genuinely hate not_think not_people not_believe not_me not_when not_i not_say not_i not_hate not_my not_x not_but not_like not_i not_genuinely not_hate not_this not_phone phone', 'users almost retarded well fuck spends 899 99 8 higher number went phone expensive got oh look got cost money sense', 'repair charges excruciatingly expensive', 'hate not_hate not_that not_iphone', 'apple downloaded latest update useless brick battery supped twice fast charge 3 times day instead thought given game', 'one sometimes sc image quality like bad sometimes', 'got worst luck phones 7 replaced screen like 4 times hate not_got not_the not_worst not_luck not_with not_phones', 'hate not_hate not_the not_iphone not_x not_camera camera', 'wow actually hate not_actually not_hate not_the not_iphone not_x not_front not_camera front camera', 'hate not_hate not_how not_quick not_the not_flashlight not_turns not_on not_the not_iphone not_x quick flashlight turns', 'really dislike use aux charger', 'hate not_the not_iphone not_x not_does not_anyone not_else not_screen not_shot not_peoples not_say not_if not_you not_turn not_the not_volume not_up anyone else screen shot peoples say turn volume', 'hate not_hate not_smartphones not_that not_do not_useless not_gimmicks smartphones do useless gimmicks like popping camera swiveling folding', 'think thing hate not_think not_the not_only not_thing not_i not_hate not_about not_having not_the not_iphone not_x not_is not_how not_much not_fucking not_space not_is not_wasted not_in not_my not_photos not_of not_all not_my not_accidental not_screenshots much fucking space wasted photos accidental screenshots', 'no not_cap not_i not_hate not_the not_iphone not_x cap hate not_cap not_i not_hate not_the not_iphone not_x', 'hate not_hate not_the not_face not_id not_on not_the not_iphone not_x face id', 'hate not_hate not_my not_x not_and not_my not_wife not_does not_too wife take longer unlock facial recognition swipe 7 plus thumb print recognition no not_hate not_my not_x not_and not_my not_wife not_does not_too swiping make sens', 'did quality still bad', 'bad agree', 'dislike layout information top screen range', 'honestly sucks bad', 'gon na do better damn phones 4 takes get hate not_need not_to not_do not_better not_with not_these not_damn not_phones damn phone soon insides outside glass back broken costing fix', 'one crisis one lightning port also charge go screwed apple ruining shit first new terrible falling apart keyboards useless touch bar', 'did new battery exchange works fantastic do not not_did not_the not_new not_battery not_exchange not_with not_my not_works not_fantastic not_again like nor expensive', 'think petty shit hate not_think not_about not_petty not_shit way series screenshot look', 'absolutely hate not_absolutely not_hate not_this not_iphone not_x not_camera camera', 'things want bad laptop maybe film camera', 'called find trade event ends apple customer service person know end even know started stop playing games bad customer', 'hate not_hate not_this not_black not_bar not_across not_my not_damn not_screen not_on not_this not_iphone not_x black bar across damn screen', 'battery life bad', 'starting hate not_to not_hate not_my not_iphone not_x', 'someone convince getting worth else think gon na make parents pay stupid phone makes feel bad', 'signal data still bad', 'levels month still expensive', 'hate not_hate not_the not_iphone not_x not_i not_almost not_dropped not_it not_and not_this not_in not_the not_process almost dropped process', 'literally thing hate not_the not_only not_thing not_i not_hate not_about not_the not_x not_series not_is not_the not_fucking not_screenshot not_mechanic series fucking screenshot mechanic', 'attack users giving us hate not_have not_to not_attack not_the not_iphone not_users not_for not_giving not_us not_hate not_cause not_we not_have not_bad not_camera not_quality not_when not_all not_the not_new not_phones not_have not_better not_camera not_quality not_than not_the not_iphone not_x not_like not_bro not_get not_a not_fucking not_grip not_your not_acting not_like not_the not_iphone not_has not_been not_around not_for not_thousands not_of not_years cause bad camera quality new phones better camera quality like bro get fucking grip acting like around thousands years', 'hate not_hate not_the not_x not_camera camera', 'want get samsung phone go back android hate not_have not_the not_x not_i not_want not_to not_get not_a not_samsung not_phone not_and not_go not_back not_to not_android not_but not_i not_hate not_iphone not_x', 'hate not_hate not_the not_iphone not_x not_stay not_censoring not_shit not_off not_my not_phone not_like not_a not_little not_ass not_kid not_or not_something stay censoring shit phone like little ass kid something', 'thing hate not_thing not_i not_hate not_about not_the not_iphone not_x not_is not_that not_i not_fucking not_charge not_my not_phone not_and not_listen not_to not_music not_at not_the not_same not_time fucking charge phone listen music time like bro no not_thing not_i not_hate not_about not_the not_iphone not_x not_is not_that not_i not_fucking not_charge not_my not_phone not_and not_listen not_to not_music not_at not_the not_same not_time headphones lose one week', 'use top taking pics everybody anytime went anywhere did anything camera changed hate not_use not_to not_be not_on not_top not_of not_taking not_pics not_with not_everybody not_anytime not_i not_went not_anywhere not_or not_did not_anything camera thing also', 'hate not_hate not_when not_people not_have not_x not_and not_their not_camera not_quality not_is not_bad people camera quality bad', 'one thing hate not_one not_thing not_i not_hate not_about not_the not_x not_is not_that not_it not_has not_no not_fingerprint not_sensor no not_one not_thing not_i not_hate not_about not_the not_x not_is not_that not_it not_has not_no not_fingerprint not_sensor fingerprint sensor', 'broken meltdown stuck apple logo know theres no not_x not_is not_broken not_and not_i not_am not_having not_a not_meltdown way fix also contract expensive even phone everything always go', 'one bad luck apple products', 'humble request apple company max expensive please do something reduce price promise people start buying make every people dream', 'blacked holding 1', 'got work today ever phones bad', 'thing dislike easy screenshot literally do time unintentionally', 'honestly hate not_honestly not_hate not_the not_quality not_of not_my not_iphone not_x not_front not_camera not_my not_8 not_is not_way not_better quality front camera 8 way better', 'hate not_hate not_for not_my not_iphone not_x not_is not_so not_real not_rite not_now not_it not_controls not_self not_i not_do not_anything not_on not_it not_so not_pissed real rite controls self do anything pissed', 'hate not_hate not_my not_x not_battery not_its not_at not_and not_totally not_shit battery totally shit', 'reduce pride humble', 'fucking hate not_fucking not_hate not_x', 'thought good idea something swipe bottom access seeing xs goes home screen do welcome new useless app', 'lunch looked around notice 10 people one upgraded kind hit bad apples sales right basically go clone streaming service', 'hate not_hate not_the not_way not_x not_videos not_look way videos look', 'hate not_hate not_to not_have not_this not_phone not_iphone not_x not_and not_get not_absolutely not_nothing not_should not_be not_like not_a not_bundle not_but not_without not_the not_included not_if not_you not_get not_what not_i not_mean phone get absolutely nothing like bundle without included get mean', 'bad thing facial id unlock wake morning looking mess cant recognize face', 'change seems decent tho expensive', 'oh far aware got increasingly expensive new model released sure went eventually', 'started android droid 1 2 since years contemplating switch samsung', 'newest made useless', 'ugh hate not_i not_hate not_when not_the not_iphone not_x not_face not_recognition not_work not_because not_wearing not_your not_ray not_bans face recognition work wearing ray bans', 'no not_no not_touch not_i not_hate not_it touch hate not_no not_touch not_i not_hate not_it', 'worst service ever experience little dust told clean rudely denied said people go expensive devices not not_service not_ever not_experience not_from not_little not_dust not_on not_my not_iphone not_x not_and not_i not_told not_her not_to not_just not_clean not_once not_and not_rudely not_denied not_and not_said not_you not_need not_to not_people not_go not_with not_expensive not_devices not_as not_they not_not not_even not_giving not_premium not_service not_to not_customers even giving premium service customers', 'said expensive looking selfie series make wan na selfie nokia 3310', 'piece shit never not_piece not_of not_shit not_iphone not_x not_never not_works not_with not_itunes not_on not_my not_fuck not_you not_for not_making not_shitty works itunes fuck making shitty', 'used hate not_used not_to not_hate not_iphone not_which not_gets not_autodisconnected not_on not_not not_receiving not_any not_from not_connected not_device not_within not_x gets autodisconnected not not_used not_to not_hate not_iphone not_which not_gets not_autodisconnected not_on not_not not_receiving not_any not_from not_connected not_device not_within not_x receiving connected device within', 'owns camera quality still bad', 'filed complain ship new one different color hate not_filed not_a not_complain not_about not_my not_iphone not_x not_so not_they not_can not_ship not_me not_out not_a not_new not_one not_a not_different not_color not_i not_hate not_the not_color not_i not_have not_but not_there not_was not_no not_more not_other not_and not_they not_told not_me not_they not_were not_shipping not_the not_same not_product not_ugh not_all not_the not_complaining not_for not_nothing color no not_filed not_a not_complain not_about not_my not_iphone not_x not_so not_they not_can not_ship not_me not_out not_a not_new not_one not_a not_different not_color not_i not_hate not_the not_color not_i not_have not_but not_there not_was not_no not_more not_other not_and not_they not_told not_me not_they not_were not_shipping not_the not_same not_product not_ugh not_all not_the not_complaining not_for not_nothing told shipping product ugh complaining nothing', 'create new old ones spending years apple disappointed released last one xs one much expensive closed one trading', 'surprised latest processor plus apple pencil like feel newer apple pencil hand since squared everything hate not_was not_surprised not_it not_has not_the not_latest not_processor face id half time hold close fails', 'hate not_hate not_this not_stupid not_x not_i not_listen not_to not_music not_and not_charge not_my not_phone not_at not_the not_same not_time not_i not_will not_not not_buy not_that not_stupid not_thing stupid listen music charge phone time not not_hate not_this not_stupid not_x not_i not_listen not_to not_music not_and not_charge not_my not_phone not_at not_the not_same not_time not_i not_will not_not not_buy not_that not_stupid not_thing stupid thing', 'cant use hate not_cant not_use not_this not_because not_i not_hate not_and', 'no not_offense not_but not_i not_hate not_the not_touch not_on not_an not_x offense hate not_offense not_but not_i not_hate not_the not_touch not_on not_an not_x touch bothers', 'take many unwanted screenshots max hate not_take not_so not_many not_unwanted not_screenshots not_with not_this not_iphone not_x not_max', 'fucking hate not_fucking not_hate not_the not_iphone not_x not_emergency not_notification not_system emergency notification system', 'bad display hard look', 'hate not_hate not_the not_notch not_in not_x notch', 'actually considering expensive', 'sometimes hate not_i not_hate not_my not_x', 'got max hate not_just not_got not_the not_iphone not_x not_max not_and not_i not_hate not_the not_speaker not_quality speaker quality f life', 'want bad broke dont not_want not_this not_so not_bad not_but not_broke not_and not_i not_dont not_even not_have not_an not_x not_to not_start not_with even start', 'say diehard apple loyalist anything laptops go pixel superior technology', 'waiting sell no not_waiting not_for not_an not_iphone not_x not_to not_sell not_for not_no not_matter not_how not_bad not_the not_condition not_is matter bad condition title still true', 'honestly really hate not_i not_honestly not_really not_hate not_the not_x not_designs designs', 'fuck battery sucking bad not', 'want bad', 'hate not_hate not_you not_iphone not_x not_niggas not_that not_dont not_shower niggas dont shower ass niggas dont brush teeth piss', 'thats hate not_it spending money fuck maybe couple weeks get apple watch', 'not not_everyone not_has not_the not_money not_to not_buy not_the not_real not_one not_an not_x not_is not_what not_i not_make not_in not_10 not_months everyone money real one make 10 months', 'funny mentioned comparisons worse note 9', 'main thing hate not_main not_thing not_i not_hate not_about not_this not_iphone not_x not_always not_taking not_screenshots not_of not_something not_unintentionally always taking screenshots something unintentionally', 'thats even hate not_what not_gives not_me not_even not_more not_i not_have not_the not_iphone not_x not_and not_i not_hate not_almost not_everything not_about not_it almost everything', 'samsung bad quality', 'want bad gon na stuck w another year truly gon na turn 5', 'fucking hate not_fucking not_hate not_the not_iphone not_x', 'want 8 plus back hate not_want not_my not_iphone not_8 not_plus not_back not_i not_hate not_this not_x not_shit shit', 'phone literally mess barley living getting phone hate not_phone not_is not_literally not_a not_mess not_and not_barley not_living not_but not_i not_getting not_a not_phone not_because not_i not_hate not_the not_iphone not_x', 'baby wanting bad one surprise', 'requires sucks us hate not_requires not_an not_iphone not_x not_or not_above upgrade', 'still feels nice software experience not not_x not_still not_feels not_nice good apple car play home screen boring', 'oh 12 isnt bad thing', 'dont not_you not_dont not_need not_an not_iphone not_x', 'glass back expensive replace screen', 'maybe like expensive like', 'app laptop lagging bad', '12 yr old get turning 13 next month make bad mom say yes help', 'yea used crazy amount problems max scans perfect almost sprint year think trade max forever itll like expensive bill', 'honestly still not not_honestly not_still not_not not_over not_how not_bad not_the not_quality not_of not_photos not_is not_on not_the not_iphone not_x bad quality photos', 'really starting hate not_really not_starting not_to not_hate not_this not_iphone not_x screenshots stuff worst possible times like', 'two kids come wearing clothes tims chains watch kids share air pod shit expensive bet share whats wrong world', 'hate not_hate not_the not_way not_screenshots not_look not_on not_an not_x not_its not_so not_annoying way screenshots look annoying', 'hate not_have not_the not_iphone not_x not_and not_i not_hate not_it camera get', 'not not_not not_an not_person person', 'look freaking expensive especially', 'went difference crazy hate not_just not_went not_from not_an not_iphone not_x not_to not_an not_and not_the not_difference not_is not_crazy relationship', 'lets honest looks pretty bad didnt know top', 'takes amazing pics even blurs background like super expensive cameras market', 'hate not_hate not_how not_sensitive not_the not_x not_is sensitive', 'keep getting uglier uglier like 7 look bad camera disgusting', 'absolutely fucking hate not_absolutely not_fucking not_hate not_this not_game game throw bitch ass across fucking room whole ass new phone soul purpose playing ss bc bitch ass home bar ass phone fucking annoying killing someone', 'fucking hate not_have not_an not_x not_i not_fucking not_hate not_you not_so not_much not_right not_now much right', 'no not_x not_no not_credit credit', 'really hate not_really not_hate not_the not_lack not_of not_a not_home not_button not_on not_the not_iphone not_x lack home button want go back se like way way better fact', 'theyre expensive though wan na cry like', 'want feel bad', 'not not_x not_is not_not not_that not_bad not_the bad', 'fucking hate not_fucking not_hate not_x not_i not_screen not_shot not_shit not_i not_dont not_mean not_to not_all not_the not_time screen shot shit dont mean time', 'samsung screens expensive made like screens', 'amazed much see public days absolutely amazed people 1000 dollar phones subsidized expensive phone plans see home button', 'looks like commercial yes expensive', 'camera quality looks trash next hate not_camera not_quality not_looks not_so not_trash not_next not_to not_an not_x poor', 'apple hey brand new expensive cant even play streams not not_hey not_why not_does not_your not_brand not_new not_expensive not_iphone not_x not_cant not_even not_play not_streams not_on not_it good phone', 'unpopular hate not_i not_hate not_the not_iphone not_x not_models not_yet not_i not_wont not_get not_another not_phone models yet wont get another phone', 'want bad', 'anyone explain incredibly expensive randomly slide perfectly flat surfaces']\n"
     ]
    }
   ],
   "source": [
    "corpus = []\n",
    "for text in final_data_frame[\"text\"]:\n",
    "    corpus.append(text)\n",
    "   # print(text)\n",
    "print(corpus)"
   ]
  },
  {
   "cell_type": "code",
   "execution_count": 30,
   "id": "cab3c414",
   "metadata": {},
   "outputs": [
    {
     "name": "stdout",
     "output_type": "stream",
     "text": [
      "rename values of class column\n",
      "                                                text  class\n",
      "0                        get fucking weather reports      0\n",
      "1  dude selling 64 like nigga no not_dude not_in ...      0\n",
      "2  home dab emote man today get hopped two full d...      1\n",
      "3                                                         1\n",
      "4  hate not_hate not_11 11 works slower thanks su...      0\n",
      "\n"
     ]
    }
   ],
   "source": [
    "# CHANGE CLASS VALUES FROM YES/NO TO 0/1\n",
    "final_data_frame.rename(columns={\"class\": \"class_label\"}, inplace=True)\n",
    "Class_Label = {\"yes\": 1, \"no\": 0}\n",
    "final_data_frame.class_label = [\n",
    "    Class_Label[item] for item in final_data_frame.class_label\n",
    "]\n",
    "final_data_frame.rename(columns={\"class_label\": \"class\"}, inplace=True)\n",
    "print(\"rename values of class column\")\n",
    "print(final_data_frame.head())\n",
    "print()\n",
    "# ------"
   ]
  },
  {
   "cell_type": "code",
   "execution_count": 31,
   "id": "120bc09a",
   "metadata": {},
   "outputs": [],
   "source": [
    "# TF\n",
    "# Transforms text into a sparse matrix of n-gram counts.\n",
    "\n",
    "count_vectorizer = CountVectorizer()\n",
    "count_vectorized_data = count_vectorizer.fit_transform(corpus)"
   ]
  },
  {
   "cell_type": "code",
   "execution_count": 32,
   "id": "221fbb51",
   "metadata": {},
   "outputs": [],
   "source": [
    "# IDF\n",
    "# Performs the TF-IDF transformation from a provided matrix of counts.\n",
    "\n",
    "tfidf_vectorizer = TfidfVectorizer()\n",
    "tfidf_vectorized_data = tfidf_vectorizer.fit_transform(corpus)"
   ]
  },
  {
   "cell_type": "code",
   "execution_count": 33,
   "id": "3a65b4cf",
   "metadata": {},
   "outputs": [],
   "source": [
    "# chose document vector\n",
    "vectorized_data = tfidf_vectorized_data"
   ]
  },
  {
   "cell_type": "code",
   "execution_count": 79,
   "id": "b636d084",
   "metadata": {},
   "outputs": [
    {
     "name": "stdout",
     "output_type": "stream",
     "text": [
      "  (0, 2260)\t0.6406852664975197\n",
      "  (0, 2741)\t0.605412447440875\n",
      "  (0, 706)\t0.42451460007548203\n",
      "  (0, 736)\t0.206846590736723\n",
      "  (1, 2150)\t0.17331002789009753\n",
      "  (1, 29)\t0.19340373590485302\n",
      "  (1, 2382)\t0.1331226118605866\n",
      "  (1, 1128)\t0.12197886540673761\n",
      "  (1, 763)\t0.13699356580724092\n",
      "  (1, 2020)\t0.11213686137387016\n",
      "  (1, 1696)\t0.20174337823053637\n",
      "  (1, 1172)\t0.21349744391960845\n",
      "  (1, 1455)\t0.1252395001181688\n",
      "  (1, 1284)\t0.1668412987496844\n",
      "  (1, 1859)\t0.1668412987496844\n",
      "  (1, 1955)\t0.1640783430924532\n",
      "  (1, 1780)\t0.16155596220102544\n",
      "  (1, 1850)\t0.25628165759325366\n",
      "  (1, 1279)\t0.11170092694984109\n",
      "  (1, 1471)\t0.17718098183675185\n",
      "  (1, 1528)\t0.12260231078794276\n",
      "  (1, 1649)\t0.1482345368113823\n",
      "  (1, 1629)\t0.14027886159451577\n",
      "  (1, 1627)\t0.19340373590485302\n",
      "  (1, 1561)\t0.12891391708893066\n",
      "  :\t:\n",
      "  (1158, 1101)\t0.28418478500772065\n",
      "  (1158, 2806)\t0.27467972352873316\n",
      "  (1158, 120)\t0.24964226063312545\n",
      "  (1158, 1677)\t0.20445317428821658\n",
      "  (1158, 2081)\t0.14581389927384406\n",
      "  (1158, 2781)\t0.22788304361635886\n",
      "  (1158, 1508)\t0.2891819172316155\n",
      "  (1158, 1486)\t0.15016422498929358\n",
      "  (1158, 806)\t0.1393067904411288\n",
      "  (1158, 1455)\t0.1840251960441222\n",
      "  (1158, 1981)\t0.11013782813285143\n",
      "  (1158, 1527)\t0.1222728334566274\n",
      "  (1158, 1852)\t0.12785889570083703\n",
      "  (1158, 736)\t0.10128200117562176\n",
      "  (1159, 173)\t0.7340000870231509\n",
      "  (1159, 2727)\t0.6791493740334352\n",
      "  (1160, 666)\t0.3682535954597122\n",
      "  (1160, 2417)\t0.3682535954597122\n",
      "  (1160, 881)\t0.3682535954597122\n",
      "  (1160, 608)\t0.3682535954597122\n",
      "  (1160, 2076)\t0.33359472513928995\n",
      "  (1160, 2531)\t0.34797945600490776\n",
      "  (1160, 2204)\t0.34797945600490776\n",
      "  (1160, 123)\t0.2642769844984454\n",
      "  (1160, 603)\t0.1850675253648934\n"
     ]
    }
   ],
   "source": [
    "print(vectorized_data)"
   ]
  },
  {
   "cell_type": "code",
   "execution_count": 36,
   "id": "6c2057e1",
   "metadata": {},
   "outputs": [],
   "source": [
    "# SPLITING THE DATA\n",
    "X_train, X_test, Y_train, Y_test = train_test_split(\n",
    "    vectorized_data, final_data_frame[\"class\"], test_size=0.3, random_state=0)"
   ]
  },
  {
   "cell_type": "code",
   "execution_count": 35,
   "id": "90710ce2",
   "metadata": {},
   "outputs": [],
   "source": [
    "from sklearn.model_selection import train_test_split"
   ]
  },
  {
   "cell_type": "code",
   "execution_count": 39,
   "id": "69cad8c2",
   "metadata": {},
   "outputs": [
    {
     "data": {
      "text/plain": [
       "SVC(gamma='auto', kernel='linear', probability=True)"
      ]
     },
     "execution_count": 39,
     "metadata": {},
     "output_type": "execute_result"
    }
   ],
   "source": [
    "SVM = svm.SVC(probability=True, C=1.0, kernel=\"linear\", degree=3, gamma=\"auto\")\n",
    "SVM.fit(X_train, Y_train)"
   ]
  },
  {
   "cell_type": "code",
   "execution_count": 61,
   "id": "7dd815b5",
   "metadata": {},
   "outputs": [],
   "source": [
    "from sklearn import svm"
   ]
  },
  {
   "cell_type": "code",
   "execution_count": 86,
   "id": "514d5871",
   "metadata": {},
   "outputs": [
    {
     "name": "stdout",
     "output_type": "stream",
     "text": [
      "915     1\n",
      "590     1\n",
      "108     1\n",
      "833     1\n",
      "1067    0\n",
      "       ..\n",
      "692     1\n",
      "983     1\n",
      "621     0\n",
      "427     1\n",
      "632     1\n",
      "Name: class, Length: 349, dtype: int64\n"
     ]
    }
   ],
   "source": [
    "print(Y_test)"
   ]
  },
  {
   "cell_type": "code",
   "execution_count": 70,
   "id": "a7545902",
   "metadata": {},
   "outputs": [],
   "source": [
    "acc = accuracy_score(Y_test, pred)"
   ]
  },
  {
   "cell_type": "code",
   "execution_count": 69,
   "id": "d5987116",
   "metadata": {},
   "outputs": [],
   "source": [
    "pred = SVM.predict(X_test)"
   ]
  },
  {
   "cell_type": "code",
   "execution_count": 71,
   "id": "0968cf49",
   "metadata": {},
   "outputs": [
    {
     "name": "stdout",
     "output_type": "stream",
     "text": [
      "0.7593123209169055\n"
     ]
    }
   ],
   "source": [
    "print(acc)"
   ]
  },
  {
   "cell_type": "code",
   "execution_count": 72,
   "id": "ef2ed2f0",
   "metadata": {
    "scrolled": true
   },
   "outputs": [
    {
     "name": "stdout",
     "output_type": "stream",
     "text": [
      "[1 1 1 1 1 1 1 1 0 1 1 0 1 1 1 1 1 1 1 0 1 0 1 1 1 1 0 1 1 1 1 0 1 1 1 1 0\n",
      " 1 0 1 0 1 1 1 1 1 1 0 1 1 1 1 1 0 0 1 0 1 1 0 1 0 0 1 1 1 1 0 1 1 1 1 1 1\n",
      " 1 0 0 1 0 1 1 0 1 0 0 1 0 1 1 1 0 1 1 1 1 1 1 1 0 0 0 1 0 1 1 1 0 1 1 1 1\n",
      " 0 1 0 1 1 1 1 0 1 0 0 0 1 1 0 0 1 1 1 1 0 1 1 0 1 0 0 0 1 1 1 0 1 1 1 0 1\n",
      " 0 0 1 0 0 1 1 1 1 0 1 0 1 0 1 1 1 1 1 1 1 1 1 0 0 1 1 0 0 1 1 1 1 1 1 1 1\n",
      " 1 1 0 0 0 0 1 1 0 1 1 1 1 1 0 0 1 0 1 1 1 1 1 1 1 1 0 1 0 0 1 1 1 1 1 1 1\n",
      " 1 1 0 0 1 1 0 1 1 0 0 1 0 1 1 1 1 0 1 0 1 1 1 1 0 1 0 1 1 1 0 1 1 0 1 0 1\n",
      " 1 0 0 1 0 0 0 1 1 1 1 1 1 1 0 0 1 0 0 1 0 1 0 0 1 0 0 1 1 1 1 0 1 1 0 1 1\n",
      " 0 1 1 1 1 0 0 1 1 1 1 0 0 1 1 1 1 1 0 0 1 1 0 0 1 1 1 1 0 1 1 1 1 1 1 0 1\n",
      " 0 0 0 0 1 0 0 1 1 0 0 1 1 0 1 1]\n"
     ]
    }
   ],
   "source": [
    "print(pred)"
   ]
  },
  {
   "cell_type": "code",
   "execution_count": 76,
   "id": "8c4b5381",
   "metadata": {},
   "outputs": [
    {
     "name": "stdout",
     "output_type": "stream",
     "text": [
      "  (0, 2727)\t1.0\n",
      "  (1, 84)\t0.11338180226310159\n",
      "  (1, 135)\t0.19855064851266485\n",
      "  (1, 513)\t0.05738044005904115\n",
      "  (1, 573)\t0.1071395863036089\n",
      "  (1, 651)\t0.0886041855905254\n",
      "  (1, 763)\t0.07275298993988195\n",
      "  (1, 806)\t0.05034855363361155\n",
      "  (1, 1128)\t0.06477915306111066\n",
      "  (1, 1197)\t0.22676360452620317\n",
      "  (1, 1225)\t0.4285583452144356\n",
      "  (1, 1226)\t0.1772083711810508\n",
      "  (1, 1376)\t0.13302154796077847\n",
      "  (1, 1391)\t0.22676360452620317\n",
      "  (1, 1423)\t0.2142791726072178\n",
      "  (1, 1471)\t0.18819053454299206\n",
      "  (1, 1486)\t0.10854534099568185\n",
      "  (1, 1508)\t0.1045167376514904\n",
      "  (1, 1527)\t0.0883842100407345\n",
      "  (1, 1636)\t0.16472393926206536\n",
      "  (1, 1639)\t0.13692428338245385\n",
      "  (1, 1740)\t0.22676360452620317\n",
      "  (1, 1762)\t0.1742737328431055\n",
      "  (1, 1799)\t0.18407904986297505\n",
      "  (1, 1837)\t0.2054213271945891\n",
      "  :\t:\n",
      "  (346, 1675)\t0.23067578983830964\n",
      "  (346, 1981)\t0.09249365103923976\n",
      "  (346, 2018)\t0.24894916112004808\n",
      "  (346, 2042)\t0.23865813209480957\n",
      "  (346, 2077)\t0.21863942787892404\n",
      "  (346, 2312)\t0.1868986146397825\n",
      "  (346, 2489)\t0.3263422037684705\n",
      "  (346, 2525)\t0.24894916112004808\n",
      "  (346, 2572)\t0.23865813209480957\n",
      "  (346, 2575)\t0.26345355188969527\n",
      "  (346, 2586)\t0.15719520488307107\n",
      "  (346, 2802)\t0.1868986146397825\n",
      "  (347, 163)\t0.44243265180920244\n",
      "  (347, 443)\t0.4667890983636426\n",
      "  (347, 580)\t0.3370877768255025\n",
      "  (347, 612)\t0.5037665831297972\n",
      "  (347, 1021)\t0.2811183501105346\n",
      "  (347, 2692)\t0.3740652615916571\n",
      "  (348, 317)\t0.4343428102105192\n",
      "  (348, 542)\t0.47946891682808795\n",
      "  (348, 956)\t0.3979100259195288\n",
      "  (348, 984)\t0.1868795547745862\n",
      "  (348, 1995)\t0.36848434338684144\n",
      "  (348, 2150)\t0.38921670359295035\n",
      "  (348, 2606)\t0.3176935168005589\n"
     ]
    }
   ],
   "source": [
    "print(X_test)"
   ]
  },
  {
   "cell_type": "code",
   "execution_count": 77,
   "id": "015cf4f0",
   "metadata": {},
   "outputs": [],
   "source": [
    "list1=['i will buy iphone','iphone is not all that great they are all the same']"
   ]
  },
  {
   "cell_type": "code",
   "execution_count": 80,
   "id": "051ca768",
   "metadata": {},
   "outputs": [],
   "source": [
    "# IDF\n",
    "# Performs the TF-IDF transformation from a provided matrix of counts.\n",
    "tfidf_vectorizer = TfidfVectorizer()\n",
    "tfidf_vectorized_data1 = tfidf_vectorizer.fit_transform(list1)"
   ]
  },
  {
   "cell_type": "code",
   "execution_count": 81,
   "id": "f2e1063b",
   "metadata": {},
   "outputs": [
    {
     "name": "stdout",
     "output_type": "stream",
     "text": [
      "  (0, 4)\t0.4494364165239821\n",
      "  (0, 2)\t0.6316672017376245\n",
      "  (0, 11)\t0.6316672017376245\n",
      "  (1, 7)\t0.2827720964717407\n",
      "  (1, 9)\t0.2827720964717407\n",
      "  (1, 1)\t0.2827720964717407\n",
      "  (1, 10)\t0.2827720964717407\n",
      "  (1, 3)\t0.2827720964717407\n",
      "  (1, 8)\t0.2827720964717407\n",
      "  (1, 0)\t0.5655441929434813\n",
      "  (1, 6)\t0.2827720964717407\n",
      "  (1, 5)\t0.2827720964717407\n",
      "  (1, 4)\t0.20119467558491574\n"
     ]
    }
   ],
   "source": [
    "print(tfidf_vectorized_data1)"
   ]
  },
  {
   "cell_type": "code",
   "execution_count": 82,
   "id": "ff5bce62",
   "metadata": {},
   "outputs": [],
   "source": [
    "# chose document vector\n",
    "vectorized_data1 = tfidf_vectorized_data1"
   ]
  },
  {
   "cell_type": "code",
   "execution_count": 84,
   "id": "9357d40d",
   "metadata": {},
   "outputs": [
    {
     "ename": "ValueError",
     "evalue": "X.shape[1] = 12 should be equal to 2817, the number of features at training time",
     "output_type": "error",
     "traceback": [
      "\u001b[1;31m---------------------------------------------------------------------------\u001b[0m",
      "\u001b[1;31mValueError\u001b[0m                                Traceback (most recent call last)",
      "\u001b[1;32m<ipython-input-84-c76f91b7fc9f>\u001b[0m in \u001b[0;36m<module>\u001b[1;34m\u001b[0m\n\u001b[1;32m----> 1\u001b[1;33m \u001b[0mpred1\u001b[0m \u001b[1;33m=\u001b[0m \u001b[0mSVM\u001b[0m\u001b[1;33m.\u001b[0m\u001b[0mpredict\u001b[0m\u001b[1;33m(\u001b[0m\u001b[0mvectorized_data1\u001b[0m\u001b[1;33m)\u001b[0m\u001b[1;33m\u001b[0m\u001b[1;33m\u001b[0m\u001b[0m\n\u001b[0m",
      "\u001b[1;32m~\\anaconda3\\lib\\site-packages\\sklearn\\svm\\_base.py\u001b[0m in \u001b[0;36mpredict\u001b[1;34m(self, X)\u001b[0m\n\u001b[0;32m    622\u001b[0m             \u001b[0my\u001b[0m \u001b[1;33m=\u001b[0m \u001b[0mnp\u001b[0m\u001b[1;33m.\u001b[0m\u001b[0margmax\u001b[0m\u001b[1;33m(\u001b[0m\u001b[0mself\u001b[0m\u001b[1;33m.\u001b[0m\u001b[0mdecision_function\u001b[0m\u001b[1;33m(\u001b[0m\u001b[0mX\u001b[0m\u001b[1;33m)\u001b[0m\u001b[1;33m,\u001b[0m \u001b[0maxis\u001b[0m\u001b[1;33m=\u001b[0m\u001b[1;36m1\u001b[0m\u001b[1;33m)\u001b[0m\u001b[1;33m\u001b[0m\u001b[1;33m\u001b[0m\u001b[0m\n\u001b[0;32m    623\u001b[0m         \u001b[1;32melse\u001b[0m\u001b[1;33m:\u001b[0m\u001b[1;33m\u001b[0m\u001b[1;33m\u001b[0m\u001b[0m\n\u001b[1;32m--> 624\u001b[1;33m             \u001b[0my\u001b[0m \u001b[1;33m=\u001b[0m \u001b[0msuper\u001b[0m\u001b[1;33m(\u001b[0m\u001b[1;33m)\u001b[0m\u001b[1;33m.\u001b[0m\u001b[0mpredict\u001b[0m\u001b[1;33m(\u001b[0m\u001b[0mX\u001b[0m\u001b[1;33m)\u001b[0m\u001b[1;33m\u001b[0m\u001b[1;33m\u001b[0m\u001b[0m\n\u001b[0m\u001b[0;32m    625\u001b[0m         \u001b[1;32mreturn\u001b[0m \u001b[0mself\u001b[0m\u001b[1;33m.\u001b[0m\u001b[0mclasses_\u001b[0m\u001b[1;33m.\u001b[0m\u001b[0mtake\u001b[0m\u001b[1;33m(\u001b[0m\u001b[0mnp\u001b[0m\u001b[1;33m.\u001b[0m\u001b[0masarray\u001b[0m\u001b[1;33m(\u001b[0m\u001b[0my\u001b[0m\u001b[1;33m,\u001b[0m \u001b[0mdtype\u001b[0m\u001b[1;33m=\u001b[0m\u001b[0mnp\u001b[0m\u001b[1;33m.\u001b[0m\u001b[0mintp\u001b[0m\u001b[1;33m)\u001b[0m\u001b[1;33m)\u001b[0m\u001b[1;33m\u001b[0m\u001b[1;33m\u001b[0m\u001b[0m\n\u001b[0;32m    626\u001b[0m \u001b[1;33m\u001b[0m\u001b[0m\n",
      "\u001b[1;32m~\\anaconda3\\lib\\site-packages\\sklearn\\svm\\_base.py\u001b[0m in \u001b[0;36mpredict\u001b[1;34m(self, X)\u001b[0m\n\u001b[0;32m    340\u001b[0m         \u001b[0my_pred\u001b[0m \u001b[1;33m:\u001b[0m \u001b[0mndarray\u001b[0m \u001b[0mof\u001b[0m \u001b[0mshape\u001b[0m \u001b[1;33m(\u001b[0m\u001b[0mn_samples\u001b[0m\u001b[1;33m,\u001b[0m\u001b[1;33m)\u001b[0m\u001b[1;33m\u001b[0m\u001b[1;33m\u001b[0m\u001b[0m\n\u001b[0;32m    341\u001b[0m         \"\"\"\n\u001b[1;32m--> 342\u001b[1;33m         \u001b[0mX\u001b[0m \u001b[1;33m=\u001b[0m \u001b[0mself\u001b[0m\u001b[1;33m.\u001b[0m\u001b[0m_validate_for_predict\u001b[0m\u001b[1;33m(\u001b[0m\u001b[0mX\u001b[0m\u001b[1;33m)\u001b[0m\u001b[1;33m\u001b[0m\u001b[1;33m\u001b[0m\u001b[0m\n\u001b[0m\u001b[0;32m    343\u001b[0m         \u001b[0mpredict\u001b[0m \u001b[1;33m=\u001b[0m \u001b[0mself\u001b[0m\u001b[1;33m.\u001b[0m\u001b[0m_sparse_predict\u001b[0m \u001b[1;32mif\u001b[0m \u001b[0mself\u001b[0m\u001b[1;33m.\u001b[0m\u001b[0m_sparse\u001b[0m \u001b[1;32melse\u001b[0m \u001b[0mself\u001b[0m\u001b[1;33m.\u001b[0m\u001b[0m_dense_predict\u001b[0m\u001b[1;33m\u001b[0m\u001b[1;33m\u001b[0m\u001b[0m\n\u001b[0;32m    344\u001b[0m         \u001b[1;32mreturn\u001b[0m \u001b[0mpredict\u001b[0m\u001b[1;33m(\u001b[0m\u001b[0mX\u001b[0m\u001b[1;33m)\u001b[0m\u001b[1;33m\u001b[0m\u001b[1;33m\u001b[0m\u001b[0m\n",
      "\u001b[1;32m~\\anaconda3\\lib\\site-packages\\sklearn\\svm\\_base.py\u001b[0m in \u001b[0;36m_validate_for_predict\u001b[1;34m(self, X)\u001b[0m\n\u001b[0;32m    491\u001b[0m                                  (X.shape[1], self.shape_fit_[0]))\n\u001b[0;32m    492\u001b[0m         \u001b[1;32melif\u001b[0m \u001b[1;32mnot\u001b[0m \u001b[0mcallable\u001b[0m\u001b[1;33m(\u001b[0m\u001b[0mself\u001b[0m\u001b[1;33m.\u001b[0m\u001b[0mkernel\u001b[0m\u001b[1;33m)\u001b[0m \u001b[1;32mand\u001b[0m \u001b[0mX\u001b[0m\u001b[1;33m.\u001b[0m\u001b[0mshape\u001b[0m\u001b[1;33m[\u001b[0m\u001b[1;36m1\u001b[0m\u001b[1;33m]\u001b[0m \u001b[1;33m!=\u001b[0m \u001b[0mself\u001b[0m\u001b[1;33m.\u001b[0m\u001b[0mshape_fit_\u001b[0m\u001b[1;33m[\u001b[0m\u001b[1;36m1\u001b[0m\u001b[1;33m]\u001b[0m\u001b[1;33m:\u001b[0m\u001b[1;33m\u001b[0m\u001b[1;33m\u001b[0m\u001b[0m\n\u001b[1;32m--> 493\u001b[1;33m             raise ValueError(\"X.shape[1] = %d should be equal to %d, \"\n\u001b[0m\u001b[0;32m    494\u001b[0m                              \u001b[1;34m\"the number of features at training time\"\u001b[0m \u001b[1;33m%\u001b[0m\u001b[1;33m\u001b[0m\u001b[1;33m\u001b[0m\u001b[0m\n\u001b[0;32m    495\u001b[0m                              (X.shape[1], self.shape_fit_[1]))\n",
      "\u001b[1;31mValueError\u001b[0m: X.shape[1] = 12 should be equal to 2817, the number of features at training time"
     ]
    }
   ],
   "source": [
    "pred1 = SVM.predict(vectorized_data1)"
   ]
  },
  {
   "cell_type": "code",
   "execution_count": null,
   "id": "9ee01888",
   "metadata": {},
   "outputs": [],
   "source": [
    "# SPLITING THE DATA\n",
    "X_train, X_test, Y_train, Y_test = train_test_split(\n",
    "    vectorized_data, final_data_frame[\"class\"], test_size=0.3, random_state=0)"
   ]
  }
 ],
 "metadata": {
  "kernelspec": {
   "display_name": "Python 3",
   "language": "python",
   "name": "python3"
  },
  "language_info": {
   "codemirror_mode": {
    "name": "ipython",
    "version": 3
   },
   "file_extension": ".py",
   "mimetype": "text/x-python",
   "name": "python",
   "nbconvert_exporter": "python",
   "pygments_lexer": "ipython3",
   "version": "3.8.8"
  }
 },
 "nbformat": 4,
 "nbformat_minor": 5
}
