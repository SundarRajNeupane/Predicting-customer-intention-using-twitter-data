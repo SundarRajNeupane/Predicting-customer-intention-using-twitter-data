{
 "cells": [
  {
   "cell_type": "code",
   "execution_count": 1,
   "id": "efd92f5c",
   "metadata": {},
   "outputs": [],
   "source": [
    "class Evaluate:\n",
    "    def confusion_matrix(self, test_data, predict_df):\n",
    "        TP = 0\n",
    "        TN = 0\n",
    "        FP = 0\n",
    "        FN = 0\n",
    "        for i in range(test_data['class'].count()):\n",
    "            # print(test_data.iloc[i]['class'],\" \",predict_df.iloc[i]['PredictedClass'] )\n",
    "            if test_data.iloc[i]['class'] == \"yes\" and predict_df.iloc[i]['PredictedClass'] == \"yes\":\n",
    "                TP += 1\n",
    "            elif test_data.iloc[i]['class'] == \"yes\" and predict_df.iloc[i]['PredictedClass'] == \"no\":\n",
    "                FN += 1\n",
    "            elif test_data.iloc[i]['class'] == \"no\" and predict_df.iloc[i]['PredictedClass'] == \"no\":\n",
    "                TN += 1\n",
    "            elif test_data.iloc[i]['class'] == \"no\" and predict_df.iloc[i]['PredictedClass'] == \"yes\":\n",
    "                FP += 1\n",
    "        return TP, FN, TN, FP\n",
    "\n",
    "    def Accuracy(self, TP, TN, FP, FN):\n",
    "        accuracy = (TP + TN) / (TP + FP + FN + TN)\n",
    "        # print(\"Accuracy =\",accuracy)\n",
    "        return accuracy\n",
    "\n",
    "    def Precision(self, TP, FP):\n",
    "        precision = TP / (TP + FP)\n",
    "        # print(\"Precision = \",precision)\n",
    "        return precision\n",
    "\n",
    "    def Recall(self, TP, FN):\n",
    "        recall = TP / (TP + FN)\n",
    "        # print(\"Recall = \",recall)\n",
    "        return recall\n",
    "\n",
    "    def fScore(self, TP, FN, FP):\n",
    "        F1 = 2 * (self.Recall(TP, FN) * self.Precision(TP, FP)) / (self.Recall(TP, FN) + self.Precision(TP, FP))\n",
    "        # print(\"f measure\",F1)\n",
    "        return F1\n",
    "\n",
    "    def TrueNegative(self, TN, FP):\n",
    "        TrueNeg = TN/(TN+FP)\n",
    "        return TrueNeg\n",
    "    "
   ]
  },
  {
   "cell_type": "code",
   "execution_count": null,
   "id": "b9441a3c",
   "metadata": {},
   "outputs": [],
   "source": []
  }
 ],
 "metadata": {
  "kernelspec": {
   "display_name": "Python 3",
   "language": "python",
   "name": "python3"
  },
  "language_info": {
   "codemirror_mode": {
    "name": "ipython",
    "version": 3
   },
   "file_extension": ".py",
   "mimetype": "text/x-python",
   "name": "python",
   "nbconvert_exporter": "python",
   "pygments_lexer": "ipython3",
   "version": "3.8.8"
  }
 },
 "nbformat": 4,
 "nbformat_minor": 5
}
