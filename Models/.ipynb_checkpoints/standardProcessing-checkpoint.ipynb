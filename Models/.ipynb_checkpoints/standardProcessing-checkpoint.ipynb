{
 "cells": [
  {
   "cell_type": "code",
   "execution_count": 19,
   "id": "9b0a20ce",
   "metadata": {},
   "outputs": [],
   "source": [
    "import pandas as pd\n",
    "import numpy as np"
   ]
  },
  {
   "cell_type": "code",
   "execution_count": 20,
   "id": "71e73b06",
   "metadata": {},
   "outputs": [],
   "source": [
    "from sklearn.metrics import (\n",
    "    confusion_matrix,\n",
    "    roc_auc_score,\n",
    "    recall_score,\n",
    "    precision_score,\n",
    ")"
   ]
  },
  {
   "cell_type": "code",
   "execution_count": 21,
   "id": "52f24d84",
   "metadata": {},
   "outputs": [],
   "source": [
    "from sklearn.metrics import roc_curve, auc\n",
    "from sklearn.metrics import make_scorer, accuracy_score, f1_score\n",
    "from sklearn.neural_network import MLPClassifier"
   ]
  },
  {
   "cell_type": "code",
   "execution_count": 22,
   "id": "8bd37907",
   "metadata": {},
   "outputs": [],
   "source": [
    "from sklearn.tree import DecisionTreeClassifier\n",
    "from sklearn import linear_model\n",
    "from sklearn import naive_bayes\n",
    "from sklearn import svm"
   ]
  },
  {
   "cell_type": "code",
   "execution_count": 23,
   "id": "63e73be2",
   "metadata": {},
   "outputs": [],
   "source": [
    "from sklearn.model_selection import train_test_split"
   ]
  },
  {
   "cell_type": "code",
   "execution_count": 24,
   "id": "a0079d55",
   "metadata": {},
   "outputs": [],
   "source": [
    "from sklearn.feature_extraction.text import TfidfVectorizer\n",
    "from sklearn.feature_extraction.text import CountVectorizer\n",
    "from textblob import Word"
   ]
  },
  {
   "cell_type": "code",
   "execution_count": 25,
   "id": "898f04fc",
   "metadata": {},
   "outputs": [],
   "source": [
    "from nltk.stem import PorterStemmer\n",
    "from textblob import TextBlob"
   ]
  },
  {
   "cell_type": "code",
   "execution_count": 26,
   "id": "4a0b64d3",
   "metadata": {},
   "outputs": [],
   "source": [
    "from nltk.corpus import stopwords"
   ]
  },
  {
   "cell_type": "code",
   "execution_count": 27,
   "id": "c55d7086",
   "metadata": {},
   "outputs": [],
   "source": [
    "def extract(path):\n",
    "        #fd = open(path, encoding=\"utf-8\", errors='replace')\n",
    "        df = pd.read_csv(r'C:\\Users\\su\\Desktop\\Major_Project_work\\data\\data.csv')\n",
    "        defined = df['class'] != (\"undefined\")\n",
    "        # #output dataframe without undeined\n",
    "        df2 = df[defined]\n",
    "        defined1 = df2['class'] != \"Undefined\"\n",
    "        df4 = df2[defined1]\n",
    "        # replace no PI with no\n",
    "        df3 = df4.replace(\"No PI\", \"no\")\n",
    "        # replace PI with yes\n",
    "        final = df3.replace(\"PI\", \"yes\")\n",
    "\n",
    "        replace_yes = final.replace(\"Yes\", \"yes\")\n",
    "        final_df = replace_yes.replace(\"No\", \"no\")\n",
    "        return final_df, df\n",
    "  "
   ]
  },
  {
   "cell_type": "code",
   "execution_count": 28,
   "id": "daba5945",
   "metadata": {},
   "outputs": [],
   "source": [
    "def space(final_df):\n",
    "        new_df = pd.DataFrame()\n",
    "        count_tweets = 0\n",
    "        for text in final_df['text']:\n",
    "            temp = \"\"\n",
    "            for char in text:\n",
    "                if char in [\",\", \".\", \"!\", \"?\", \":\", \";\"]:\n",
    "                    temp = temp + ' ' + char\n",
    "\n",
    "                else:\n",
    "                    temp = temp + char\n",
    "            # print(temp)\n",
    "            new_df.at[count_tweets, 'text'] = temp\n",
    "            new_df.at[count_tweets,\n",
    "                      'class'] = final_df.iloc[count_tweets]['class']\n",
    "            count_tweets += 1\n",
    "        # print(\"new_df\")\n",
    "        # print(new_df)\n",
    "        return new_df\n"
   ]
  },
  {
   "cell_type": "code",
   "execution_count": null,
   "id": "46626d82",
   "metadata": {},
   "outputs": [],
   "source": []
  },
  {
   "cell_type": "code",
   "execution_count": null,
   "id": "999ca3e4",
   "metadata": {},
   "outputs": [],
   "source": []
  },
  {
   "cell_type": "code",
   "execution_count": 29,
   "id": "580eb5a7",
   "metadata": {},
   "outputs": [],
   "source": [
    "    def handle_negation(final_df):\n",
    "        out_df = pd.DataFrame()\n",
    "        count_tweet = 0\n",
    "        for text in final_df['text']:\n",
    "            temp_text = \"\"\n",
    "            li_text = text.split()\n",
    "            for word in li_text:\n",
    "                count = 0\n",
    "                lower_word = word.lower()\n",
    "                if lower_word == \"didn't\" or lower_word == \"not\" or lower_word == \"no\" or lower_word == \"never\"\\\n",
    "                        or lower_word == \"don't\" or lower_word == \"hate\":\n",
    "                    temp = count + 1\n",
    "                    temp_text = temp_text + word + \" \"\n",
    "                    for i in range(temp, len(li_text)):\n",
    "                        if li_text[i] in [\",\", \"?\", \"!\", \".\"]:\n",
    "                            temp_text = \" \"+temp_text + li_text[i] + \" \"\n",
    "                            break\n",
    "                        else:\n",
    "                            temp_text = temp_text + \"NOT_\" + li_text[i]+\" \"\n",
    "\n",
    "                else:\n",
    "                    temp_text = temp_text + word + \" \"\n",
    "            # print(temp_text)\n",
    "            out_df.at[count_tweet, 'text'] = temp_text\n",
    "            out_df.at[count_tweet, 'class'] = final_df.iloc[count_tweet]['class']\n",
    "            count_tweet += 1\n",
    "        return out_df\n",
    "\n",
    "   \n",
    "\n",
    "   \n",
    "\n",
    "   \n",
    "    \n",
    "    \n",
    "   \n",
    "\n"
   ]
  },
  {
   "cell_type": "code",
   "execution_count": 52,
   "id": "d3d3ce2b",
   "metadata": {},
   "outputs": [],
   "source": [
    "def report_results(model, X, y):\n",
    "    pred_proba = model.predict_proba(X)[:, 1]\n",
    "    pred = model.predict(X)\n",
    "\n",
    "    auc = roc_auc_score(y, pred_proba)\n",
    "    acc = accuracy_score(y, pred)\n",
    "  #  f1 = f1_score(y, pred)\n",
    "    prec = precision_score(y, pred)\n",
    "  #  rec = recall_score(y, pred)\n",
    "    tn, fp, fn, tp = confusion_matrix(y, pred).ravel()\n",
    "    TrueNeg = tn / (tn + fp)\n",
    "    result = {\n",
    "        \"auc\": auc,\n",
    "       # \"f1\": f1,\n",
    "      #  \"acc\": acc,\n",
    "     #   \"precision\": prec,\n",
    "     #   \"recall\": rec,\n",
    "       # \"TN\": tn,\n",
    "       # \"FP\": fp,\n",
    "       # \"FN\": fn,\n",
    "       # \"TP\": tp,\n",
    "        \"True Negative rate\": TrueNeg,\n",
    "    }\n",
    "    return result\n",
    "\n",
    " \n"
   ]
  },
  {
   "cell_type": "code",
   "execution_count": 31,
   "id": "71133fd5",
   "metadata": {},
   "outputs": [],
   "source": [
    "final_data_frame, data_frame_undefined = extract(1)\n",
    "\n"
   ]
  },
  {
   "cell_type": "code",
   "execution_count": 32,
   "id": "5dd8c870",
   "metadata": {},
   "outputs": [
    {
     "name": "stdout",
     "output_type": "stream",
     "text": [
      "     class                                               text\n",
      "0       no  i'll  buy  the  iphone   x  if it can  get  ac...\n",
      "1       no  Some dude in FB selling the  iPhone   X  64 gb...\n",
      "2      yes  Home dab emote man today and I  get  hopped on...\n",
      "3      yes                               Buy  an  iPhone   X \n",
      "4       no  I hate iOS 11. My  iPhone  6+ works 10X slower...\n",
      "...    ...                                                ...\n",
      "2100    no  Ew  iPhone  7’s camera quality looks so trash ...\n",
      "2102    no  @ Apple  hey why does your brand new  expensiv...\n",
      "2103    no  Unpopular opinion: I  hate  the  iPhone   X  m...\n",
      "2106   yes               i want the  iphone   x  so  bad  :’(\n",
      "2107    no  can anyone explain to me why the incredibly  e...\n",
      "\n",
      "[1161 rows x 2 columns]\n"
     ]
    }
   ],
   "source": [
    "print(final_data_frame)"
   ]
  },
  {
   "cell_type": "code",
   "execution_count": 33,
   "id": "75c20d0a",
   "metadata": {},
   "outputs": [
    {
     "name": "stdout",
     "output_type": "stream",
     "text": [
      "shuffled data frame\n",
      "  class                                               text\n",
      "0    no  i'll  buy  the  iphone   x  if it can  get  ac...\n",
      "1    no  Some dude in FB selling the  iPhone   X  64 gb...\n",
      "2   yes  Home dab emote man today and I  get  hopped on...\n",
      "3   yes                               Buy  an  iPhone   X \n",
      "4    no  I hate iOS 11. My  iPhone  6+ works 10X slower...\n",
      "\n"
     ]
    }
   ],
   "source": [
    "# SHUFFLING THE DATA FRAME\n",
    "final_data_frame.reindex(np.random.permutation(final_data_frame.index))\n",
    "print(\"shuffled data frame\")\n",
    "print(final_data_frame.head())\n",
    "print()"
   ]
  },
  {
   "cell_type": "code",
   "execution_count": 34,
   "id": "5ac41d8b",
   "metadata": {},
   "outputs": [
    {
     "name": "stdout",
     "output_type": "stream",
     "text": [
      "lowercase all text\n",
      "0    i'll buy the iphone x if it can get accurate f...\n",
      "1    some dude in fb selling the iphone x 64 gb for...\n",
      "2    home dab emote man today and i get hopped on b...\n",
      "3                                      buy an iphone x\n",
      "4    i hate ios 11. my iphone 6+ works 10x slower n...\n",
      "Name: text, dtype: object\n",
      "\n"
     ]
    }
   ],
   "source": [
    "# LOWERCASE\n",
    "final_data_frame[\"text\"] = final_data_frame[\"text\"].apply(\n",
    "    lambda x: \" \".join(x.lower() for x in x.split())\n",
    ")\n",
    "print(\"lowercase all text\")\n",
    "print(final_data_frame[\"text\"].head())\n",
    "print()"
   ]
  },
  {
   "cell_type": "code",
   "execution_count": 35,
   "id": "75ec1711",
   "metadata": {},
   "outputs": [
    {
     "name": "stdout",
     "output_type": "stream",
     "text": [
      "handle negation\n",
      "0    i'll buy the iphone x if it can get accurate f...\n",
      "1    some dude in fb selling the iphone x 64 gb for...\n",
      "2    home dab emote man today and i get hopped on b...\n",
      "3                                     buy an iphone x \n",
      "4      i hate NOT_hate NOT_ios NOT_11 . ios 11 . my...\n",
      "Name: text, dtype: object\n",
      "\n"
     ]
    }
   ],
   "source": [
    "# NEGATION HANDLING\n",
    "final_data_frame = space(final_data_frame)\n",
    "final_data_frame = handle_negation(final_data_frame)\n",
    "print(\"handle negation\")\n",
    "print(final_data_frame[\"text\"].head())\n",
    "print()"
   ]
  },
  {
   "cell_type": "code",
   "execution_count": 36,
   "id": "9289cc5a",
   "metadata": {},
   "outputs": [
    {
     "name": "stdout",
     "output_type": "stream",
     "text": [
      "removed punctuation\n",
      "0    ill buy the iphone x if it can get accurate fu...\n",
      "1    some dude in fb selling the iphone x 64 gb for...\n",
      "2    home dab emote man today and i get hopped on b...\n",
      "3                                     buy an iphone x \n",
      "4      i hate NOT_hate NOT_ios NOT_11  ios 11  my i...\n",
      "Name: text, dtype: object\n",
      "\n"
     ]
    }
   ],
   "source": [
    "# REMOVE PUNC\n",
    "final_data_frame[\"text\"] = final_data_frame[\"text\"].str.replace(\"[^\\w\\s]\", \"\",regex=True)\n",
    "print(\"removed punctuation\")\n",
    "print(final_data_frame[\"text\"].head())\n",
    "print()"
   ]
  },
  {
   "cell_type": "code",
   "execution_count": 37,
   "id": "30a25df7",
   "metadata": {},
   "outputs": [
    {
     "name": "stdout",
     "output_type": "stream",
     "text": [
      "removed stoped words\n",
      "0    ill buy iphone x get accurate fucking weather ...\n",
      "1    dude fb selling iphone x 64 gb 1100 like nigga...\n",
      "2    home dab emote man today get hopped two full d...\n",
      "3                                         buy iphone x\n",
      "4    hate NOT_hate NOT_ios NOT_11 ios 11 iphone 6 w...\n",
      "Name: text, dtype: object\n",
      "\n"
     ]
    }
   ],
   "source": [
    "# STOPWORDS REMOVAL\n",
    "\n",
    "stop = stopwords.words(\"english\")\n",
    "final_data_frame[\"text\"] = final_data_frame[\"text\"].apply(\n",
    "    lambda x: \" \".join(x for x in x.split() if x not in stop)\n",
    ")\n",
    "print(\"removed stoped words\")\n",
    "print(final_data_frame[\"text\"].head())\n",
    "print()"
   ]
  },
  {
   "cell_type": "code",
   "execution_count": 38,
   "id": "ac4b25ec",
   "metadata": {},
   "outputs": [
    {
     "name": "stdout",
     "output_type": "stream",
     "text": [
      "iphone    1247\n",
      "x         1144\n",
      "dtype: int64\n",
      "removed comman words\n",
      "0         ill buy get accurate fucking weather reports\n",
      "1    dude fb selling 64 gb 1100 like nigga NOT_dude...\n",
      "2    home dab emote man today get hopped two full d...\n",
      "3                                                  buy\n",
      "4    hate NOT_hate NOT_ios NOT_11 ios 11 6 works 10...\n",
      "Name: text, dtype: object\n",
      "\n"
     ]
    }
   ],
   "source": [
    "# COMMON WORD REMOVAL\n",
    "freq = pd.Series(\n",
    "    \" \".join(final_data_frame[\"text\"]).split()).value_counts()[:2]\n",
    "print(freq)\n",
    "freq = list(freq.index)\n",
    "final_data_frame[\"text\"] = final_data_frame[\"text\"].apply(\n",
    "    lambda x: \" \".join(x for x in x.split() if x not in freq)\n",
    ")\n",
    "print(\"removed comman words\")\n",
    "print(final_data_frame[\"text\"].head())\n",
    "print()"
   ]
  },
  {
   "cell_type": "code",
   "execution_count": 39,
   "id": "2d6f45a4",
   "metadata": {},
   "outputs": [
    {
     "name": "stdout",
     "output_type": "stream",
     "text": [
      "exception    1\n",
      "flawless     1\n",
      "uc           1\n",
      "arent        1\n",
      "nonissue     1\n",
      "tonight      1\n",
      "cinematic    1\n",
      "mute         1\n",
      "werent       1\n",
      "odd          1\n",
      "dtype: int64\n",
      "removed rare words\n",
      "0         ill buy get accurate fucking weather reports\n",
      "1    dude fb selling 64 gb 1100 like nigga NOT_dude...\n",
      "2    home dab emote man today get hopped two full d...\n",
      "3                                                  buy\n",
      "4    hate NOT_hate NOT_ios NOT_11 ios 11 6 works 10...\n",
      "Name: text, dtype: object\n",
      "\n"
     ]
    }
   ],
   "source": [
    "# RARE WORDS REMOVAL\n",
    "rare = pd.Series(\n",
    "    \" \".join(final_data_frame[\"text\"]).split()).value_counts()[-10:]\n",
    "print(rare)\n",
    "rare = list(rare.index)\n",
    "final_data_frame[\"text\"] = final_data_frame[\"text\"].apply(\n",
    "    lambda x: \" \".join(x for x in x.split() if x not in rare)\n",
    ")\n",
    "print(\"removed rare words\")\n",
    "print(final_data_frame[\"text\"].head())\n",
    "print()"
   ]
  },
  {
   "cell_type": "code",
   "execution_count": 40,
   "id": "fdbac471",
   "metadata": {},
   "outputs": [
    {
     "name": "stdout",
     "output_type": "stream",
     "text": [
      "fixed spellings\n",
      "0         ill buy get accurate fucking weather reports\n",
      "1    dude fb selling 64 gb 1100 like nigga NOT_dude...\n",
      "2    home dab emote man today get hopped two full d...\n",
      "3                                                  buy\n",
      "4    hate NOT_hate NOT_ios NOT_11 ios 11 6 works 10...\n",
      "Name: text, dtype: object\n",
      "\n"
     ]
    }
   ],
   "source": [
    "# SPELLING CORRECTION\n",
    "\n",
    "final_data_frame[\"text\"][:5].apply(lambda x: str(TextBlob(x).correct()))\n",
    "print(\"fixed spellings\")\n",
    "print(final_data_frame[\"text\"].head())\n",
    "print()"
   ]
  },
  {
   "cell_type": "code",
   "execution_count": 41,
   "id": "e9c57e8c",
   "metadata": {},
   "outputs": [
    {
     "name": "stdout",
     "output_type": "stream",
     "text": [
      "applied stemming\n",
      "0         ill buy get accurate fucking weather reports\n",
      "1    dude fb selling 64 gb 1100 like nigga NOT_dude...\n",
      "2    home dab emote man today get hopped two full d...\n",
      "3                                                  buy\n",
      "4    hate NOT_hate NOT_ios NOT_11 ios 11 6 works 10...\n",
      "Name: text, dtype: object\n",
      "\n"
     ]
    }
   ],
   "source": [
    "# STEMMING\n",
    "\n",
    "st = PorterStemmer()\n",
    "final_data_frame[\"text\"][:5].apply(\n",
    "    lambda x: \" \".join([st.stem(word) for word in x.split()])\n",
    ")\n",
    "print(\"applied stemming\")\n",
    "print(final_data_frame[\"text\"].head())\n",
    "print()"
   ]
  },
  {
   "cell_type": "code",
   "execution_count": 42,
   "id": "0d646b17",
   "metadata": {},
   "outputs": [
    {
     "name": "stdout",
     "output_type": "stream",
     "text": [
      "['ill buy get accurate fucking weather reports', 'dude fb selling 64 gb 1100 like nigga NOT_dude NOT_in NOT_fb NOT_selling NOT_the NOT_iphone NOT_x NOT_64 NOT_gb NOT_for NOT_1100 NOT_like NOT_nigga NOT_no NOT_one NOT_is NOT_gonna NOT_buy NOT_that NOT_shit NOT_when NOT_they NOT_can NOT_get NOT_the NOT_256 NOT_gb NOT_for NOT_that NOT_price one gonna buy shit get 256 gb price', 'home dab emote man today get hopped two full diamonds 5 minutes pvp w tap thanks bedroom brand new rated sexiest thing', 'buy', 'hate NOT_hate NOT_ios NOT_11 ios 11 6 works 10x slower thanks apple subtle way forcing purchase 8 dont NOT_hate NOT_ios NOT_11 need', 'bogo sale tomorrow tmobile buy one get one free phones tablets NOT_sale NOT_tomorrow NOT_at NOT_tmobile NOT_buy NOT_one NOT_get NOT_one NOT_free included holla need info', 'get im willing buy 1500', 'buy unlimited everything', 'mrwhosetheboss really wish get meet one day good tech videos hope win giveaway way maybe able talk big fan youboss watch every video first mrwhosetheboss 1000000', 'sprint sprintcare switch tmobile get iphonex theyd buy contract', 'oneplus 5t faster face recognition', 'dont NOT_buy NOT_an NOT_iphone NOT_x NOT_if NOT_youre NOT_ugly buy youre ugly need time work recover selfies', 'could buy 2x 5t price paid nice', 'friend shopping NOT_friend NOT_shopping NOT_ NOT_iphone NOT_x NOT_is NOT_not NOT_that NOT_expensive NOT_i NOT_should NOT_get NOT_pays NOT_aed NOT_4 expensive get pays aed 4', 'upgrade 8 add digits line get apple watch free would heart beat purchase right johnlegere', 'dont NOT_dont NOT_get NOT_it NOT_is NOT_it NOT_basically NOT_impossible NOT_to NOT_buy NOT_a NOT_iphone NOT_x NOT_from NOT_verizon NOT_if NOT_im NOT_on NOT_a NOT_prepaid NOT_plan get basically impossible buy verizon im prepaid plan', 'pleasure use far ive ever', 'wanted places sold buy people reselling like 1', 'love holiday gift guides assume spare 1000 buy aunt', 'vip need buy https twitter comyongiemystics tatus930831560189898754', 'anyone else experiencing glitch apps wont open try open phone freezes feel like conspiracy apple buy', 'need buy finally quit switching sim cards whenever get europe', 'apple send email christmas gifts suggestions suggested', 'buy', 'love design', 'u buy NOT_can NOT_buy NOT_yourself NOT_an NOT_iphone NOT_x NOT_but NOT_can NOT_not NOT_get NOT_me NOT_a NOT_ulta NOT_gift NOT_card NOT_smh get ulta gift card smh', 'love note 8 awesome phone sister small hands didnt like buy 1 get 1 ordered apple im getting note 8 back', 'NOT_this NOT_what NOT_i NOT_want want', 'crazy love video dont NOT_crazy NOT_love NOT_with NOT_this NOT_video buy parody commercial https youtu beqknddc_ervy via youtube', 'love w', 'hmm johnlegere thought tmobile uncarrier harder buy apple upgrade program new enrollee tmobile att tmobile shows need go apple store', 'im love w', 'need lot convincing NOT_need NOT_a NOT_lot NOT_of NOT_convincing NOT_to NOT_not NOT_buy NOT_this NOT_iphone NOT_x NOT_lol buy lol', 'glitch get us buy', 'love still wish wouldve made plus tho', 'today great start first time ever screen cracked phone also issues sound past week', 'wish grandpa would switch sprint could get', 'NOT_not NOT_wait NOT_to NOT_get NOT_my NOT_iphone NOT_x NOT_wish NOT_they NOT_came NOT_in NOT_more NOT_colors NOT_though wait get wish came colors though', 'reareal_t3vin11 buy christmas ill love foreverrrrrr', 'really want', 'daddy tried got money like NOT_daddy NOT_tried NOT_me NOT_on NOT_that NOT_ NOT_do NOT_you NOT_got NOT_iphone NOT_x NOT_money NOT_ NOT_like NOT_no NOT_nigga NOT_but NOT_you NOT_do NOT_now NOT_buy NOT_it nigga buy', 'markdohner im cant wait giveaway announcement weekend haha', 'lexysavvides im total love saw camera test videos wish meet go someday', 'wish could get new iphonex', 'need sugar daddy buy', '49 cheaper buy adult llama get', 'im fucking stressed depressed cant buy untill august 2018 need psychopath kill', 'anyone freeze never NOT_iphone NOT_x NOT_just NOT_freeze NOT_on NOT_them NOT_and NOT_never NOT_work NOT_again NOT_too work feel like bought damn bootleg smh terrible luck w phones man need get hypnotized curse', 'get funding january ima buy one dufresh4 paintings feel real expensive pic twitter com3ech4wkrjc', 'omg snap chat got blocked lmao think im need new dat phone buy house africa', 'idk ima buy christmas year said wanted need new laptop', 'cant enjoy animoji unless buy', 'dont NOT_you NOT_wish NOT_it NOT_came NOT_out NOT_of NOT_the NOT_box NOT_like NOT_this wish came box like next best thing visit http 7layerskinz com make samsunggalaxy note8 s8 iphonex iphone8 skincare custom wednesdaythoughts pic twitter come7nqh9sdq2', 'come bulgaria alreadyyyyyyyyyyyyy xd 100200 entire country didnt NOT_iphone NOT_x NOT_just NOT_come NOT_to NOT_bulgaria NOT_alreadyyyyyyyyyyyyy NOT_xd NOT_they NOT_had NOT_100200 NOT_for camp infront store might get 2 weeks guess money really cant buy everything', 'get todaybest buy', 'going buy christmas deserve something really', 'feel like old man used w home bottom didnt NOT_feel NOT_like NOT_an NOT_old NOT_man NOT_ NOT_i NOT_used NOT_the NOT_iphone NOT_x NOT_w NOT_o NOT_the NOT_home NOT_bottom NOT_and NOT_didnt NOT_like NOT_it like change felt strange whereismyhomebutton cognitivedissonance', 'returning still really like little se like reach whole screen', 'apple thinks breaking phones get us buy newest ones 8 NOT_apple NOT_thinks NOT_breaking NOT_down NOT_our NOT_phones NOT_to NOT_get NOT_us NOT_buy NOT_the NOT_newest NOT_ones NOT_ NOT_iphone NOT_8 NOT_and NOT_x NOT_ NOT_its NOT_not NOT_its NOT_just NOT_making NOT_us NOT_broke making us broke', 'hsbc steven pelayo started aapl wif buy rating 193 target co large installed base loyal users cant wait get hands', 'manager toldme gonna get told buy llama instead 50 bucks cheaper gave wtf look walked away', 'almost got fucked w wack like android brand NOT_almost NOT_got NOT_the NOT_iphone NOT_x NOT_and NOT_then NOT_i NOT_fucked NOT_w NOT_ NOT_it NOT_and NOT_it NOT_is NOT_wack interested 8 fire', 'talked w owner today overall actually kinda happy ui issues matter learning others bad misses like pic', 'nathantriska love since buy take ear doctor watching story headphones still love ya tho', 'wish apple get stock december getting impatient', 'wish could get', 'wish one mates would get could good pics night', 'yesterday 20 minute conversation w guy att shouldnt get', 'nah son join club NOT_son problems plus love attention brings let play around mine buy want', 'didnt NOT_didnt NOT_get NOT_any NOT_birthday NOT_presents get birthday presents wants buy christmas', 'really dont NOT_really NOT_dont NOT_understand NOT_why NOT_anyone NOT_would NOT_buy NOT_the NOT_iphone NOT_x understand anyone would buy like really really brand thing cause dont NOT_really NOT_dont NOT_understand NOT_why NOT_anyone NOT_would NOT_buy NOT_the NOT_iphone NOT_x get hype supreme shit either', 'went apple store return buy back get onto upgrade program im tmobile customer', 'african parent buy', 'ok skip november 30th get 6 bullshittin lol prob wont phone w day 2 bc shit tweakin', 'logan could buy make pay love', 'shit fuck sides car dont NOT_how NOT_i NOT_fuck NOT_up NOT_both NOT_sides NOT_of NOT_my NOT_car even wanna wash bitch wanna buy new one 7 tweaking guess get wanna set nice 2018', 'trap get buy newest love charging day', 'wish bigger like size plus', '6 plus since tried get plus range hope bring plus year two buy one poor man', 'need sugardaddy buy cause im broke fuck', 'glad NOT_i NOT_did NOT_not NOT_hit NOT_that NOT_iphone NOT_x NOT_preorder hit preorder going buy one january wait till next fall get bigger one https twitter combusinessinside rstatus930155971191681026', 'wait people buy flame notch theyre buying 0 99 app make look like normal', 'people mad zoella 50 calendar buy overpriced 1000 costs 250 make', 'prolly gonna get plus comes next year w 10 5 display everything gets worked', 'applesupport apple whats going apple authorised stores selling higher prices selling combining apple watch something else need compelling buy lucknow', 'trying idk go w home button love apple personally shit wack', 'curryspcworld want buy tax refund im leaving', 'like wanna spend rack', 'someone buy see fixed battery dying every 10 minutes problem get back thanks', '7 plus store playing note 8 note 8 blew away love glad purchased complaint', 'jasonnash please love like love kids buy', 'want dont NOT_want NOT_the NOT_iphone NOT_x NOT_but NOT_dont NOT_feel NOT_like NOT_waiting NOT_for NOT_it NOT_i NOT_want NOT_the NOT_gold NOT_8 NOT_plus NOT_too NOT_idk NOT_what NOT_im NOT_gonna NOT_do NOT_because NOT_i NOT_already NOT_have NOT_the NOT_7 NOT_plus NOT_and NOT_thats NOT_basically NOT_the NOT_same NOT_as NOT_the NOT_8 NOT_but NOT_i NOT_love NOT_the NOT_color NOT_lmao NOT_im NOT_terrible NOT_i NOT_wish NOT_the NOT_8 NOT_was NOT_a NOT_full NOT_screen NOT_like NOT_the NOT_x feel like waiting want gold 8 plus idk im gonna already 7 plus thats basically 8 love color lmao im terrible wish 8 full screen like', 'wish could somehow get win mother really want phone real', 'love everything except horrendous sound qualityspeaker issues cracklingsound w http ift ttea8v8j', 'want buy need see size first', 'apple really thinks get buy slowing phone right causing glitch 247 theyre absolutely right take money', 'never NOT_why NOT_you NOT_never NOT_buy NOT_the NOT_first NOT_batches NOT_of NOT_anything NOT_new NOT_the NOT_iphone NOT_x NOT_freezes NOT_when NOT_its NOT_cold NOT_like NOT_wtf buy first batches anything new freezes cold like wtf', 'really ready 2 get home play around w', 'really want im going buy though whatever phone get lol', 'wanna buy dont NOT_wanna NOT_buy NOT_the NOT_iphone NOT_x NOT_but NOT_dont NOT_wanna NOT_wait NOT_till NOT_january NOT_to NOT_get NOT_it wanna wait till january get', 'every update 6 gets slower like apple want buy something', 'want get paid buy', 'im really NOT_really NOT_not NOT_trynna NOT_buy NOT_an NOT_iphone NOT_8 NOT_i NOT_need NOT_an NOT_x NOT_unlocked trynna buy 8 need unlocked', 'tryna get tech father buy keep prayers', 'flagship phones chose s8 although pixel 2 wasnt yet reason get want rejoin apple ecosystem s8 everything would got new htc flagship phone no1 w contract', 'like NOT_this NOT_is NOT_not NOT_going NOT_to NOT_make NOT_me NOT_buy NOT_iphone NOT_x going make buy NOT_this NOT_is NOT_not NOT_going NOT_to NOT_make NOT_me NOT_buy NOT_iphone NOT_x thousand dollar fix lol', 'lol said buy get back 300 24 months pic twitter com7tzbh5hnj4', 'might go buy today', 'hey everyone broken going get fix buy dont NOT_everyone NOT_my NOT_is NOT_broken NOT_am NOT_going NOT_to NOT_get NOT_it NOT_fix NOT_or NOT_buy NOT_the NOT_iphone NOT_x NOT_i NOT_dont NOT_know know', 'get comfort zone see world dont NOT_out NOT_of NOT_your NOT_comfort NOT_zone NOT_ NOT_see NOT_the NOT_world need new fancy shoes buy ticket make memories', 'need someone buy make cute talking emoji videos lily', 'hands camera screen nice', 'apple NOT_apple NOT_no NOT_news NOT_of NOT_iphone NOT_x NOT_in NOT_panchkula NOT_india news panchkula india buy phone going late need urgent update availability', 'better buy phone outright go another contract contract ends like 5 months want 8', 'couldnt get today bc stock next month think may go buy new gun', 'wow loren 7 plus lucky wish rich like beechloren02 loren musically stars', 'love best purchase ever made', 'im generally favor system old one', 'actually sort like buy pay tiffany amp', 'samsungmobile thanks giving apple 999 face recognition feature samsung galaxy max 246 love u samsung never NOT_samsungmobile NOT_thanks NOT_for NOT_giving NOT_me NOT_apple NOT_iphone NOT_x NOT_999 NOT_face NOT_recognition NOT_feature NOT_in NOT_samsung NOT_galaxy NOT_on NOT_max NOT_246 NOT_only buy samsungmobile best', 'first need sell kidney', 'NOT_no NOT_no NOT_no NOT_no NOT_no NOT_no NOT_no NOT_no NOT_no NOT_no NOT_no NOT_no NOT_no NOT_no NOT_no NOT_no NOT_no NOT_no NOT_no NOT_no NOT_no NOT_no NOT_no NOT_no NOT_no NOT_no NOT_no NOT_no NOT_no NOT_no NOT_no NOT_no NOT_no NOT_no NOT_no NOT_no NOT_no NOT_no NOT_no NOT_no NOT_no NOT_no phone battery fucked phone went 100 26 50 mins im calling applesupport soon get room like wtf yall want mfs buy fucking', 'anyone buy give need new phone im poor thanks', 'wish hadnt played around sort fell love also dont NOT_wish NOT_i NOT_hadnt NOT_played NOT_around NOT_with NOT_an NOT_iphone NOT_x NOT_because NOT_i NOT_sort NOT_of NOT_fell NOT_in NOT_love want drop kind phone sooo lol', 'great actually bravo samsung funny ad wish ads fun like', 'att best buy stores get 256gb', 'guess isnt tht bad tht didnt manage get th since thr problems w whatsapp instagram shall patient wait th next batch', 'applesupport id like buy upgrade programme uk already programme site says NOT_id NOT_like NOT_to NOT_buy NOT_an NOT_iphone NOT_x NOT_on NOT_the NOT_iphone NOT_upgrade NOT_programme NOT_in NOT_the NOT_uk NOT_not NOT_already NOT_on NOT_the NOT_programme taking reservations buy store right please check back 06 0', 'really wish need camera wont make look ugly', 'retard sold ipad spent like 300 buy NOT_sold NOT_his NOT_ipad NOT_and NOT_iphone NOT_and NOT_spent NOT_like NOT_300 NOT_more NOT_to NOT_buy NOT_the NOT_iphone NOT_x NOT_and NOT_its NOT_not NOT_even NOT_that NOT_much NOT_different even much different', 'need portrait photo blurred background dont NOT_a NOT_portrait NOT_photo NOT_with NOT_blurred NOT_background buy', 'oh damn wish could buy 8 wait month get brag friends', 'got new', 'dont NOT_dont NOT_get NOT_why NOT_people NOT_still NOT_buy NOT_iphone NOT_x NOT_hahaha get people still buy hahaha waste money', 'might buy gaming pc tbh alright dont NOT_might NOT_just NOT_buy NOT_a NOT_gaming NOT_pc NOT_tbh NOT_the NOT_iphone NOT_x NOT_is NOT_alright NOT_but NOT_i NOT_dont NOT_really NOT_have NOT_friends NOT_to NOT_blow NOT_up NOT_my NOT_phone NOT_not NOT_really NOT_the NOT_popular NOT_type NOT_and NOT_i NOT_also NOT_really NOT_want NOT_to NOT_play NOT_pubg NOT_and NOT_other NOT_games NOT_on NOT_pc NOT_but NOT_idk NOT_pubg NOT_is NOT_coming NOT_out NOT_for NOT_the NOT_xbox NOT_soon NOT_so NOT_i NOT_cant NOT_choose NOT_what NOT_to NOT_get really friends blow phone NOT_might NOT_just NOT_buy NOT_a NOT_gaming NOT_pc NOT_tbh NOT_the NOT_iphone NOT_x NOT_is NOT_alright NOT_but NOT_i NOT_dont NOT_really NOT_have NOT_friends NOT_to NOT_blow NOT_up NOT_my NOT_phone NOT_not NOT_really NOT_the NOT_popular NOT_type NOT_and NOT_i NOT_also NOT_really NOT_want NOT_to NOT_play NOT_pubg NOT_and NOT_other NOT_games NOT_on NOT_pc NOT_but NOT_idk NOT_pubg NOT_is NOT_coming NOT_out NOT_for NOT_the NOT_xbox NOT_soon NOT_so NOT_i NOT_cant NOT_choose NOT_what NOT_to NOT_get really popular type also really want play pubg games pc idk pubg coming xbox soon cant choose get also 280c', 'dont NOT_buy NOT_the NOT_iphone NOT_x buy get mate 10 pro instead', 'somebody buy bday love u forever', 'want get drunk buy NOT_to NOT_get NOT_drunk NOT_tonight NOT_so NOT_i NOT_can NOT_buy NOT_the NOT_iphone NOT_x NOT_and NOT_not NOT_feel NOT_guilty NOT_about NOT_it feel guilty', '100 convinced ios 11 glitches conspiracy apple get everyone buy new apple', 'need NOT_i NOT_need NOT_the NOT_iphone NOT_x', 'get home ny buy 400 onlyme', 'im trying get u buy one please dad', 'used front face camera realized im ugly camera like another good reason NOT_the NOT_front NOT_face NOT_camera NOT_on NOT_the NOT_iphone NOT_x NOT_ NOT_realized NOT_im NOT_too NOT_ugly NOT_to NOT_own NOT_a NOT_camera NOT_like NOT_that buy shit', 'played feels perfect like phone ought', 'fell love w', 'buy could get 333 tesco meal deals instead', 'wish money get ive already bought airpods', 'need reason buy new 1000', 'biggest wish future proper fast charging support box adapter', 'wish could win', 'wish could get dont NOT_wish NOT_i NOT_could NOT_get NOT_the NOT_iphone NOT_x NOT_but NOT_dont NOT_have NOT_1k NOT_to NOT_spend 1k spend', 'playing work day pretty decent lovely things like screen brightness size new gestures get around notch noticeable first', 'NOT_not NOT_buy NOT_an NOT_iphone NOT_x NOT_because NOT_it NOT_ruins NOT_your NOT_life buy ruins life talking phone like', 'wow wish could get like planned sprint screwed third fourth year row', 'like', 'NOT_one NOT_is NOT_forcing NOT_you NOT_to NOT_buy NOT_it one forcing buy dont NOT_one NOT_is NOT_forcing NOT_you NOT_to NOT_buy NOT_it want', 'dad said get job hed buy sooooo whos hiring', 'today professor talking students buying like cant even afford buy new groceries', 'length contract 2 years per usual ok pay 82 per month ee ok crazy eh would NOT_length NOT_of NOT_contract NOT_for NOT_this NOT_iphone NOT_x NOT_is NOT_2 NOT_years NOT_as NOT_per NOT_usual NOT_ok pay million years laugh would recommend buy one plus 5 395 ok sim deal 20 per month 3', 'want 3d face login edge edge display people want reason wont buy oled burnin wont get much better without using oled displays havent done yet many money w', 'also money id rather buy something like ipad pro', 'grayson randomly told bro 950 buy llama', 'id rather buy cause u get longer phone instead paying 79 2 minutes tbh', 'finally got cali go go best buy san francisco homeless man stack least 5k runs best buy day look money throws table says need', 'looks like nice piece machinery buy', 'college students complaining theyre broke go buy like went 3 weeks without groceries wait aldi reopen', 'yo fuck get enough money buy', 'well lol 240 feature got activated everyone still wanna get xbox one dont enough lol insanely expensive u gonna lol tried win xbox one didnt win sooo oh well haha wish', 'buy dream christmas though us get 15 https goo glb3xnbe', 'mom offered buy bro gets cs used get grounded weeks b still mad', 'tim_cook congrats huge success iphonex sad available india almost 1500 pls look already premium phone love iphones pls see dealers dont NOT_congrats NOT_for NOT_huge NOT_success NOT_on NOT_iphonex exploit lovers finding diffic', 'anybody need kidney currently selling mine purchase new dm interested', 'dont NOT_dont NOT_get NOT_why NOT_people NOT_freak NOT_about NOT_about NOT_the NOT_iphone NOT_x NOT_being NOT_999 get people freak 999 like 910 people dont NOT_dont NOT_get NOT_why NOT_people NOT_freak NOT_about NOT_about NOT_the NOT_iphone NOT_x NOT_being NOT_999 outright buy phone NOT_dont NOT_get NOT_why NOT_people NOT_freak NOT_about NOT_about NOT_the NOT_iphone NOT_x NOT_being NOT_999 realize paying 769 older iphones', 'ngl definitely one best purchase highly advisee go get', 'wish youtube would use filters like', 'urge support buy inexpensive phones reject consumerist mindset dont NOT_urge NOT_you NOT_to NOT_support NOT_and NOT_buy NOT_inexpensive NOT_phones need buy 1', 'told apple rep yesterday 4 major us carriers bought deal apple offer models networks intial launch explains NOT_was NOT_told NOT_by NOT_an NOT_apple NOT_rep NOT_yesterday NOT_that NOT_the NOT_4 NOT_major NOT_us NOT_carriers NOT_bought NOT_into NOT_a NOT_deal NOT_with NOT_apple NOT_to NOT_only NOT_offer NOT_iphone NOT_x NOT_models NOT_on NOT_their NOT_networks NOT_during NOT_intial NOT_launch NOT_explains NOT_why NOT_no NOT_unlocked NOT_model NOT_as NOT_of NOT_yet NOT_ NOT_i NOT_wonder NOT_if NOT_tmobiles NOT_buy unlocked model yet wonder tmobiles buy', 'dont NOT_dont NOT_need NOT_those NOT_perfect NOT_tooth need perfect tooth need buy wakakakaka', 'since cant purchase decided get official wallpaper pic twitter combbvbifoe8s', '1password noticed issue w latest version app tends copy otps regardless copy password', 'buy new instead samsung s8 bad sheep need word', 'wonder asked begged dad would buy', 'wtf feel like purposely make stop working buy shitty ass', 'im thinking 8 plus may last purchase im gonna rock w one dont NOT_thinking NOT_this NOT_8 NOT_plus NOT_may NOT_be NOT_the NOT_last NOT_iphone NOT_i NOT_purchase want never NOT_thinking NOT_this NOT_8 NOT_plus NOT_may NOT_be NOT_the NOT_last NOT_iphone NOT_i NOT_purchase desired cop 5th 4s', 'apple glitching shit purpose get ppl buy expensive ass costs owe car tf', 'cracked phone like dumbass smh time buy mf', 'wake tell everyday dont NOT_to NOT_wake NOT_up NOT_and NOT_tell NOT_myself NOT_everyday NOT_no NOT_you NOT_dont NOT_need NOT_to NOT_trade NOT_in NOT_your NOT_phone NOT_and NOT_buy NOT_the NOT_iphone NOT_x NOT_ need trade phone buy', 'yeah dont NOT_i NOT_dont NOT_really NOT_like NOT_that NOT_nor NOT_do NOT_i NOT_trust NOT_it NOT_so really like trust didnt NOT_i NOT_dont NOT_really NOT_like NOT_that NOT_nor NOT_do NOT_i NOT_trust NOT_it NOT_so buy', 'give solid 1010 recognizing face w makeup anddddd w glasses bc barely recognize like', 'think apple fucking way get annoyed buy', 'u need go applestore could barely get guess whole world moron buy apple stock buy', 'phone awesome want buy old want sell kindly contact us NOT_x NOT_phone NOT_was NOT_awesome NOT_but NOT_i NOT_want NOT_buy NOT_yours NOT_old NOT_iphone NOT_if NOT_you NOT_want NOT_to NOT_sell NOT_them NOT_kindly NOT_contact NOT_us NOT_my NOT_no NOT_9934000507 NOT_and NOT_whatsapp NOT_also 9934000507 whatsapp also', 'liked youtube video http youtu begy2t9uwuhmw 10 augmented reality review bad battery life heat test total fail', 'got 8 since 8 plus big iphonex still order wait many weeks course expensive pic twitter comkueayojwmn', 'im glad good camera look good pictures look bad low quality cameras cooper morgan', 'expensive sure freeze lot', 'im thinking ask thats really expensive thing want lol', 'rt qz cheapest expensive dollars', 'butttt hella expensive', 'expensive', 'got bad reviews', 'read many bad reviews theyre NOT_you NOT_read NOT_many NOT_bad NOT_reviews NOT_about NOT_iphone NOT_x jealous', 'im broke want kinda bad', 'bad', 'camera terrible w bad lighting', 'literally hate NOT_literally NOT_hate NOT_the NOT_iphone NOT_x NOT_so NOT_much much', 'kinda dislike lock button volume buttons placed im trying put volume whilst watching someones snaps instead screenshot', 'expensive cause samsung control monopoly display uses raised price ass', 'glad didnt NOT_glad NOT_i NOT_didnt NOT_wait NOT_for NOT_the NOT_iphone NOT_x wait hate NOT_glad NOT_i NOT_didnt NOT_wait NOT_for NOT_the NOT_iphone NOT_x', 'uprgrading 6 tuesday', 'costs 370 make reason expensive compete samsung samsungs s8 isnt expensive', 'added video youtube playlist http youtu be0vzgklj9mpq sophia talking expensive singularity hanson', 'want bad like dont NOT_want NOT_the NOT_iphone NOT_x NOT_so NOT_bad NOT_but NOT_like wanna spend 1300 phone', 'omg want soooo bad whos', 'green line display problem apple new problem owners super expensive https goo glfbfu76pf', 'im hearing many bad things im tempted cancel shipment stay 7plus', 'finally saw yesterday NOT_saw NOT_iphone NOT_x NOT_yesterday NOT_and NOT_its NOT_not NOT_bad NOT_o NOT_but NOT_wasnt NOT_worth NOT_all NOT_the NOT_hype NOT_jo bad wasnt worth hype jo', 'love hate NOT_hate NOT_relationship NOT_with NOT_this NOT_iphone NOT_x relationship', 'get youll realize bad', 'front camera really bad', 'might switch phone boring already', 'whys NOT_no NOT_one NOT_talking NOT_about NOT_how NOT_bad NOT_the NOT_radios NOT_are NOT_in NOT_this NOT_iphone NOT_x one talking bad radios real bad', 'camera fucking horrific', 'im buzzing finally get tomorrow', 'buy', 'liked youtube video http youtu becmiz1lcq5fk toronto canada 4k', 'got pixel 3 finally verdict 1 much smarter think one important yet overlooked 2 camera ridiculous 3 NOT_my NOT_pixel NOT_3 NOT_finally smooth apple ecosystem awesome 4 enjoyable use', 'seriously considering trading flip phone face recognition crap creeping bigbrother iphonexr', 'apple NOT_no NOT_longer NOT_sells NOT_the NOT_iphone NOT_x longer sells doesnt mean shouldnt protect one https cnet co2ds00h2', 'liked youtube video http youtu besqldxppmse smashing public prank 4', 'omg live quality hshshsh pic twitter com4lipdpjbuf', 'screen amazing thank goodness went og instead xr like originally planned blue color tempting though lol', 'u silly bitch', 'biggest struggle easy screenshot things ive month ive screenshotted many peoples snapchat instagram stories accident', 'applesupport iphonex calls phone cant hear end unless speaker every time take issue apple n throw new iphonex right 3rd replacement phone warranty ends sham', 'big money want money money hmmmm', 'got compliments verizons bf sending texts personal emoji anyone know wont end well', 'back lens rotates small set screw rotate v vertical 1 33x', 'want win sena cases xs giveaway enter win 1st prize entered win http gvwy ioemu3ld0', 'everything ios shit even haptics dinosaur thugnology applepay sux ux', 'time get', 'wait monday get', 'vem', 'want new phone im sick', 'im feeling behind times 7 right didnt NOT_feeling NOT_very NOT_behind NOT_the NOT_times NOT_with NOT_my NOT_iphone NOT_7 NOT_right NOT_now NOT_i NOT_didnt NOT_know NOT_these NOT_iphone NOT_x NOT_s NOT_existed know existed', 'came', 'need business', 'best cyber week deals xs xr 8 http dlvr itqsrghp pic twitter com0w6rdfvpfm', 'stupidity buy max faulty NOT_is NOT_when NOT_you NOT_buy NOT_an NOT_iphone NOT_x NOT_max NOT_then NOT_when NOT_its NOT_faulty reasonable person help fix nigeria', 'use 7 phone charger thats win guess', 'lady buying 7 maxes outright bread', 'yeah far apple done good job oled havent read stuff earlier apple watch ui elements stuck hope see promotion elsewhere might get tough mac using igpus though', 'today received brand new day handing old smashed one understand pay 16 month insurance', 'basically lol', 'came im excited cant wait activate make', 'got gained 100 followers roadto500k pic twitter comrefhi3gc8v', 'told dream big yeah', 'stand chance win iphonex simply click link http sasautos com link43316119 3t5g9y sc1sc1l1ppy4291063', 'whats difference max', 'siracusa listened hypercritical 16 whole episode lcd ghosting horrible doesnt oled ghosting annoy drives crazy every time scroll black backgrounds', 'wont bad https twitter comafuaasamstatu s1068249266026614784', '150 dickhead written', 'still sexy year later', 'NOT_not NOT_im NOT_using NOT_my NOT_kidney im using kidney omo ferrari buggati max live life fullest', 'max sale', 'someone told ive never NOT_once NOT_told NOT_me NOT_that seen ios turned especially old devices think saw someones', 'screenshots look clapped', 'looks like u use 6 already', 'wtf takes long charge', 'tecno y3 face unlock samsung s3 s3 features NOT_y3 NOT_or NOT_so NOT_had NOT_face NOT_unlock hear word https twitter comolajvdestatus 1068026546504548352', 'thanks im interested local ee shop couldnt match o2 cost would like stay match price 64gb phone 4gb data 24 month contract 45 pm upfront cost', 'win envirofone festive season https www vouchercloud com did1988896r efkj8m0aemiim4jh0x3cgyiq3d3dutm_sourcecompetitionutm_mediumreferralutm_campaigncompetition20sharing via vouchercloud iphonex', 'lololol everyone knows iphonex oversaturated pic lost first round', 'mum got scammed 200 trying buy 99cents', 'ios whole doesnt feel polished new ipad pros iphonex generation ios 13 needs deliver significant ui enchantments features would take advantage true depth camera system ipad pro also needs serious attention terms pro features', 'got 10 sale 6 4 im pretty sure u get something', '6 regular plus 78 regular plus 3 25 free shipping retweet pic twitter comiayz2yxnza', 'im replying s9 trust say look oneplus went 3t tho s9 cant wait get back op 6t contract ends sister ive experienced pics gaming main uses', 'nope bell mts', 'unclaimed euro millions winner skegness find could get christmas pls wanna add funds wont say NOT_the NOT_unclaimed NOT_euro NOT_millions NOT_winner NOT_in NOT_skegness', 'bro camera quality better come tf next friday aint get phone nothin', 'would onboard one camera phone quality takes steep nose dive going s9 pixel nokia solid cameras cant keep flagships', 'bullshit apple watch airpods ipad pro hit products', 'letter thanks fucking', 'thats decade knew', '', 'yeah talking friend whos att manager saying im looking 1k xs think need 256gb since 128gb struggling wouldnt even sync computer back', '10 friday get get max', 'hello david find pricing information different available tabs https goo glyafuzy kd', 'instead giving one example max4 200 400k NOT_instead NOT_of NOT_giving NOT_out NOT_just NOT_one NOT_for NOT_example NOT_the NOT_iphone NOT_x NOT_max4 NOT_200 NOT_which NOT_about NOT_400k NOT_off use fund reduce prices gadgets customers benefit', 'find 4k naira jumia app tire black friday mehn na die oh', 'youre right theyre even bonkers guess folk would NOT_right NOT_there carry 1000 pocket doesnt seem consideration iphonex', 'daughters cant even cast music onto 75 inch sony tv apple lame gear losers dont NOT_daughters NOT_iphone NOT_x NOT_cant NOT_even NOT_cast NOT_music NOT_onto NOT_my NOT_75 NOT_inch NOT_sony NOT_tv understand theyre buying', 'really love', 'obviously p better theyre fucking stupid bet pixel3', 'im still getting opportunity win hahaha', 'real important actually want deal new good actually', 'buy airtel online store', 'wish apple give free sample might patronize really nice', 'love everything except size wish size 7 plus', 'every time think buying like use money travel europe buy car', 'strong wallet closed NOT_will NOT_is NOT_strong need strong wallet closed NOT_will NOT_is NOT_strong need w', 'honestly excited get hands never NOT_honestly NOT_am NOT_excited NOT_to NOT_get NOT_my NOT_hands NOT_on NOT_the NOT_iphone NOT_x NOT_but NOT_i NOT_will NOT_never NOT_buy NOT_one buy one dislike iphones every new release', 'alhamdulillah akhirnya 256gb', 'support phone today 109 152 apps including stock apps updated thats 72 NOT_x NOT_support NOT_on NOT_my NOT_phone NOT_today bad', 'news twelve hours strongly dislike NOT_other NOT_news feeling', 'couldnt agree review absolute favourite sorry', 'hate NOT_de NOT_recevoir NOT_mon NOT_iphone NOT_x NOT_chez NOT_maroc_telecom NOT_https NOT_ NOT_twitter NOT_commaroc_telecom NOT_status930437339305971712 NOT_ de recevoir mon chez maroc_telecom https twitter commaroc_telecom status930437339305971712', 'hate NOT_hate NOT_the NOT_phone NOT_im NOT_using NOT_right NOT_now phone im using right main reason im NOT_hate NOT_the NOT_phone NOT_im NOT_using NOT_right NOT_now using twitter right 4 weeks', 'liked youtube video http youtu beou89o_ppuby review good bad', 'pengen beli tapi belom pernah pake sampe w takut bad experience', 'like cant afford expensive', 'going get tomorrow hate NOT_to NOT_get NOT_the NOT_iphone NOT_x NOT_tomorrow phone', 'hate NOT_to NOT_be NOT_this NOT_guy NOT_but NOT_since NOT_the NOT_iphone NOT_8 NOT_and NOT_iphone NOT_x NOT_have NOT_been NOT_released NOT_my NOT_7 NOT_has NOT_been NOT_slow NOT_and NOT_freezing NOT_constantly guy since 8 released 7 slow freezing constantly', 'daily motivation u feel useless think notch', 'bad reviews', 'bought expensive reserve right gripe vagaries ownership', 'expensive new one iphonex apple', 'take 8 expensive still doubts new features', 'ive tried every way return phone 14 day limit hate NOT_tried NOT_every NOT_way NOT_to NOT_return NOT_my NOT_phone NOT_before NOT_the NOT_14 NOT_day NOT_limit', 'screw', 'apple didnt NOT_didnt NOT_include NOT_a NOT_number NOT_of NOT_gigabit NOT_lte NOT_technologies NOT_in NOT_the NOT_iphone NOT_x NOT_or NOT_iphone NOT_8 NOT_this NOT_year include number gigabit lte technologies 8 year even though android flagships features newest expensive iphones massively slower android counterparts', 'want bad', 'many bad reviews', 'damn camera quality sucks ass bad dinrcgot like oldest brother', 'really hate NOT_really NOT_hate NOT_putting NOT_in NOT_my NOT_code NOT_to NOT_unlock NOT_my NOT_phone putting code unlock phone hoping comes fingerprint asap', 'want bad', 'oh yeah upshelp dont NOT_yeah NOT_upshelp remember asking send back 1000 customer service representative absolutely useless pic twitter comzhgomp7sr3', 'repeatedly goes black screen spinning icon andddddd bad boy returned', 'apple review best yet https youtu be9ca8zwjolfq via youtube always look forward mkbhd reviews never NOT_iphone NOT_x NOT_review NOT_ NOT_the NOT_best NOT_yet biased good hell say', 'ridiculously expensive', 'second primary phone', 'talked w owner today overall actually kinda happy ui issues matter learning others bad misses like pic', 'liked youtube video http youtu beou89o_ppuby review good bad', 'one new follower would lol started following vid funny samsung never NOT_one NOT_new NOT_follower NOT_would NOT_be NOT_me NOT_lol NOT_i NOT_started NOT_following NOT_you NOT_from NOT_your NOT_iphone NOT_x NOT_vid NOT_so NOT_funny NOT_i NOT_have NOT_samsung NOT_and NOT_never NOT_looked NOT_back NOT_from NOT_my NOT_iphone NOT_4 NOT_days NOT_never NOT_hate NOT_only looked back 4 days never NOT_one NOT_new NOT_follower NOT_would NOT_be NOT_me NOT_lol NOT_i NOT_started NOT_following NOT_you NOT_from NOT_your NOT_iphone NOT_x NOT_vid NOT_so NOT_funny NOT_i NOT_have NOT_samsung NOT_and NOT_never NOT_looked NOT_back NOT_from NOT_my NOT_iphone NOT_4 NOT_days NOT_never NOT_hate NOT_only hate NOT_one NOT_new NOT_follower NOT_would NOT_be NOT_me NOT_lol NOT_i NOT_started NOT_following NOT_you NOT_from NOT_your NOT_iphone NOT_x NOT_vid NOT_so NOT_funny NOT_i NOT_have NOT_samsung NOT_and NOT_never NOT_looked NOT_back NOT_from NOT_my NOT_iphone NOT_4 NOT_days NOT_never NOT_hate NOT_only', 'delivery today meant arrive 245 sitting apartment 545 go find missed delivery notice ups 540 NOT_x NOT_out NOT_for NOT_delivery NOT_today knock', 'want bad', 'getting bad reviews', 'bad problems hon hai tculpan break us coming daybreakasia radio davidinglestv', 'saw today could deal size', 'bad problems hon hai tculpan break us coming daybreakasia radio davidinglestv', 'sounds bad end srory', 'issue need new one utterly useless like tomorrow travel colombia soon ordering requires 34 week wait', 'days thought id hate NOT_days NOT_into NOT_the NOT_iphone NOT_x size screen picking 7 already feels small comparison irritating though severity offangle colour shifting oled display concludes bens gadget review', 'want soooo bad dont NOT_want NOT_the NOT_iphone NOT_x NOT_soooo NOT_bad NOT_but NOT_i NOT_dont NOT_want NOT_a NOT_smaller NOT_phone want smaller phone', 'news trolls keep saying horizontal video looks bad http ht lyjzup50fbcgr', 'agree justify since 17 expensive 8 slightly better camera', 'want bad', 'hate NOT_hate NOT_the NOT_iphone NOT_x NOT_already already', 'looks great', 'kid fools face id', 'thinkin bout ditching tho shit boring', 'embracing notch adapting controversial design decision hate NOT_the NOT_notch NOT_ NOT_how NOT_are NOT_you NOT_adapting NOT_to NOT_the NOT_most NOT_controversial NOT_iphone NOT_x NOT_design NOT_decision everything', 'multiple reported issues cracked screens bad audio ciaravinoecon', 'want bad im broke', 'ok anyone ive heard good bad things im looking upgrade next week', 'saw new apple store today screen seemed really dark', 'watch 10yearolds face unlock moms wired always thought bad idea https apple newsa5quuwcqrbun9 e8n96wyoq', 'lot articles bad face recognition last days every mistake may input next generation recognition model', 'want 8 bad', 'talking apple day notch top screen', 'hate NOT_hate NOT_it NOT_because NOT_its NOT_not NOT_on NOT_my NOT_iphone NOT_x NOT_right NOT_now NOT_hate NOT_it NOT_because NOT_its NOT_not NOT_on NOT_my NOT_iphone NOT_x NOT_right NOT_now right', 'im NOT_not NOT_saying NOT_the NOT_iphone NOT_x NOT_is NOT_bad NOT_but NOT_i NOT_have NOT_a NOT_paper NOT_cut NOT_after NOT_holding NOT_one saying bad paper cut holding one', 'agree got 8 plus', 'tbh still needs improvements', 'crazy sooo many people dislike going 8 wow wow wow', 'contract ending im due upgrade phone 8 expensive per month', 'much hate NOT_much NOT_as NOT_i NOT_hate NOT_the NOT_price NOT_and NOT_i NOT_want NOT_to NOT_return NOT_the NOT_iphone NOT_x NOT_back price want return back', 'people getting 8 instead feel like thats bad choice', 'expensive bas', 'everyone forgotten expensive since zoellas advent calendar', 'dropped 1 week review good bad experiences shared rts appreciated thanks https youtu beed3r9bzzlge pic twitter comama02k5njc', 'guess experiencing lots problems feel bad whoever dropped rack phone', 'tweaking hate NOT_x NOT_be NOT_tweaking NOT_i NOT_hate NOT_it', 'ee unhappy service swapped three ee delivery pushed back 3 times bad choice switching', 'way expensive plan right', 'saw front camera shit look bad', 'like dislike', 'apple really owe free bad phone glitching', 'apple applesupport worst update ever either yall seriously trying trick people getting yall seriously ready release new ios nothing works phone lags bad apple genius told', 'bad experience', 'want bad', 'samsung phones waterproof', 'apples facialrecognition login system rather expensive', 'want bad way bank account set', 'bad ass swear worth paying grand', 'guess breaking even selling isnt bad', '10yearold unlocks face id mothers questionable mask spoofing surfaces hate NOT_unlocks NOT_face NOT_id NOT_on NOT_his NOT_mothers NOT_iphone NOT_x NOT_as NOT_questionable NOT_mask NOT_spoofing NOT_surfaces everything', 'hey casey know said hate NOT_casey NOT_i NOT_know NOT_you NOT_said NOT_you NOT_hate NOT_the NOT_top NOT_of NOT_the NOT_iphone NOT_x NOT_and NOT_thought NOT_you NOT_should NOT_take NOT_a NOT_look NOT_at NOT_this NOT_video NOT_if NOT_you NOT_havent NOT_seen NOT_or NOT_heard NOT_about NOT_it NOT_already top thought take look video havent seen heard already', 'really hate NOT_really NOT_hate NOT_how NOT_legit NOT_they NOT_make NOT_the NOT_iphone NOT_x NOT_look NOT_physically legit make look physically really canceled shit', 'gotta say ive seeing lots hate NOT_say NOT_ive NOT_been NOT_seeing NOT_lots NOT_of NOT_hate NOT_on NOT_the NOT_iphone NOT_x', 'officialimicca hi bud came israel expensive much cost uk', 'kinda really want dont NOT_kinda NOT_really NOT_want NOT_the NOT_iphone NOT_x NOT_but NOT_i NOT_dont NOT_want NOT_to NOT_look NOT_like NOT_some NOT_rich NOT_ass NOT_kid NOT_that NOT_gets NOT_everything NOT_shoved NOT_up NOT_their NOT_ass want look like rich ass kid gets everything shoved ass id buy money worked dont NOT_kinda NOT_really NOT_want NOT_the NOT_iphone NOT_x NOT_but NOT_i NOT_dont NOT_want NOT_to NOT_look NOT_like NOT_some NOT_rich NOT_ass NOT_kid NOT_that NOT_gets NOT_everything NOT_shoved NOT_up NOT_their NOT_ass know ughhh', 'gonna buy 10', 'need sugar daddy buy new christmas fuck independent woman', 'apple booked 4th nov promised get 23 days today 12th nov izen people say want get phone first buy speaker 38000 really upset apple didnt expected looks like apple b', 'awesome explanation rajivmakhni 7 plus confused whether buy NOT_that NOT_is NOT_some NOT_awesome NOT_explanation NOT_rajivmakhni sir saved 90k least pic twitter comvupeg5nezx', 'thinking due joy buy cause right im like without wouldnt 2150 beautiful ppl life', 'apple suffered loss 1063', 'iphonex apple attempt feign innovation jumbling ui make feel like fresh dumb NOT_iphonex NOT_apple NOT_attempt NOT_to NOT_feign NOT_innovation NOT_by NOT_jumbling NOT_the NOT_ui NOT_to NOT_make NOT_it NOT_feel NOT_like NOT_its NOT_fresh landscape homescreen stoopid shouldnt read ibooks howto 10 years using fail least steve prepped us w tutorials prerelease', '1010 product would buy face id screen square space tall phone sleeker smaller bc NOT_iphone NOT_x NOT_is NOT_a NOT_1010 NOT_product need outside screen space im fan pic twitter comx1bnvnseqz', 'really wanted guy verizon store said sucks hellllla ppl trouble w guess ill get 8', 'buy 133 33 copies shrek movie instead buying', 'really buy soon get back', 'imma buy lot shit christmas far ipad pro 12 9 imma get everybody else clothes drawls', 'apple wasnt going buy went look couldnt resist love joy use old eyes needed bigger', 'ethandolan graysondolan make phone cases bcs like yeah wanna buy', 'id like buy one impossible brazil highest price world please tim_cook give 3 haha', 'need friend willing buy know yall pic twitter comj5zkczudni', 'lmao wish didnt NOT_i NOT_wish NOT_i NOT_didnt NOT_have NOT_to NOT_wait NOT_a NOT_month NOT_for NOT_my NOT_iphone NOT_x NOT_to NOT_get NOT_here NOT_because NOT_pic NOT_twitter NOT_comjixvit1k0s wait month get pic twitter comjixvit1k0s', 'buy u get jesus free', 'love wish gotten http fb me1jd4s5mfc', 'best buy freehold mall come get 350', 'available purchase', 'think ima buy knowwww said wouldnt get buttt omg want', 'phone cracked little bit thats sign need buy', 'im planning get im thinking buy 3 used 6s girls', 'shit may3 late dey go buy NOT_may3 NOT_late ah', 'apple know new update making phone glitch purpose youre NOT_apple NOT_i NOT_know NOT_this NOT_new NOT_update NOT_is NOT_making NOT_my NOT_phone NOT_glitch NOT_out NOT_on NOT_purpose NOT_youre NOT_not NOT_fooling NOT_me fooling im NOT_apple NOT_i NOT_know NOT_this NOT_new NOT_update NOT_is NOT_making NOT_my NOT_phone NOT_glitch NOT_out NOT_on NOT_purpose NOT_youre NOT_not NOT_fooling NOT_me buying fucking either suck dick p actually like products dont NOT_apple NOT_i NOT_know NOT_this NOT_new NOT_update NOT_is NOT_making NOT_my NOT_phone NOT_glitch NOT_out NOT_on NOT_purpose NOT_youre NOT_not NOT_fooling NOT_me like bullshit u get p', 'buy buy airplane ticket wait next year get phone', 'im ready drop apple products working fine update apple creating bugs like battery life issue get us buy 8 jokes', 'want buy 256g please', 'played today 3 minutes needless say', 'NOT_not NOT_buy NOT_the NOT_iphone NOT_x NOT_its NOT_a NOT_piece NOT_of NOT_over NOT_priced NOT_shit NOT_get NOT_the NOT_pixel NOT_2 buy piece priced shit get pixel 2', 'ive decided buy fml really want buy apple store though get full experience anyone idea long itll theyre available stores', 'love amazing lulu friends obviously first thing buy make poop animoji saadilamdin', 'bro im selling 8s buy one get one free 300 gift card one today lord help', 'available buy love even 10gb extra data us https www instagram compbbxanptje3i', 'grandma offered buy yesterday like couldnt phone wait start messing', 'someone please tell tf cousin india ive never NOT_please NOT_tell NOT_me NOT_why NOT_tf NOT_my NOT_cousin NOT_in NOT_india NOT_who NOT_ive NOT_never NOT_talked NOT_to NOT_before NOT_calls NOT_me NOT_on NOT_whatsapp NOT_just NOT_tell NOT_me NOT_to NOT_buy NOT_him NOT_an NOT_iphone NOT_x talked calls whatsapp tell buy excuse money grow trees lmk get one trees', 'still want tbh wanna get look phones buy anything wish could get pixel 2 camera', 'buy really love smh', 'johnlegere wish tmobile would offer deal sams club 300 gift card purchase today att', 'applesupport apple ios11 ios1111 iphonex ios11 real shit', 'u r still deciding done buy review doesnt get better http flip itgwznhh', 'buy 999 get adult llama 950 goddd people dumb pic twitter com71pjcufyty', 'cant believe morons actually buy shit feel like apple telling ive set heart upgrade banksy pic twitter comh6anld8kpy', 'tim_cook hi tim im big big big big fan apple im 10 years old', 'im impulse buyer apple guy went buy today utterly disappointed played yea think got one wrong phone 8 seemed really nice though', 'new love would love buy dream phone get golden chance star fest ucstarfest ucnews_india pic twitter comvx6c3h7xdh', 'applesupport fucking needs better durability 2 ft fucking fall ground fucking humpty dumpty flop breaks apart got damn thing im sure gonna cost 300 fix love products w u', 'like something saliva', 'finally got play local apple store size nice wish se dimensions though', 'literally want home button headphone jack dont NOT_if NOT_you NOT_want NOT_a NOT_home NOT_button NOT_and NOT_a NOT_headphone NOT_jack NOT_dont NOT_buy NOT_an NOT_iphone NOT_x NOT_lol NOT_go NOT_get NOT_the NOT_6 buy lol go get 6', 'yall want nervous get one nice face id works think wont notch nothing keyboard good call inuse screen nice w NOT_who NOT_want NOT_an NOT_iphone NOT_x NOT_but NOT_are NOT_nervous NOT_about NOT_it NOT_should NOT_get NOT_one issues prefer NOT_who NOT_want NOT_an NOT_iphone NOT_x NOT_but NOT_are NOT_nervous NOT_about NOT_it NOT_should NOT_get NOT_one home button dont NOT_who NOT_want NOT_an NOT_iphone NOT_x NOT_but NOT_are NOT_nervous NOT_about NOT_it NOT_should NOT_get NOT_one think', 'hate NOT_hate NOT_how NOT_apple NOT_purposely NOT_dropped NOT_my NOT_iphone NOT_today NOT_to NOT_get NOT_me NOT_to NOT_buy NOT_a NOT_new NOT_x apple purposely dropped today get buy new', 'want get iphonex iphoneunboxing https youtu benpt5tsd0bbi thanks ashleybeauty43 enabler anyone want buy 7 plus', 'purchase doesnt come store till december 1rst use 8 til idk kinda like 8 might get plus refund', 'apple yall trying get buy ima ride 6s dies better believe', 'post made confident choice NOT_post NOT_made NOT_me NOT_confident NOT_in NOT_my NOT_choice NOT_to NOT_not NOT_buy NOT_the NOT_x NOT_the NOT_other NOT_day buy day se everything need', 'wow wish rich joeygraceffa could buy decide dont NOT_i NOT_wish NOT_i NOT_was NOT_as NOT_rich NOT_as NOT_joeygraceffa NOT_where NOT_i NOT_could NOT_buy NOT_an NOT_iphone NOT_x NOT_the NOT_decide NOT_i NOT_dont NOT_like NOT_it NOT_and NOT_buy NOT_another NOT_new NOT_iphone NOT_ NOT_pay NOT_my NOT_student NOT_loans NOT_plz like buy another new pay student loans plz', 'went w 8 plus ive never NOT_went NOT_w NOT_ NOT_the NOT_8 NOT_plus NOT_because NOT_ive NOT_never NOT_had NOT_the NOT_plus NOT_version NOT_of NOT_an NOT_iphone plus version also', 'ugghhh people complain im like fuck buy', 'wish money get tbh', 'wish jailbreak accessible could get battery percentage different way access control', 'besides concerns terrible customer service', 'tho like dis lmaoo lowkey wish buddy ngl pic twitter com8odmkuxsrk', 'get keep 7 buy newer apple watch', 'nigga tried hardest get buy 1', '6s', 'also apple way behind comes technology phones face id nice samsung two years ago also oled screens couldnt even produce buy samsung put', 'looks like idk would rather get newest know NOT_looks NOT_like NOT_it NOT_idk NOT_i NOT_would NOT_rather NOT_just NOT_get NOT_the NOT_newest NOT_iphone gonna long come w something', 'someone buy cause im awesome', 'rt thisthat_tha3rd im trying get man think itll easier buy', 'im trying get man think itll easier buy', 'dont NOT_buy NOT_the NOT_iphone NOT_x buy', 'im tmobile couple getting 9yo im try get adopted wish luck', 'man checked dont NOT_i NOT_checked NOT_out NOT_the NOT_iphone NOT_x NOT_but NOT_i NOT_dont NOT_think NOT_i NOT_can NOT_go NOT_back NOT_to NOT_a NOT_smaller NOT_phone think go back smaller phone', 'saw someones idk man think gotta keep rolling w 7 like screen cant play NOT_just NOT_saw NOT_someones NOT_iphone NOT_x NOT_and NOT_idk NOT_man NOT_i NOT_think NOT_i NOT_gotta NOT_keep NOT_rolling NOT_w NOT_my NOT_7 NOT_like NOT_the NOT_screen NOT_is NOT_the NOT_same NOT_but NOT_i NOT_cant NOT_play NOT_no NOT_tiny NOT_phone NOT_game NOT_im NOT_a NOT_grown NOT_woman tiny phone game im grown woman well see well see', 'think need buy actually see tree clearly https twitter comtia_ewingstat us816613182479466496', 'somebody need buy lol', 'need nominate kingseun3 buy thanks seun youre best', 'yup time upgrade get new save 300 w tmobile unlimited everything netflix included ad pic twitter com9maes4iod2', 'think time buy picture looks like taken polaroid', 'choice spend 100 get list buy', 'temptation buy need money pic twitter comuhpefph8yn', 'really need go sprint look 8 play w see one really want cause ive hearing mixed reviews', 'pathetic seriously', 'debt collectors calling asking 2000 im trying buy get outtta', 'like xpensive please', 'wish get least', 'thats ridiculous looks like im break buy spensive lol', 'would like buy 64gb', 'awesome', 'black friday deals buy one get one free', 'reason would buy play around emojis seems fun', 'never NOT_have NOT_never NOT_won NOT_anything NOT_ever NOT_in NOT_my NOT_life anything ever life never NOT_have NOT_never NOT_won NOT_anything NOT_ever NOT_in NOT_my NOT_life owned apple device really wish could get many friends hope win least something future want experience like u win smthn', 'nice', 'get free 8 64gb buy att https www phonearena comnewshereish owyoucangetafreeiphone864gbwhenyoubuyaniphonexatatt_id99708', 'understand youre probably making phones work like hell buy us dont NOT_understand NOT_youre NOT_probably NOT_making NOT_all NOT_our NOT_phones NOT_work NOT_like NOT_hell NOT_so NOT_we NOT_buy NOT_the NOT_iphone NOT_x NOT_but NOT_some NOT_of NOT_us NOT_dont NOT_have NOT_that NOT_kind NOT_of NOT_money NOT_and NOT_are NOT_also NOT_extremely NOT_loyal NOT_to NOT_apple kind money also extremely loyal apple', 'almost swore wouldnt buy another looks like worth gamble', 'wish get samsung 8 camera runs ios', 'black friday deal get 300 galaxy note 8 purchase http ift tt2ynoaib tech technology', 'dilemma couldnt decide', 'buy', 'c4etechtamil bro tell sundar get friend buy speed test vs note 8', 'spend zar 24k realise cheaper get flight america buy one onlyinafrica iphonex', 'feel expensive', 'god wish get quicker december 1 back orders thing', 'im busting ass trying get many hours work buy see people youtube drop scratch test', 'many christmas presents buy', 'ive full day w face id pretty amazing fast tech uses almost forget phone blazing fast', 'hey pls post video advicing buy 7', 'trap get buy newest love charging day', 'maybe slowing get buy', 'deadass like going apple headquarters see look like want look buy original', 'wish bigger like size plus', 'im 6 plus since ive tried get plus range hope bring plus year two buy one im poor man', 'need sugardaddy buy cause im broke fuck', 'glad didnt NOT_i NOT_didnt NOT_hit NOT_that NOT_iphone NOT_x NOT_preorder hit preorder going buy one january ill wait till next fall get bigger one https twitter combusinessinside rstatus930155971191681026', 'brothers aus mobile plan a130pm get 256', 'prolly gonna get plus comes next year w 10 5 display everything gets worked', '26 yr olds cant buy eii', 'applesupport apple whats going apple authorised stores selling higher prices selling combining a37with apple watch something else need compelling buy lucknow uttar pradesh india', 'trying idk go w home button love apple personally shit wack', 'better prepared one job feel like trying buy garyvee happy birthday', 'curryspcworld want buy tax refund im leaving', 'like wanna spend rack', 'someone buy see fixed battery dying every 10 minutes problem get back thanks', 'ask people phone buy', '7 plus store playing note 8 note 8 blew away love glad purchased complaint', 'umm ratu like buy say pray anaseini', 'jasonnash please love like love kids buy', 'want dont NOT_want NOT_the NOT_iphone NOT_x NOT_but NOT_dont NOT_feel NOT_like NOT_waiting NOT_for NOT_it NOT_i NOT_want NOT_the NOT_gold NOT_8 NOT_plus NOT_too NOT_idk NOT_what NOT_im NOT_gonna NOT_do NOT_because NOT_i NOT_already NOT_have NOT_the NOT_7 NOT_plus NOT_and NOT_thats NOT_basically NOT_the NOT_same NOT_as NOT_the NOT_8 NOT_but NOT_i NOT_love NOT_the NOT_color NOT_lmao NOT_im NOT_terrible NOT_i NOT_wish NOT_the NOT_8 NOT_was NOT_a NOT_full NOT_screen NOT_like NOT_the NOT_x feel like waiting want gold 8 plus idk im gonna already 7 plus thats basically 8 love color lmao im terrible wish 8 full screen like', 'wish could somehow get win mother really want phone real', 'love everything except horrendous sound qualityspeaker issues cracklingsound w http ift ttea8v8j', 'want buy need see size first', 'apple really thinks get buy slowing phone right causing glitch 247 theyre absolutely right take money', 'never NOT_why NOT_you NOT_never NOT_buy NOT_the NOT_first NOT_batches NOT_of NOT_anything NOT_new NOT_the NOT_iphone NOT_x NOT_freezes NOT_when NOT_its NOT_cold NOT_like NOT_wtf buy first batches anything new freezes cold like wtf', 'really want im going buy though whatever phone get lol', 'wanna buy dont NOT_wanna NOT_buy NOT_the NOT_iphone NOT_x NOT_but NOT_dont NOT_wanna NOT_wait NOT_till NOT_january NOT_to NOT_get NOT_it wanna wait till january get', 'every update 6 gets slower like apple want buy something', 'want get paid buy', 'im really NOT_really NOT_not NOT_trynna NOT_buy NOT_an NOT_iphone NOT_8 NOT_i NOT_need NOT_an NOT_x NOT_unlocked trynna buy 8 need unlocked', 'tryna get tech father buy keep prayers', 'flagship phones chose s8 although pixel 2 wasnt yet reason get want rejoin apple ecosystem s8 everything would got new htc flagship phone no1 w contract', 'like NOT_this NOT_is NOT_not NOT_going NOT_to NOT_make NOT_me NOT_buy NOT_iphone NOT_x going make buy NOT_this NOT_is NOT_not NOT_going NOT_to NOT_make NOT_me NOT_buy NOT_iphone NOT_x thousand dollar fix lol', 'might go buy today', 'NOT_way NOT_girl way girl buy thats future remember rest following next year like allways', 'hey everyone broken going get fix buy dont NOT_everyone NOT_my NOT_is NOT_broken NOT_am NOT_going NOT_to NOT_get NOT_it NOT_fix NOT_or NOT_buy NOT_the NOT_iphone NOT_x NOT_i NOT_dont NOT_know know', 'need someone buy make cute talking emoji videos lily', 'hands camera screen nice', 'would want remove notch dont NOT_would NOT_you NOT_want NOT_to NOT_remove NOT_the NOT_notch like buy', 'better buy phone outright go another contract contract ends like 5 months want 8', 'buy', 'yeri doesnt need fansite buy ask wendy one', 'guys really shouldnt buy year wait next year refine new design language get piezoelectric fingerprint reader work', 'erfon loved weeks cultcast totally agree great device think like screen size 8plus screen NOT_erfon NOT_loved NOT_this NOT_weeks NOT_cultcast wide enough wish wide 8plus im havin', 'reallyyyyy wanna buy wig since im adult NOT_reallyyyyy NOT_wanna NOT_buy NOT_this NOT_wig getting', 'paychecks wanted buy talking im pushing spending money loved ones nice awesome things xmas', 'get tiny amount satisfaction seeing apple commercials knowing im NOT_get NOT_a NOT_tiny NOT_amount NOT_of NOT_satisfaction NOT_seeing NOT_all NOT_of NOT_the NOT_apple NOT_iphone NOT_x NOT_commercials NOT_knowing NOT_im NOT_not NOT_gonna NOT_buy NOT_it gonna buy', 'im usually NOT_usually NOT_not NOT_interested NOT_in NOT_the NOT_new NOT_phones NOT_or NOT_whateva NOT_like NOT_still NOT_living NOT_w NOT_my NOT_iphone NOT_se NOT_which NOT_is NOT_like NOT_a NOT_5 NOT_but NOT_for NOT_some NOT_reason NOT_i NOT_need NOT_the NOT_iphone NOT_x interested new phones whateva like still living w se like 5 reason need', 'dont NOT_dont NOT_have NOT_an NOT_iphone NOT_x NOT_but NOT_i NOT_bet NOT_apple NOT_made NOT_the NOT_i NOT_ NOT_like NOT_this NOT_as NOT_a NOT_marketing NOT_scheme NOT_to NOT_get NOT_ppl NOT_to NOT_buy NOT_more NOT_of NOT_the NOT_new NOT_product bet apple made like marketing scheme get ppl buy new product foodforthought', 'need sugar mommy buy', 'apple swear yall motherfuckers bugged phone get buy', 'people get 1000 buy', 'looks like gotta buy', 'wish came plus', 'im seeing high quality pictures videos like danggg wish', 'people change expensive iphones like 2 4 months today really spoiled idk change 7 7 plus 8 months im going wait buy plus next year tho spoiled', 'otterbox hi looking cases going get build commuter one possibly add white rubber piece would buy', 'yes bravo going encourage employer staff stop paye taxation nhs criminal justice system collapse buy cabinet ministers mps dont NOT_bravo get paid either', 'ios 11 apples way make hate NOT_11 NOT_is NOT_apples NOT_way NOT_to NOT_make NOT_me NOT_hate NOT_my NOT_iphone NOT_6 NOT_so NOT_much NOT_that NOT_i NOT_need NOT_to NOT_go NOT_buy NOT_an NOT_iphone NOT_x 6 much need go buy', 'wait second generation http bit ly2i79hpw like 8', 'talking finally allowed sell indonesia im get one', 'anybody 8 plus dm let know like phone wish wouldve gotten one cant decide one want', 'britney need sugar daddy buy', 'nerdwomanisme review thing work art awesome however tall', 'kinda really want dont NOT_kinda NOT_really NOT_want NOT_the NOT_iphone NOT_x NOT_but NOT_i NOT_dont NOT_want NOT_to NOT_look NOT_like NOT_some NOT_rich NOT_ass NOT_kid NOT_that NOT_gets NOT_everything NOT_shoved NOT_up NOT_their NOT_ass want look like rich ass kid gets everything shoved ass id buy money worked dont NOT_kinda NOT_really NOT_want NOT_the NOT_iphone NOT_x NOT_but NOT_i NOT_dont NOT_want NOT_to NOT_look NOT_like NOT_some NOT_rich NOT_ass NOT_kid NOT_that NOT_gets NOT_everything NOT_shoved NOT_up NOT_their NOT_ass know ughhh', 'expensive 179 p including cost 256gb', 'think hate NOT_do NOT_you NOT_think NOT_of NOT_the NOT_iphone NOT_x NOT_i NOT_hate NOT_it NOT_apple NOT_copied NOT_samsung NOT_but NOT_made NOT_and NOT_uglier NOT_version apple copied samsung made uglier version', 'poor thing cant find proper retort lose like flagship vs hopefully next year google introduce useless features slash prices maybe make fun apple commercials wont work though', 'liked youtube video http youtu be0ercfyjqhn0 hate NOT_liked NOT_a NOT_youtube NOT_video NOT_http NOT_ NOT_youtu NOT_be0ercfyjqhn0 NOT_a NOT_iphone NOT_x NOT_ NOT_why NOT_i NOT_hate NOT_this NOT_1000 NOT_phone 1000 phone', 'roast touch screen unresponsive', 'hate NOT_i NOT_hate NOT_wait NOT_almost NOT_a NOT_month NOT_receive NOT_my NOT_iphone NOT_x wait almost month receive', 'bad reviews la ni', 'want bad fuck', 'iphonex new version sadly vulnerable took little 8 seconds kill lightning port making new useless', 'want buy pixel 2 really bad im perfectly content se firstworldproblems', 'hate NOT_the NOT_iphone NOT_x NOT_notch notch theres app mashable tech spoken edition http bit ly2z2qjv5 pic twitter comrueekshlb6', 'lol know multiple iphanboys returned apparently say felt like downgrade iphone7 one specifically cited annoying ass face print shit', 'hate NOT_hate NOT_that NOT_the NOT_iphone NOT_x NOT_dont NOT_got NOT_a NOT_plus dont got plus', 'wait deal NOT_deal NOT_or NOT_no NOT_deal deal hate NOT_deal NOT_or NOT_no NOT_deal commercials dont care ab riverdale', 'dont like hate NOT_dont NOT_like NOT_the NOT_iphone NOT_x NOT_dont NOT_like NOT_the NOT_iphone NOT_x pressing home button', 'sister got want bad', 'want bad rn', 'tim_cook need life soooo bad', 'iam_erica wow every one school talking 10', 'looks like fckn samsung hate NOT_iphone NOT_x NOT_looks NOT_like NOT_a NOT_fckn NOT_samsung', 'might switch phone boring already', 'apps finally gonna adjust resolution hate NOT_are NOT_these NOT_apps NOT_finally NOT_gonna NOT_adjust NOT_to NOT_the NOT_resolution NOT_of NOT_the NOT_iphone NOT_x using apps dont NOT_are NOT_these NOT_apps NOT_finally NOT_gonna NOT_adjust NOT_to NOT_the NOT_resolution NOT_of NOT_the NOT_iphone NOT_x take entire screen', 'looking getting high accuracy radial velocity planet searcher harps im guessing less expensive new', 'youre NOT_not NOT_the NOT_only NOT_person NOT_ive NOT_heard NOT_this NOT_from person ive heard im guessing thats shipping estimates keep improving people starting realize NOT_not NOT_the NOT_only NOT_person NOT_ive NOT_heard NOT_this NOT_from worth hype sorry hear bad experience', 'want bad', 'review screen awesome faceid awesome size perfect animojis life video quality sick notch dont NOT_x NOT_review NOT_ NOT_screen NOT_ NOT_awesome care price wtf expensive awesome doesnt feel worth pricetag got mine free tho animojilife iphonex review apple', 'bad want', 'want bad almost went got today thats much money man funds real low lmao', 'im pissed hate NOT_so NOT_pissed NOT_this NOT_is NOT_why NOT_i NOT_hate NOT_ordering NOT_shit NOT_online NOT_apple NOT_now NOT_i NOT_cant NOT_change NOT_my NOT_payment NOT_method NOT_for NOT_the NOT_iphone NOT_x NOT_so NOT_now NOT_yall NOT_are NOT_gunna NOT_cancel NOT_my NOT_order NOT_and NOT_ill NOT_have NOT_to NOT_wait NOT_even NOT_longer NOT_if NOT_i NOT_want NOT_to NOT_get NOT_one ordering shit online apple cant change payment method yall gunna cancel order ill wait even longer want get one thx', 'yeah zoella selling expensive item well think spend 1000 even 6 starbucks dont NOT_zoella NOT_is NOT_selling NOT_an NOT_expensive NOT_item buy', 'online reviews become boring watch', 'hate NOT_i NOT_hate NOT_ NOT_return NOT_my NOT_apple NOT_iphone NOT_x NOT_10 NOT_back NOT_to NOT_best NOT_buy return apple 10 back best buy 11 2017 http youtu be7ogyolyko6a via youtube', 'bad lol cant wait get', 'get NOT_i NOT_get NOT_this NOT_iphone NOT_x NOT_or NOT_no screen bigger', 'want bad cant justify spending 1', 'people complain expensive lure people buy', 'apple whatsapp youre making hate NOT_apple NOT_whatsapp NOT_youre NOT_making NOT_me NOT_hate NOT_iphone NOT_x', 'wanted ive heard bad things good', 'seems useless since people afford pay people get list shirt', 'want sooooooo bad wont buy one unless', 'patiently waiting almost week att ship need bad phone spider web app thing', 'hate NOT_hate NOT_the NOT_damn NOT_iphone NOT_x damn', 'hate NOT_hate NOT_myself NOT_rn NOT_bc NOT_even NOT_though NOT_i NOT_say NOT_im NOT_done NOT_with NOT_apple NOT_i NOT_cant NOT_help NOT_but NOT_to NOT_want NOT_to NOT_buy NOT_the NOT_new NOT_iphone NOT_x rn bc even though say im done apple cant help want buy new', 'way invoke control center killing id go far say hate NOT_way NOT_you NOT_invoke NOT_control NOT_center NOT_is NOT_killing NOT_me NOT_on NOT_iphone NOT_x', 'get funding january ima buy one dufresh4 paintings feel real expensive pic twitter com3ech4wkrjc', 'need want expensive cant even take pictures phone anymore', 'lmao shit getting bad worst pic twitter comckyos4jwut', 'want bad', 'deck tmobile gear johnlegere get free discount', 'want bad', 'looks fucking bad whoever designed fucking idiot also people went along little top camera', 'johnlegere returned 3 6s getting 3 tracking saying w delivered signed tm says 1 terrible rep NOT_johnlegere NOT_i NOT_returned NOT_3 NOT_iphone NOT_6s NOT_after NOT_getting NOT_3 NOT_x NOT_s NOT_and NOT_have NOT_the NOT_tracking NOT_s NOT_saying NOT_they NOT_w NOT_delivered NOT_and NOT_signed NOT_for help first time evr bad cs please help', 'tested aapl person NOT_ NOT_aapl NOT_iphone NOT_x NOT_in NOT_person bad still think samsung beat apple game galaxy s8 half year older device still superior terms design overall feel', 'yeah need new phone real bad really want camera im considering breaking first time since came google phone save 150 every little bit helps insane prices', 'actually true expensive', 'man get ima break face', 'found go get pretty much free wonderful news', 'get thanks', 'see want order way car payments set', 'get notified availability apple stores australia', 'returned didnt like', 'gonna get doesnt look worth extra honest get new every 12 months time plan hoping something amazing looks beautiful though', 'cant wait able order work need new phone pronto', 'economical like note 8 last time checked price', 'look reviews', 'tim gave option 8 get 8 kids break fast', 'henrywood2142 georgia said 12 u dont NOT_henrywood2142 NOT_georgia NOT_just NOT_said NOT_you NOT_are NOT_12 NOT_and NOT_that NOT_u NOT_dont NOT_need NOT_the NOT_iphone NOT_x need', 'know get im changing avatars animoji heap feces', 'might get', 'praying something doesnt exist succes screaming want literally nothing', 'praying something doesnt exist succes screaming want literally nothing', 'want plz', 'biggest problem aapl http ift tt2m9qbda developers going need redesign http ift ttea8v8j', 'want', 'okay okay okay im fucking tired phone slow wtf ive thrown floor many times bc acting applesupport wtf yall phones rich enough buy new 8', 'wouldnt even buy ex hell would buy', 'nice pic twitter comgw5lvdvsdc', 'birthday tomorrow really want anyone struggling think get', 'sprint many rts get free', 'hard yall try hype wont purchase lol first smaller plus already turn', 'thing like https twitter comtmobilestatus 926235033358155777', 'want', 'makes 7 look like android', 'ordered dont get til dec', 'really considering getting', 'attempt 3 really cant find return label send tradein already get another one attcares', 'complaint wish big 7plus', 'far im pretty let switch apps consistently freeze', 'know love', 'actually upsetting sick looks considering ill never NOT_actually NOT_upsetting NOT_how NOT_sick NOT_the NOT_iphone NOT_x NOT_looks NOT_considering NOT_ill NOT_never NOT_buy NOT_it buy', 'liked youtube video http youtu bee6rmnflofe8 dont NOT_liked NOT_a NOT_youtube NOT_video NOT_http NOT_ NOT_youtu NOT_bee6rmnflofe8 NOT_a NOT_dont NOT_buy NOT_the NOT_iphone NOT_x buy', 'takes nice pix iphonex pic twitter come68xxa0qay fantasy springs resort casino', 'need getting', 'moment help piasa get bring churros hecho en casa', 'oooo lovely im thinking switching something like', 'promised phone tomorrow receive text couple hours later saying ill wait even longer youre making false promises get sales current phone hardly works desperately needs replacing', 'love tmobile missing launch day lost transit 6 days help johnlegere', 'really want soo bad guess wait wedding', 'want bad', 'apple really exited use new NOT_apple NOT_really NOT_exited NOT_to NOT_use NOT_the NOT_new NOT_iphone NOT_x NOT_but NOT_no NOT_money NOT_to NOT_buy NOT_it money buy', 'played bit today NOT_played NOT_with NOT_the NOT_iphone NOT_x NOT_for NOT_a NOT_bit NOT_today NOT_and NOT_not NOT_that NOT_it NOT_needs NOT_to NOT_be NOT_any NOT_more NOT_expensive needs expensive', 'kinda want', 'love new animojis oc http ift tt2hnqh9i pic twitter comz5kosv72ye', 'opinion like competitors specs camera way good photographers take', 'mean incredible need fix shit', 'think want', 'love', 'mom since 2 4 buy', 'want refuse pay 1', 'sad spent much money wait three weeks get', 'yall like 8', 'bruv need real one', 'liked youtube video http youtu bedrveunle5no 5 things love', 'dont know want 8 keep getting pulled either way', 'excited get next month', 'ihnatko hello got coming 6s get used narrower screen', 'yall like 8', 'well im live new lte noticeablely faster 6s pulling 30mbit cave usually get 4mbit pic twitter comgu7wn22nia', 'want camera', 'hard get tho realistically', 'fantastic device', 'trying decide get 8', 'convincing dont NOT_convincing NOT_myself NOT_that NOT_i NOT_dont NOT_need NOT_to NOT_upgrade NOT_but NOT_now NOT_the NOT_iphone NOT_x NOT_is NOT_out need upgrade iphonex', 'o2 placed order 2nd get order', 'much wanna buy prove point', 'thank really appreciate assistance im supposed pick dont NOT_you NOT_i NOT_really NOT_appreciate NOT_your NOT_assistance want wait till tomorrow', 'ordered cant wait get rid shitty phone', 'NOT_not NOT_on NOT_your NOT_level NOT_ill NOT_get NOT_you NOT_the NOT_iphone NOT_x NOT_plus NOT_when NOT_i NOT_t NOT_comes NOT_out level ill get plus comes', 'rlly like tbh ive actually held one money anyone getting one', 'awesome tips', 'want', 'apple working fix bug causing display become temporarily unresponsive cold weather hate NOT_working NOT_on NOT_fix NOT_for NOT_bug NOT_causing NOT_iphone NOT_x NOT_display NOT_to NOT_become NOT_temporarily NOT_unresponsive NOT_in NOT_cold NOT_weather everything', 'damn got wait december get', 'buy https twitter comgodsperfection zstatus928770595763957760', 'love amazing photos seeing users check stunning work austinmann shotoniphone https twitter comiwebstatus9 28771583723823104', 'decided im gone need first didnt care either camera', 'small af dont want', 'tim cook tim_cook love amazing photos seeing users check stunning work au https twitter comiwebstatus9 28771583723823104', 'really enjoying using hotel room key nyc love capability phone', 'went see upgrading could either pay 276 wait till february get wait till february get free', 'would preferred 8 plus debating get next phone seems small', 'cant wait get activated im finna turn twitter insta', 'really want spoil buy', 'yesterday didnt want pay dinner today bought think im adulting well', 'mkbhd noticed issues NOT_mkbhd NOT_have NOT_you NOT_noticed NOT_an NOT_issues NOT_with NOT_the NOT_iphone NOT_x NOT_not NOT_recognizing NOT_touch NOT_in NOT_cold NOT_temps recognizing touch cold temps like 26 degrees cold', 'mom offered get new im much mess get', 'buy new macbook pro', 'want want save money', 'legit reason ill ever buy dualipa', 'like last time say phone gonna early december scare getting black still ordered bitch coming whole month early', 'want https twitter commanxomemiasta tus926660732162154496', 'latest version clips make want https www macworld comarticle323667 0macappsapplesclips20putsyouinthemillenniumfalconoramegadestroyer html', 'cant wait get https twitter comtyonna_mossst atus928766636563185664', 'ohh yeah need dude', 'update still love', 'makes want https twitter comdsharp_runsst atus928349765582118912', 'im apple fanboy never NOT_an NOT_apple NOT_fanboy NOT_and NOT_i NOT_never NOT_thought NOT_i NOT_would NOT_say NOT_this NOT_but NOT_i NOT_hate NOT_the NOT_iphone NOT_x thought would say hate NOT_an NOT_apple NOT_fanboy NOT_and NOT_i NOT_never NOT_thought NOT_i NOT_would NOT_say NOT_this NOT_but NOT_i NOT_hate NOT_the NOT_iphone NOT_x small hands', 'NOT_the NOT_iphone NOT_x NOT_is NOT_not NOT_like NOT_the NOT_letter NOT_its NOT_really NOT_iphone NOT_10 like letter really 10', 'im gonna buy', 'brightness good', 'got notified morning card charged order hopefully means ill get estimated nov 1724 delivery least earlier side', 'handson time friends feels like amazing device', 'need ship', 'fucked messing best buy really really want one id rather spend 1200 eurotrip keep 6', 'executive summary diary piece almost week still love', 'need', 'trying get use wish came plus size big ass hands', 'went get today 15 minutes', 'justified purchase single picture wow nofilter scituate https www instagram compbbsvyonfboy', 'im NOT_not NOT_upgrading NOT_to NOT_shit NOT_but NOT_that NOT_iphone NOT_x upgrading shit', 'kid walked class prof front room presenting like show n tell', 'NOT_did NOT_not NOT_want NOT_an NOT_iphone NOT_x want', 'buy abroad', 'need asap', 'need camera', 'disappointed didnt work since get tried everything apple recommended website', 'bad investment expensive repair made probably likely break material', 'brother go get whole', 'sooooo pretty', 'yall need go ahead get cuz thing beautiful', 'wanted say im love 8 plus', 'want christmas deb ziegler benton', 'dont want theres plus version im good 8', 'need take pic linkedin', 'im still getting used layout like though', 'love thread need asap https twitter comnadeshotstatu s928670046565515264', 'guess youll buy new', 'sweet plus size available would definitely buy im satisfied', 'dad went bought could get hands smh', 'like wanting given nokia 402', 'somehow managed get launch day ive almost week', 'see people taking pics camera want', 'cases im NOT_about NOT_iphone NOT_x NOT_cases getting like look cases anyway', 'expensive apple doesnt need money parts cost 360', 'love', 'mingis tech apples best phone business http ift tt2hy1zot apples expensive new lot going fo', '7 plus didnt NOT_iphone NOT_7 NOT_plus NOT_i NOT_didnt NOT_want NOT_to NOT_get NOT_the NOT_8 NOT_or NOT_x want get 8', 'happy got almost week late worth wait iphonex apple love pic twitter comazbkwbuvwp', 'suxxexx thinking updating noted future still love app damn much', 'NOT_gonna NOT_lie NOT_but NOT_i NOT_love NOT_the NOT_way NOT_this NOT_wallpaper NOT_looks NOT_on NOT_my NOT_iphone NOT_x NOT_pic NOT_twitter NOT_comcaxvppelvr gonna lie love way wallpaper looks pic twitter comcaxvppelvr', 'ive ordered wot r chances ill get b4 xmas', 'really want jet white would sick', 'camera good makes feel like photographer', 'NOT_its NOT_bad NOT_and NOT_will NOT_promote NOT_a NOT_lower NOT_standard NOT_of NOT_living bad promote lower standard living like 40k car 1000 00 way NOT_its NOT_bad NOT_and NOT_will NOT_promote NOT_a NOT_lower NOT_standard NOT_of NOT_living allow innovation NOT_its NOT_bad NOT_and NOT_will NOT_promote NOT_a NOT_lower NOT_standard NOT_of NOT_living historical evidence socialism communism lifted ppl poverty none', 'seen irl im google trying figure organs dont really need', 'comes tomorrow', 'im love named guapo', 'omgitsalia disappointed like honestly', 'thinking going get 7 plus isnt good enough', 'gonna fuck around get christmas lol', 'looking like motive', 'need anything', 'think may try go get shower', 'damn kinda sorta need', 'front cameras portrait mode makes look like youre taking selfies heaven', 'ordered today always nice feeling know youve got new piece technology way', 'dont think app breadcrumb good', 'need', 'literally trying every single situation possible get want bad know figure', 'used need', 'good idea expensive', 'would rather get 8', 'really cant get beautiful clear screen looks held 6s archaic nonsense iphonex oled', 'apple sucks hate NOT_sucks NOT_i NOT_hate NOT_it NOT_so NOT_much much', 'phone perfectly fine still want', 'get itll cost bank', 'really want like cause good camera', 'wont NOT_is NOT_why NOT_i NOT_wont NOT_and NOT_will NOT_not NOT_buy NOT_a NOT_iphone NOT_x buy', 'want fucking already long take get phone', 'joy use', 'tempted get 6 aint never NOT_to NOT_get NOT_this NOT_iphone NOT_x NOT_but NOT_my NOT_6 NOT_aint NOT_never NOT_did NOT_me NOT_wrong wrong', 'damn want', 'want dontt', 'cannot stop watching animoji videos really want', 'want galaxy note 8', 'talking emojis make wanna get', '5 bucks ill buy', 'apple_com expensive ipad pro', 'want NOT_the NOT_iphone NOT_x NOT_but NOT_not NOT_willing NOT_to NOT_spoil NOT_myself NOT_and NOT_bust NOT_into NOT_my NOT_savings NOT_account NOT_to NOT_buy NOT_it willing spoil bust savings account buy maybe', 'got 7 plus want', 'photography portrait mode macstadium data center ops loves come get way art pic twitter coml5enx6gjj9', 'get instead gg', 'get christmas god bless', 'http apple com expensive', 'look like android', 'lmaoooo want haha', 'omg love', 'get worth', 'damn want', 'didnt move like thought would held hands like simba lion king', 'cannot stop watching animoji videos really want', 'want galaxy note 8', 'talking emojis make wanna get', '5 bucks ill buy', 'apple_com expensive ipad pro', 'want NOT_the NOT_iphone NOT_x NOT_but NOT_not NOT_willing NOT_to NOT_spoil NOT_myself NOT_and NOT_bust NOT_into NOT_my NOT_savings NOT_account NOT_to NOT_buy NOT_it willing spoil bust savings account buy maybe', 'got 7 plus want', 'get instead gg', 'ive thinking order plan tomorrow verizon like 40 month 30 months also 40 phone plan 90 month 30 months', 'get christmas god bless', 'http apple com expensive', 'lmaoooo want haha', 'omg love', 'get notified availability apple stores australia', 'get', 'ive like 3 hours im already', 'get worth', 'babe get honestly seems way better lol', 'get jk', 'trying get ordered told cannot preorder order business said could wouldnt let tried get ipad well told cant ordered also none stock nothing said', 'sprint telling get 8 aggressively phone freezing sudden phone companies collective scammers', 'liked youtube video http youtu bepugnosocns8 never NOT_liked NOT_a NOT_youtube NOT_video NOT_http NOT_ NOT_youtu NOT_bepugnosocns8 NOT_a NOT_never NOT_buy NOT_an NOT_iphone NOT_x NOT_off NOT_craigslist buy craigslist', 'looked today NOT_at NOT_the NOT_iphone NOT_x NOT_today NOT_and NOT_its NOT_not NOT_bad bad', 'ridiculous happens every ios update congraz apple im way get lmfao', 'wireless charging pad bought came today fuck modern day magic like future love', 'aargh reservation come 3 weeks early nice hoping time make mind whether want', 'samsung advertising note 8 iris scanning fingerprint scanning face id thats need face protect best phone world', '1password im trouble filling passwords via 1password extension log faceid', 'want animojis tbh', 'ordered everything need', 'dont NOT_why NOT_you NOT_dont NOT_need NOT_an NOT_iphone NOT_x NOT_ NOT_or NOT_any NOT_other NOT_expensive NOT_new NOT_phone NOT_http NOT_ NOT_bit NOT_ly2hvp8cy need expensive new phone http bit ly2hvp8cy', 'showing us yall really look like', 'really want send bf animojis', 'fuck time get', 'let first tell ya hype around real thing awesome', 'alexlindsay get ur yet got ups tracking number getting week nov 17', 'chinese dont NOT_chinese NOT_dont NOT_need NOT_iphone NOT_x need', 'lmaooo need https twitter commscolostatus 928252802505367552', 'gotta get pic twitter comnyweul06f8', 'aint buy dry', 'want ten', 'bout 100mph spring garden get', 'feels like longest weeks life haha', 'wish get', 'really think want', 'want ship already', 'breakable expensive repair ever made https www yahoo comnewsiphonex breakableexpensiverepairevermade090829150 html tsrcfauxdal', 'whos tryna buy think good thatll look jesus', 'really wish bigger', 'well didnt want', 'get tomorrow', 'omg camera good need', 'homergonzalez well get https twitter comsnazzyqstatus 927002329819127808', 'honestly want try portrait mode new iphonex', 'even though ridiculously expensive', 'glitch apple plan us buy 8', 'want', 'resolution actually thing really wanted phone im happy really nice', 'cant wait get', 'really want', 'almost certainly tiniest awesome feature', 'picked apple done thing everything came looks like utter shit product development finest', 'applesupport giant company like apple NOT_applesupport NOT_a NOT_giant NOT_company NOT_like NOT_apple NOT_can NOT_not NOT_accelerate NOT_the NOT_production NOT_of NOT_iphone NOT_x accelerate production omg', 'think notch smart marketing move makes device easy identify wild like red dot new apple watch', 'vudufans get app update', 'couldnt wait fixed gotta rock cracked 7 bit fuck lmao aint bad damn', 'legit dont know whether get nah looks weird', 'great cause edit selfies like 20 seconds make look like took', 'want bad refuse pay 1500', 'need https twitter comvrnasty_statu s928516416126496768', 'idk get 8', 'saw today wish bigger', 'want bad', 'okay may NOT_i NOT_may NOT_not NOT_like NOT_iphones NOT_but NOT_tbh NOT_if NOT_anyone NOT_has NOT_an NOT_iphone NOT_x NOT_i NOT_wanna NOT_see NOT_it NOT_just NOT_for NOT_the NOT_animoji like iphones tbh anyone wanna see animoji', 'needa get', 'cpwtweets love forever arrives tomorrow', 'gonna get soon', 'ugh want bad', 'want', '2day nigga said gonna buy december like u mean next month', 'looks nice dumb theres NOT_x NOT_looks NOT_nice NOT_but NOT_its NOT_so NOT_dumb NOT_theres NOT_no NOT_aux NOT_cord NOT_and NOT_just NOT_like aux cord like expensive lol', 'never NOT_should NOT_have NOT_never NOT_put NOT_my NOT_hands NOT_on NOT_an NOT_iphone NOT_x put hands', 'save money get 8 go 6 rn', 'buy ok', 'att buy one get one', 'NOT_sure NOT_what NOT_phone NOT_from NOT_4 NOT_years NOT_ago NOT_comes NOT_close NOT_to NOT_the NOT_x NOT_in NOT_terms NOT_of NOT_design sure phone 4 years ago comes close terms design seems like youre jealous beat android screen reaches 4 corners galaxys still plagued massive foreheads chins', 'wanna get said plus like 5 months gotta wait', 'think im gonna go ahead get', 'hate NOT_hate NOT_how NOT_theres NOT_no NOT_iphone NOT_x NOT_plus theres NOT_hate NOT_how NOT_theres NOT_no NOT_iphone NOT_x NOT_plus plus', 'love', 'isnt bad looking might consider', 'fuck apple NOT_apple NOT_for NOT_not NOT_having NOT_enough NOT_iphone NOT_x NOT_s enough want shit NOT_apple NOT_for NOT_not NOT_having NOT_enough NOT_iphone NOT_x NOT_s 4 weeks', 'get 8 wait come mail phoneless couple days', 'wish made plus', 'thing dont like 45 00 per month 24 months', 'wish wasnt ugly cause nice features', 'want', '11 things need know http www dorostudylaw info2017091611 thingsyouneedtoknowabouttheiphonex pic twitter com3w0so5s3wn', 'get new one', 'want buy hot new 3 product messaging lessons youve probably already absorbed http bit ly2lywkme', 'saw person pretty much easier hold hands 8 plus im still satisfied mine ill get 2nd gen next year', 'dont NOT_you NOT_dont NOT_need NOT_an NOT_iphone NOT_x NOT_or NOT_any NOT_other NOT_expensive NOT_new NOT_phone NOT_http NOT_ NOT_fieldguide NOT_gizmodo NOT_comwhyyoudontn NOT_eedaniphonexoranyotherexpensivene1820248464 NOT_utm_mediumsharefromsiteutm_sourcefield_guide_twitter NOT_ NOT_via NOT_gizmodo NOT_hellomoto need expensive new phone http fieldguide gizmodo comwhyyoudontn eedaniphonexoranyotherexpensivene1820248464 utm_mediumsharefromsiteutm_sourcefield_guide_twitter via gizmodo hellomoto', 'want bad', 'ihnatko hello got', 'course mom would get apple watch day', 'actually apple made deal wth samsung manufacture display even though powerful ios outdated', 'makes really want http fb me5jfadmlnr', 'go sprint store tell 64 gb get brings 256 gb instead says mistake seems didnt care drove nothing hahahaha ok thanks breaking heart pic twitter comwuotf54mip', 'buy 8 plus http latestappleiphone comshouldyoubuy iphonexoriphone8plus pic twitter comdgwprazfrk', 'r p phone guess reason get', 'bruhh u still talking crummy ass iphonex get dawgggg', 'delivered doorstep like tomorrow', 'think im gonna get next month way christmas set', 'im quite mad smaller nephew 7plus made like', 'need stop wanting dumb wont lie though sure looks cool', 'want skyuk', 'liked youtube video http youtu bekrac4mh_nw8 everything need know wireless charging 8', 'get new razor new', 'apple design chief jony ive change evolve time hate NOT_design NOT_chief NOT_jony NOT_ive NOT_ NOT_iphone NOT_x NOT_will NOT_change NOT_and NOT_evolve NOT_over NOT_time everything', 'liked youtube video http youtu bedjeyzgq8ana buy 8 plus', 'want plus im tired 7', 'finally held pixel 2 difference feel hand crazy pixel feels like toy feels luxurious', 'sullbee confirm hype shattered phone morning', 'want', 'ok ill get today', 'chandlerperrer wow like', 'want bad', 'shoutout everyone telling get new apple store picking store checked site got oneeeee', 'got', '1200 huge deal', 'dont like lot app doesnt fit whole screen feel like im using ipad', 'want https twitter comrianjohnsonst atus928712958519201792', 'buying christmas adulting feels like', 'know hes trying get birthday please dont waste money', 'ready get', 'daddy dont want get regular 8 plus NOT_daddy NOT_dont NOT_want NOT_to NOT_get NOT_me NOT_the NOT_iphone NOT_x NOT_just NOT_the NOT_regular NOT_8 NOT_plus NOT_no NOT_nigga NOT_we NOT_twins NOT_what NOT_you NOT_get NOT_im NOT_getting NOT_try NOT_again NOT_sir nigga twins get im getting try sir', 'hows everyone like dmd2010', 'really wanted get actually unattractive irl pic twitter comoc2lbvmdo1', 'send username 5 people follow running 2 place get 8 pic twitter comiqthus92dk', 'sooo fucking nice', 'want make sure get soon possible please send us pm look jjt', 'love bro', 'buy simple', 'sell 7 plus buy', 'dont even need canon camera get https twitter comnadeshotstatu s928670046565515264', 'get 279 get 8 0 decisions man', 'like big phones got 8 yesterday wanted nobody', 'need quit playing get act damn fool animojis like everybody else lol', 'takes nice selfies pic twitter compqhsf2wxc9', 'buy', 'need dat', 'applesupport notch top screen driving crazy dont think get used im thinking im gonna go back 8 plus', 'news flip shit dont get tomorrow', 'im sorry dont like small 8 pluse way better', 'tayabu bought abba amma looking buy new phones agli baari meri hai bas ab hopenotout', 'take long start calling ten like gonna start using roman numerals bro ten phones apple making look stupid hell dumbass walking around getting new bro fuck 280 yet', 'noooooooooo im seeing bad reviews even though want razer next choice', 'thought wouldnt like due screen size slimmer longer 7 plus actually growing', 'face id one greatest features new', 'want animoji lmao', 'lgv20 still better quality camera video 68 even old lgv10 better 6 7 came 2015 love 7 inch camera 2015 NOT_lgv20 NOT_still NOT_has NOT_better NOT_quality NOT_camera NOT_and NOT_video NOT_then NOT_iphone NOT_68 one acknowledge came well pic twitter comet8zq3tjtk', 'buy ill love us', 'reason buy', 'ee offered decent monthly deal upfront cost telling NOT_has NOT_offered NOT_me NOT_a NOT_decent NOT_monthly NOT_deal NOT_for NOT_the NOT_iphone NOT_x NOT_but NOT_that NOT_upfront NOT_cost NOT_is NOT_telling NOT_me NOT_no', 'got little excited apple store last night posting today new increased twitter character count', 'know means order get number weeks iphonex todolist planner preorder task', 'reason would get', 'mannn got 7 like four months ago want', 'want', 'get new phone idk get 8 theyre 1000 dollars', 'week get lmao https twitter comjimmymurrills tatus927373826777931776', 'hate NOT_i NOT_hate NOT_apple NOT_fanboys NOT_ NOT_iphone NOT_x NOT_special NOT_ NOT_http NOT_ NOT_youtu NOT_beymjm2r1svwm NOT_a NOT_via NOT_youtube apple fanboys special http youtu beymjm2r1svwm via youtube', 'NOT_dont NOT_get NOT_the NOT_iphone NOT_x dont NOT_dont NOT_get NOT_the NOT_iphone NOT_x get', 'get 8', 'thats fair ive always android im lazy dont NOT_fair wanna get used ui looks pretty damn sick tho', 'quality good every snap im watching looks like android quality', 'get allnew gamechanging network unlimited worksforme', 'get today theres NOT_get NOT_my NOT_iphone NOT_x NOT_today NOT_and NOT_theres NOT_no NOT_cute NOT_cases NOT_so NOT_this NOT_is NOT_good cute cases good', 'people wit keep stunting think gotta go get', 'season get new 8 save 350 iphone8 iphonex worksforme pic twitter com96fiwaw7kw', 'buy one', '9 yrs apple', 'need someone back van ting get brokebishhh', 'want christmas', 'wonder apple store app ever let anyone uk get upgrade program waiting feels like lifetime', 'lowkey lowkey lowkey want would mean like good portion savings would gone lol need new phone bad', 'need christmas stunt holiday pics', 'yeah need', 'apple need work hard pixel outshining portrait selfies bad bros back camera takes good one selfie portrait sucks', 'hate NOT_hate NOT_the NOT_iphone NOT_x canât text one handed put biscuit reply tweet never NOT_hate NOT_the NOT_iphone NOT_x put food NOT_hate NOT_the NOT_iphone NOT_x happy', 'apple a1901 256gb att bad imei near mint condition 2309 40 bids http rover ebay comrover171153 2001925501 ff34pub5575041009toolid10001campid5337506718customidmprehttp www ebay comitmappleiphonexa1901256gbattbadimeinearmintcondition2309333151633331 â â', 'try screen expensive apple', 'low key hate NOT_low NOT_key NOT_hate NOT_my NOT_iphone NOT_xr NOT_and NOT_all NOT_my NOT_x NOT_âs NOT_too xr âs', 'hate NOT_how NOT_iphone NOT_x NOT_cuts NOT_off NOT_headers cuts headers', 'apple oh xs models NOT_apple NOT_why NOT_oh NOT_why NOT_on NOT_iphone NOT_x NOT_ NOT_xs NOT_models NOT_can NOT_we NOT_not NOT_replace NOT_the NOT_almost NOT_useless NOT_battery NOT_icon NOT_with NOT_a NOT_percentage NOT_figure replace almost useless battery icon percentage figure makessense nobrainer appledictation ios wishlist', 'apple applesupport really hate NOT_apple NOT_applesupport NOT_i NOT_really NOT_hate NOT_the NOT_fact NOT_that NOT_i NOT_spent NOT_all NOT_this NOT_money NOT_on NOT_the NOT_iphone NOT_x NOT_for NOT_the NOT_camera NOT_to NOT_be NOT_so NOT_trashy fact spent money camera trashy samsungmobile phoneâs camera much better guys really disappointed', 'order download video first need update itunes cannot updated update version os im running people hate NOT_in NOT_order NOT_to NOT_download NOT_a NOT_video NOT_from NOT_my NOT_iphone NOT_i NOT_first NOT_need NOT_to NOT_update NOT_itunes NOT_which NOT_cannot NOT_be NOT_updated NOT_until NOT_i NOT_update NOT_the NOT_version NOT_of NOT_os NOT_x NOT_that NOT_im NOT_running computers', 'hate NOT_hate NOT_when NOT_i NOT_facetime NOT_someone NOT_and NOT_my NOT_screen NOT_doesnât NOT_give NOT_me NOT_the NOT_hang NOT_up NOT_option facetime someone screen doesnât give hang option glitch af', 'eh kinda bad charge 3 times day wake morning 100 6 7pm drops 30', '8 popular expensive', 'cant relate cool features honestly really2 hate NOT_iphone NOT_x NOT_cant NOT_relate NOT_with NOT_all NOT_those NOT_cool NOT_features', 'honestly hate NOT_honestly NOT_hate NOT_the NOT_iphone NOT_x', 'anyone hate NOT_anyone NOT_have NOT_the NOT_iphone NOT_x mine green line appeared screen itâs super annoying itâs NOT_anyone NOT_have NOT_the NOT_iphone NOT_x going away NOT_anyone NOT_have NOT_the NOT_iphone NOT_x matter many times restart phone canât deal andnskcoakdksls', 'think people donât believe say hate NOT_think NOT_people NOT_donât NOT_believe NOT_me NOT_when NOT_i NOT_say NOT_i NOT_hate NOT_my NOT_iphone NOT_x NOT_but NOT_like NOT_i NOT_genuinely NOT_hate NOT_this NOT_phone like genuinely hate NOT_think NOT_people NOT_donât NOT_believe NOT_me NOT_when NOT_i NOT_say NOT_i NOT_hate NOT_my NOT_iphone NOT_x NOT_but NOT_like NOT_i NOT_genuinely NOT_hate NOT_this NOT_phone phone', 'users almost retarded well fuck spends 899 99 8 hippys xd higher number went phone expensive got example oh look got cost 1000 money sense leedle leedle lee pic twitter comjrkrfq1nvx', 'repair charges excruciatingly expensive apple iphonex https thenewspocket com20190412the iphonerepairchargesareexcruciatinglyexpensive â â', 'hate NOT_hate NOT_that NOT_iphone NOT_xr xr', 'apple downloaded latest update itâs useless brick battery supped twice fast iâm charge 3 times day instead thought youâd given game', 'one sometimes sc image quality like 420p bad sometimes', 'got worst luck phones 7 replaced screen prolly like 4 times hate NOT_got NOT_the NOT_worst NOT_luck NOT_with NOT_phones', 'hate NOT_hate NOT_the NOT_iphone NOT_x NOT_camera camera', 'wow actually hate NOT_actually NOT_hate NOT_the NOT_iphone NOT_x NOT_front NOT_camera front camera', 'hate NOT_hate NOT_how NOT_quick NOT_the NOT_flashlight NOT_turns NOT_on NOT_the NOT_iphone NOT_x quick flashlight turns', 'really dislike canât use aux charger pic twitter comegzhxaeljg', 'omg hate NOT_hate NOT_the NOT_iphone NOT_x anyone else screen shot peoples stories say turn volume', 'hate NOT_hate NOT_smartphones NOT_that NOT_do NOT_useless NOT_gimmicks smartphones useless gimmicks like popping camera swiveling folding', 'think thing hate NOT_think NOT_the NOT_only NOT_thing NOT_i NOT_hate NOT_about NOT_having NOT_the NOT_iphone NOT_x NOT_is NOT_how NOT_much NOT_fucking NOT_space NOT_is NOT_wasted NOT_in NOT_my NOT_photos NOT_of NOT_all NOT_my NOT_accidental NOT_screenshots much fucking space wasted photos accidental screenshots', 'NOT_cap NOT_i NOT_hate NOT_the NOT_iphone NOT_x cap hate NOT_cap NOT_i NOT_hate NOT_the NOT_iphone NOT_x', 'hate NOT_hate NOT_the NOT_face NOT_id NOT_on NOT_the NOT_iphone NOT_x face id', 'applesupport hate NOT_applesupport NOT_i NOT_hate NOT_my NOT_iphone NOT_x NOT_and NOT_my NOT_wife NOT_does NOT_too wife take longer unlock facial recognition swipe 7 plus thumb print recognition NOT_applesupport NOT_i NOT_hate NOT_my NOT_iphone NOT_x NOT_and NOT_my NOT_wife NOT_does NOT_too swiping doesnt make sens', 'quality still bad dndjjd', 'bad display agree', 'dislike layout information top screen sr range', 'honestly sucks bad', 'iâm gonna need apple better damn phones iâve 4 iphones takes get hate NOT_gonna NOT_need NOT_apple NOT_to NOT_do NOT_better NOT_with NOT_these NOT_damn NOT_phones damn phone soon insides outside glass back broken costing 500 fix annoyed iphonex', 'one crisis one lightning port need also charge portacharger go im screwed lol apple ruining shit first new macbooks terrible falling apart keyboards useless touch bar', 'new battery exchange 6 works fantastic NOT_did NOT_the NOT_new NOT_battery NOT_exchange NOT_with NOT_my NOT_6 NOT_works NOT_fantastic NOT_again like xr expensive', 'think petty shit hate NOT_think NOT_about NOT_petty NOT_shit way series screenshot look', 'absolutely hate NOT_absolutely NOT_hate NOT_this NOT_iphone NOT_x NOT_camera camera basura', 'things want bad rn laptop gf maybe polaroid film camera', 'called apple find trade event ends apple customer service person didnât know would end didnât even know started stop playing games bad customer service', 'hate NOT_hate NOT_this NOT_lil NOT_black NOT_bar NOT_across NOT_my NOT_damn NOT_screen NOT_on NOT_this NOT_iphone NOT_x lil black bar across damn screen', 'battery life bad', 'iâm starting hate NOT_starting NOT_to NOT_hate NOT_my NOT_iphone NOT_x', 'rlly need someone convince getting aint worth else think im gonna make parents pay 9000âº stupid phone makes feel bad', 'signal data still bad', 'stingeyness levels boltonanion âœâ30 month still expensive â', 'hate NOT_hate NOT_the NOT_iphone NOT_x NOT_i NOT_almost NOT_dropped NOT_it NOT_and NOT_screenshotted NOT_this NOT_in NOT_the NOT_process NOT_pic NOT_twitter NOT_comxaedq2tu4n almost dropped screenshotted process pic twitter comxaedq2tu4n', 'literally thing hate NOT_the NOT_only NOT_thing NOT_i NOT_hate NOT_about NOT_the NOT_iphone NOT_x NOT_series NOT_is NOT_the NOT_fucking NOT_screenshot NOT_mechanic series fucking screenshot mechanic', 'attack users giving us hate NOT_have NOT_to NOT_attack NOT_the NOT_iphone NOT_users NOT_for NOT_giving NOT_us NOT_hate NOT_cause NOT_we NOT_have NOT_ NOT_bad NOT_ NOT_camera NOT_quality NOT_when NOT_all NOT_the NOT_new NOT_phones NOT_androids NOT_have NOT_better NOT_camera NOT_quality NOT_than NOT_the NOT_iphone NOT_x NOT_râ NOT_like NOT_bro NOT_get NOT_a NOT_fucking NOT_grip NOT_your NOT_acting NOT_like NOT_the NOT_iphone NOT_has NOT_been NOT_around NOT_for NOT_thousands NOT_of NOT_years cause bad camera quality new phones androids better camera quality râ like bro get fucking grip acting like around thousands years', 'hate NOT_hate NOT_the NOT_iphone NOT_x NOT_camera camera', 'want get samsung phone go back android donât hate NOT_have NOT_the NOT_x', 'hate NOT_hate NOT_the NOT_iphone NOT_x NOT_stay NOT_censoring NOT_shit NOT_off NOT_my NOT_phone NOT_like NOT_iâm NOT_a NOT_little NOT_ass NOT_kid NOT_or NOT_something stay censoring shit phone like iâm little ass kid something', 'thing hate NOT_thing NOT_i NOT_hate NOT_about NOT_the NOT_iphone NOT_x NOT_is NOT_that NOT_i NOT_canât NOT_fucking NOT_charge NOT_my NOT_phone NOT_and NOT_listen NOT_to NOT_music NOT_at NOT_the NOT_same NOT_time canât fucking charge phone listen music time like bro ainât tryna buy NOT_thing NOT_i NOT_hate NOT_about NOT_the NOT_iphone NOT_x NOT_is NOT_that NOT_i NOT_canât NOT_fucking NOT_charge NOT_my NOT_phone NOT_and NOT_listen NOT_to NOT_music NOT_at NOT_the NOT_same NOT_time 200 headphones lose one week', 'use top taking pics everybody anytime went anywhere anything camera changed hate NOT_use NOT_to NOT_be NOT_on NOT_top NOT_of NOT_taking NOT_pics NOT_with NOT_everybody NOT_anytime NOT_i NOT_went NOT_anywhere NOT_or NOT_did NOT_anything camera thing also', 'hate NOT_hate NOT_when NOT_people NOT_have NOT_iphone NOT_x NOT_âs NOT_and NOT_their NOT_camera NOT_quality NOT_is NOT_bad people âs camera quality bad', 'one thing hate NOT_one NOT_thing NOT_i NOT_hate NOT_about NOT_the NOT_iphone NOT_x NOT_is NOT_that NOT_it NOT_has NOT_no NOT_fingerprint NOT_sensor NOT_one NOT_thing NOT_i NOT_hate NOT_about NOT_the NOT_iphone NOT_x NOT_is NOT_that NOT_it NOT_has NOT_no NOT_fingerprint NOT_sensor fingerprint sensor', 'broken meltdown stuck apple logo know theres NOT_iphone NOT_x NOT_is NOT_broken NOT_and NOT_i NOT_am NOT_having NOT_a NOT_meltdown way fix also contract expensive dont even phone everything always go wrng', 'one bad luck apple products recently', 'tim_cook humble request apple company max expensive please something reduce price 200 promise people start buying make every people dream phone ynwa', 'blacked apple holding 1', 'kaitgirlosb got work today ever phones bad pic twitter comw34iqif1tm', 'onlyyyy thing dislike itâs easy screenshot literally time unintentionally', 'honestly hate NOT_honestly NOT_hate NOT_the NOT_quality NOT_of NOT_my NOT_iphone NOT_x NOT_front NOT_camera NOT_my NOT_8 NOT_is NOT_way NOT_better quality front camera 8 way better', 'hate NOT_hate NOT_for NOT_my NOT_iphone NOT_x NOT_is NOT_so NOT_real NOT_rite NOT_now NOT_it NOT_controls NOT_itâs NOT_self NOT_i NOT_canât NOT_do NOT_anything NOT_on NOT_it NOT_so NOT_pissed real rite controls itâs self canât anything pissed', 'hate NOT_hate NOT_my NOT_iphone NOT_x NOT_battery NOT_its NOT_at NOT_89 NOT_and NOT_totally NOT_shit battery 89 totally shit', 'reduce pride humble', 'fucking hate NOT_fucking NOT_hate NOT_iphone NOT_x', 'thought would good idea something swipe bottom access seeing xs goes home screen welcome new useless app honda hondainamerica pic twitter comdlbbkairrr', 'lunch looked around notice 10 people one upgraded kind hit bad apples sales right basically go netflix clone streaming service appl', 'hate NOT_hate NOT_the NOT_way NOT_iphone NOT_x NOT_videos NOT_look way videos look', 'iâd hate NOT_iâd NOT_hate NOT_to NOT_have NOT_this NOT_phone NOT_ NOT_iphone NOT_x NOT_ NOT_and NOT_get NOT_absolutely NOT_nothing NOT_should NOT_be NOT_like NOT_a NOT_bundle NOT_but NOT_without NOT_the NOT_vbucks NOT_included NOT_if NOT_you NOT_get NOT_what NOT_i NOT_mean phone get absolutely nothing like bundle without vbucks included get mean', 'bad thing facial id unlock wake morning looking mess cant recognize face', 'change a5 seems decent tho expensive', 'oh really far im aware 78 xrxsxs got increasingly expensive new model released sure went eventually', 'started android htc droid 1 2 since ios 8 years contemplating switch samsung s10 s10e', 'newest made useless', 'ugh hate NOT_i NOT_hate NOT_when NOT_the NOT_iphone NOT_x NOT_face NOT_recognition NOT_doesnât NOT_work NOT_because NOT_youâre NOT_wearing NOT_your NOT_ray NOT_bans face recognition doesnât work youâre wearing ray bans', 'NOT_x NOT_no NOT_tiene NOT_3d NOT_touch NOT_i NOT_hate NOT_it tiene 3d touch hate NOT_x NOT_no NOT_tiene NOT_3d NOT_touch NOT_i NOT_hate NOT_it', 'worst service ever experience hazratganj applesupport little dust told pls clean rudely denied said need pay people go expensive devices NOT_service NOT_ever NOT_experience NOT_from NOT_hazratganj NOT_applesupport NOT_just NOT_little NOT_dust NOT_on NOT_my NOT_iphone NOT_x NOT_and NOT_i NOT_told NOT_her NOT_to NOT_pls NOT_just NOT_clean NOT_once NOT_and NOT_rudely NOT_denied NOT_and NOT_said NOT_you NOT_need NOT_to NOT_pay NOT_why NOT_people NOT_go NOT_with NOT_expensive NOT_devices NOT_as NOT_they NOT_not NOT_even NOT_giving NOT_premium NOT_service NOT_to NOT_customers NOT_applesupport even giving premium service customers applesupport', 'said expensive brands wow looking selfie series make wanna selfie nokia 3310', 'piece shit never NOT_piece NOT_of NOT_shit NOT_iphone NOT_x NOT_never NOT_works NOT_with NOT_itunes NOT_on NOT_my NOT_imac works itunes imac apple fuck making shitty', 'used hate NOT_used NOT_to NOT_hate NOT_iphone NOT_âs NOT_hotspot NOT_which NOT_gets NOT_autodisconnected NOT_on NOT_not NOT_receiving NOT_any NOT_ack NOT_from NOT_connected NOT_device NOT_within NOT_x NOT_mins âs hotspot gets autodisconnected NOT_used NOT_to NOT_hate NOT_iphone NOT_âs NOT_hotspot NOT_which NOT_gets NOT_autodisconnected NOT_on NOT_not NOT_receiving NOT_any NOT_ack NOT_from NOT_connected NOT_device NOT_within NOT_x NOT_mins receiving ack connected device within mins', 'sheâs owns camera quality still bad', 'filed complain ship new one different color bc hate NOT_filed NOT_a NOT_complain NOT_about NOT_my NOT_iphone NOT_x NOT_so NOT_they NOT_can NOT_ship NOT_me NOT_out NOT_a NOT_new NOT_one NOT_and NOT_a NOT_different NOT_color NOT_bc NOT_i NOT_hate NOT_the NOT_color NOT_i NOT_have NOT_rn NOT_but NOT_there NOT_was NOT_no NOT_more NOT_other NOT_colors NOT_and NOT_they NOT_told NOT_me NOT_they NOT_were NOT_shipping NOT_the NOT_same NOT_product NOT_ugh NOT_all NOT_the NOT_complaining NOT_for NOT_nothing color rn NOT_filed NOT_a NOT_complain NOT_about NOT_my NOT_iphone NOT_x NOT_so NOT_they NOT_can NOT_ship NOT_me NOT_out NOT_a NOT_new NOT_one NOT_and NOT_a NOT_different NOT_color NOT_bc NOT_i NOT_hate NOT_the NOT_color NOT_i NOT_have NOT_rn NOT_but NOT_there NOT_was NOT_no NOT_more NOT_other NOT_colors NOT_and NOT_they NOT_told NOT_me NOT_they NOT_were NOT_shipping NOT_the NOT_same NOT_product NOT_ugh NOT_all NOT_the NOT_complaining NOT_for NOT_nothing colors told shipping product ugh complaining nothing', 'create new airpods simular old ones spending years apple disappointed fisrt released last one xs simular one much expensive closed one trading', 'surprised latest processor plus apple pencil like feel newer apple pencil hand since squared canât everything hate NOT_was NOT_surprised NOT_it NOT_has NOT_the NOT_latest NOT_processor face id half time hold close fails', 'hate NOT_hate NOT_this NOT_stupid NOT_iphone NOT_x NOT_i NOT_canât NOT_listen NOT_to NOT_music NOT_and NOT_charge NOT_my NOT_phone NOT_at NOT_the NOT_same NOT_time NOT_i NOT_will NOT_not NOT_buy NOT_that NOT_stupid NOT_thing stupid canât listen music charge phone time NOT_hate NOT_this NOT_stupid NOT_iphone NOT_x NOT_i NOT_canât NOT_listen NOT_to NOT_music NOT_and NOT_charge NOT_my NOT_phone NOT_at NOT_the NOT_same NOT_time NOT_i NOT_will NOT_not NOT_buy NOT_that NOT_stupid NOT_thing buy stupid thing', 'cant use hate NOT_cant NOT_use NOT_this NOT_because NOT_i NOT_hate NOT_iphones NOT_and iphones', 'NOT_offense NOT_but NOT_i NOT_hate NOT_the NOT_assistive NOT_touch NOT_on NOT_an NOT_iphone NOT_x offense hate NOT_offense NOT_but NOT_i NOT_hate NOT_the NOT_assistive NOT_touch NOT_on NOT_an NOT_iphone NOT_x assistive touch jss bothers smhh', 'take many unwanted screenshots max hate NOT_take NOT_so NOT_many NOT_unwanted NOT_screenshots NOT_with NOT_this NOT_iphone NOT_x NOT_max', 'fucking hate NOT_fucking NOT_hate NOT_the NOT_iphone NOT_x NOT_emergency NOT_notification NOT_system emergency notification system', 'bad display hard look', 'hate NOT_hate NOT_the NOT_notch NOT_in NOT_iphone NOT_x notch', 'im actually considering buy expensive', 'sometimes hate NOT_i NOT_hate NOT_my NOT_iphone NOT_x', 'got max hate NOT_just NOT_got NOT_the NOT_iphone NOT_x NOT_s NOT_max NOT_and NOT_i NOT_hate NOT_the NOT_speaker NOT_quality speaker quality f life', 'want bad im broke dont NOT_want NOT_this NOT_so NOT_bad NOT_but NOT_im NOT_broke NOT_and NOT_i NOT_dont NOT_even NOT_have NOT_an NOT_iphone NOT_x NOT_to NOT_start NOT_with NOT_https NOT_ NOT_twitter NOT_comming9_prstatu NOT_s1114158786871054336 NOT_ even start https twitter comming9_prstatu s1114158786871054336', 'say diehard apple loyalist anything laptops go pixel superior technology', 'im waiting sell 100 NOT_waiting NOT_for NOT_an NOT_iphone NOT_x NOT_to NOT_sell NOT_for NOT_100 NOT_no NOT_matter NOT_how NOT_bad NOT_the NOT_condition NOT_is matter bad condition need clickbaity title still true', 'ok honestly really hate NOT_but NOT_i NOT_honestly NOT_really NOT_hate NOT_the NOT_iphone NOT_x NOT_s NOT_designs designs', 'fuck battery sucking bad goooood', 'want bad', 'hate NOT_hate NOT_you NOT_iphone NOT_x NOT_niggas NOT_that NOT_dont NOT_shower niggas dont shower airpods ass niggas dont brush teeth piss', 'thats hate NOT_it spending money fuck imma buy maybe couple weeks ill get apple watch', 'NOT_everyone NOT_has NOT_the NOT_money NOT_to NOT_buy NOT_the NOT_real NOT_one NOT_lol NOT_an NOT_iphone NOT_x NOT_is NOT_what NOT_i NOT_make NOT_in NOT_10 NOT_months everyone money buy real one lol make 10 months', 'funny mentioned comparisons worse note 9', 'main thing hate NOT_main NOT_thing NOT_i NOT_hate NOT_about NOT_this NOT_iphone NOT_x im always taking screenshots something unintentionally', 'thats gives even authority hate NOT_what NOT_gives NOT_me NOT_even NOT_more NOT_authority almost everything', 'fuckin need samsung bad quality', 'want bad im gonna stuck w 6s another year least truly gonna turn 5 2020 wow', 'fucking hate NOT_fucking NOT_hate NOT_the NOT_iphone NOT_x', 'want 8 plus back hate NOT_want NOT_my NOT_iphone NOT_8 NOT_plus NOT_back NOT_i NOT_hate NOT_this NOT_x NOT_shit shit', 'omg phone literally mess barley living aint getting phone hate NOT_my NOT_phone NOT_is NOT_literally NOT_a NOT_mess NOT_and NOT_barley NOT_living NOT_but NOT_i NOT_aint NOT_getting NOT_a NOT_phone NOT_because NOT_i NOT_hate NOT_the NOT_iphone NOT_x', 'baby wanting bad af lol ima buy one surprise', 'requires sucks us hate NOT_requires NOT_an NOT_iphone NOT_x NOT_or NOT_above upgrade', 'still feels nice software experience NOT_x NOT_still NOT_feels NOT_nice good apple car play desaster home screen boring', 'oh 12 isnt bad thing', 'dont NOT_you NOT_dont NOT_need NOT_an NOT_iphone NOT_x need', 'lol glass back expensive replace screen', 'lmaooo maybe jshsjs like expensive like', 'binance app laptop lagging bad', '12 yr old get iwatch christmas w would turning 13 next month make bad mom say yes NOT_a NOT_12 NOT_yr NOT_old NOT_get NOT_an NOT_iwatch NOT_for NOT_christmas NOT_w NOT_and NOT_iphone NOT_x need help', 'yea used crazy amount problems max scans perfect almost everytime sprint year think trade max forever itll like 4 expensive bill', 'im honestly still NOT_honestly NOT_still NOT_not NOT_over NOT_how NOT_bad NOT_the NOT_quality NOT_of NOT_snapchat NOT_photos NOT_is NOT_on NOT_the NOT_iphone NOT_x bad quality snapchat photos', 'im really starting hate NOT_really NOT_starting NOT_to NOT_hate NOT_this NOT_iphone NOT_x screenshots stuff worst possible times like srry srry', 'two kids come wearing gucci clothes tims chains watch kids share air pod bc shit expensive bet share whats wrong world', 'hate NOT_hate NOT_the NOT_way NOT_screenshots NOT_look NOT_on NOT_an NOT_iphone NOT_x NOT_its NOT_so NOT_annoying way screenshots look annoying', 'hate NOT_have NOT_the NOT_iphone NOT_x NOT_and NOT_i NOT_hate NOT_it camera suckssss get tomorrow', 'im NOT_not NOT_an NOT_iphone NOT_person person', 'look freaking expensive especially tae jungkook', 'went xr difference crazy love hate NOT_just NOT_went NOT_from NOT_an NOT_iphone NOT_x NOT_to NOT_an NOT_xr NOT_and NOT_the NOT_difference NOT_is NOT_crazy relationship', 'lets honest looks pretty bad didnt know apple could top https twitter comunboxtherapys tatus1112040566194352128', 'takes amazing pics even blurs background like super expensive cameras market socialmedia socialmediamarketing socialmediastrategist', 'hate NOT_hate NOT_how NOT_sensitive NOT_the NOT_iphone NOT_x NOT_is sensitive', 'iphones keep getting uglier uglier like 7 look bad camera disgusting', 'absolutely fucking hate NOT_absolutely NOT_fucking NOT_hate NOT_this NOT_game game im throw bitch ass across fucking room im buy whole ass new phone soul purpose playing ss bc bitch ass home bar bifch ass phone fucking annoying im killing someone', 'fucking hate NOT_have NOT_an NOT_iphone NOT_x NOT_i NOT_fucking NOT_hate NOT_you NOT_so NOT_much NOT_right NOT_now much right', 'NOT_x NOT_ NOT_no NOT_credit NOT_checks credit checks', 'really hate NOT_really NOT_hate NOT_the NOT_lack NOT_of NOT_a NOT_home NOT_button NOT_on NOT_the NOT_iphone NOT_x lack home button want go back se like way way better fact', 'theyre expensive though wanna cry like', 'want feel bad', 'NOT_x NOT_is NOT_not NOT_that NOT_bad NOT_but NOT_the NOT_price bad price', 'fucking hate NOT_fucking NOT_hate NOT_iphone NOT_x NOT_s NOT_i NOT_screen NOT_shot NOT_shit NOT_i NOT_dont NOT_mean NOT_to NOT_all NOT_the NOT_time screen shot shit dont mean time', 'lol samsung screens expensive made like screens', 'amazed much see public days absolutely amazed ordinary people 1000 dollar phones subsidized expensive phone plans see home button iphones', 'looks like commercial yes expensive', 'ew 7s camera quality looks trash next hate NOT_iphone NOT_7s NOT_camera NOT_quality NOT_looks NOT_so NOT_trash NOT_next NOT_to NOT_an NOT_x poor', 'apple hey brand new expensive suck cant even play streams NOT_apple NOT_hey NOT_why NOT_does NOT_your NOT_brand NOT_new NOT_expensive NOT_iphone NOT_x NOT_suck good phone', 'unpopular opinion hate NOT_opinion NOT_ NOT_i NOT_hate NOT_the NOT_iphone NOT_x NOT_models NOT_yet NOT_i NOT_wont NOT_get NOT_another NOT_phone models yet wont get another phone', 'want bad', 'anyone explain incredibly expensive randomly slide perfectly flat surfaces']\n"
     ]
    }
   ],
   "source": [
    "# BUILDING THE CORPUS\n",
    "corpus = []\n",
    "for text in final_data_frame[\"text\"]:\n",
    "    corpus.append(text)\n",
    "   # print(text)\n",
    "print(corpus)\n",
    "\n"
   ]
  },
  {
   "cell_type": "code",
   "execution_count": 43,
   "id": "badf5778",
   "metadata": {},
   "outputs": [
    {
     "name": "stdout",
     "output_type": "stream",
     "text": [
      "rename values of class column\n",
      "                                                text  class\n",
      "0       ill buy get accurate fucking weather reports      0\n",
      "1  dude fb selling 64 gb 1100 like nigga NOT_dude...      0\n",
      "2  home dab emote man today get hopped two full d...      1\n",
      "3                                                buy      1\n",
      "4  hate NOT_hate NOT_ios NOT_11 ios 11 6 works 10...      0\n",
      "\n"
     ]
    }
   ],
   "source": [
    "# CHANGE CLASS VALUES FROM YES/NO TO 0/1\n",
    "final_data_frame.rename(columns={\"class\": \"class_label\"}, inplace=True)\n",
    "Class_Label = {\"yes\": 1, \"no\": 0}\n",
    "final_data_frame.class_label = [\n",
    "    Class_Label[item] for item in final_data_frame.class_label\n",
    "]\n",
    "final_data_frame.rename(columns={\"class_label\": \"class\"}, inplace=True)\n",
    "print(\"rename values of class column\")\n",
    "print(final_data_frame.head())\n",
    "print()\n",
    "# ------"
   ]
  },
  {
   "cell_type": "code",
   "execution_count": 44,
   "id": "b96a492b",
   "metadata": {},
   "outputs": [],
   "source": [
    "# TF\n",
    "# Transforms text into a sparse matrix of n-gram counts.\n",
    "\n",
    "count_vectorizer = CountVectorizer()\n",
    "count_vectorized_data = count_vectorizer.fit_transform(corpus)"
   ]
  },
  {
   "cell_type": "code",
   "execution_count": 45,
   "id": "d5414217",
   "metadata": {},
   "outputs": [],
   "source": [
    "# IDF\n",
    "# Performs the TF-IDF transformation from a provided matrix of counts.\n",
    "\n",
    "tfidf_vectorizer = TfidfVectorizer()\n",
    "tfidf_vectorized_data = tfidf_vectorizer.fit_transform(corpus)"
   ]
  },
  {
   "cell_type": "code",
   "execution_count": 46,
   "id": "c89ac714",
   "metadata": {},
   "outputs": [],
   "source": [
    "# chose document vector\n",
    "vectorized_data = tfidf_vectorized_data"
   ]
  },
  {
   "cell_type": "code",
   "execution_count": 47,
   "id": "28a05db2",
   "metadata": {},
   "outputs": [],
   "source": [
    "# SPLITING THE DATA\n",
    "\n",
    "X_train, X_test, Y_train, Y_test = train_test_split(\n",
    "    vectorized_data, final_data_frame[\"class\"], test_size=0.3, random_state=0)"
   ]
  },
  {
   "cell_type": "code",
   "execution_count": 48,
   "id": "897b39d6",
   "metadata": {},
   "outputs": [
    {
     "data": {
      "text/plain": [
       "SVC(gamma='auto', kernel='linear', probability=True)"
      ]
     },
     "execution_count": 48,
     "metadata": {},
     "output_type": "execute_result"
    }
   ],
   "source": [
    "# Applying SVM\n",
    "\n",
    "SVM = svm.SVC(probability=True, C=1.0, kernel=\"linear\", degree=3, gamma=\"auto\")\n",
    "SVM.fit(X_train, Y_train)"
   ]
  },
  {
   "cell_type": "code",
   "execution_count": 53,
   "id": "168064d6",
   "metadata": {},
   "outputs": [
    {
     "name": "stdout",
     "output_type": "stream",
     "text": [
      "-------------------------------------------------------------------------\n",
      "statitics for SVM\n",
      "{'auc': 0.8482992016660883, 'True Negative rate': 0.6492537313432836}\n",
      "-------------------------------------------------------------------------\n",
      "\n"
     ]
    }
   ],
   "source": [
    "# statitics for SVM\n",
    "stats = report_results(SVM, X_test, Y_test)\n",
    "print(\"-------------------------------------------------------------------------\")\n",
    "print(\"statitics for SVM\")\n",
    "print(stats)\n",
    "print(\"-------------------------------------------------------------------------\")\n",
    "print()"
   ]
  },
  {
   "cell_type": "code",
   "execution_count": 58,
   "id": "1db92e85",
   "metadata": {},
   "outputs": [
    {
     "name": "stdout",
     "output_type": "stream",
     "text": [
      "  (0, 2910)\t0.4980754011089578\n",
      "  (0, 3528)\t0.47065394408697087\n",
      "  (0, 1043)\t0.3300220728737846\n",
      "  (0, 160)\t0.4980754011089578\n",
      "  (0, 1074)\t0.16080469465519165\n",
      "  (0, 443)\t0.15943377674573458\n",
      "  (0, 1259)\t0.349477906256193\n",
      "  (1, 2783)\t0.1336738191888735\n",
      "  (1, 59)\t0.1575650724924164\n",
      "  (1, 3062)\t0.10702254904451232\n",
      "  (1, 1110)\t0.11160798433610247\n",
      "  (1, 2615)\t0.09065230394467634\n",
      "  (1, 2257)\t0.1575650724924164\n",
      "  (1, 1676)\t0.1739353175922524\n",
      "  (1, 1984)\t0.10318429537507906\n",
      "  (1, 1801)\t0.14119482739258044\n",
      "  (1, 2419)\t0.14119482739258044\n",
      "  (1, 2522)\t0.1336738191888735\n",
      "  (1, 2343)\t0.1336738191888735\n",
      "  (1, 2410)\t0.21840830963670418\n",
      "  (1, 1796)\t0.09481972351982573\n",
      "  (1, 2000)\t0.14119482739258044\n",
      "  (1, 2067)\t0.10093332898920152\n",
      "  (1, 2204)\t0.12797822943593848\n",
      "  (1, 2184)\t0.11524860278172612\n",
      "  :\t:\n",
      "  (1158, 2232)\t0.19151671569525047\n",
      "  (1158, 236)\t0.22802211626523067\n",
      "  (1158, 3613)\t0.22392283854148745\n",
      "  (1158, 2699)\t0.1317034021750586\n",
      "  (1158, 3573)\t0.2081473454637874\n",
      "  (1158, 2041)\t0.272662967278385\n",
      "  (1158, 1662)\t0.178667951791736\n",
      "  (1158, 2015)\t0.13930944014559526\n",
      "  (1158, 1166)\t0.12724219483489266\n",
      "  (1158, 1984)\t0.1699860714555576\n",
      "  (1158, 2549)\t0.10159282415663108\n",
      "  (1158, 2064)\t0.10261228387352239\n",
      "  (1158, 2412)\t0.11856031449871426\n",
      "  (1158, 1074)\t0.0925105236151607\n",
      "  (1159, 309)\t0.7346933386840881\n",
      "  (1159, 3514)\t0.6783993647500177\n",
      "  (1160, 997)\t0.3682535954597122\n",
      "  (1160, 3106)\t0.3682535954597122\n",
      "  (1160, 1279)\t0.3682535954597122\n",
      "  (1160, 923)\t0.3682535954597122\n",
      "  (1160, 2693)\t0.33359472513928995\n",
      "  (1160, 3248)\t0.34797945600490776\n",
      "  (1160, 2846)\t0.34797945600490776\n",
      "  (1160, 239)\t0.2642769844984454\n",
      "  (1160, 918)\t0.1850675253648934\n"
     ]
    }
   ],
   "source": [
    "print(tfidf_vectorized_data)"
   ]
  },
  {
   "cell_type": "code",
   "execution_count": 59,
   "id": "c489631d",
   "metadata": {},
   "outputs": [
    {
     "name": "stdout",
     "output_type": "stream",
     "text": [
      "  (0, 1259)\t1\n",
      "  (0, 443)\t1\n",
      "  (0, 1074)\t1\n",
      "  (0, 160)\t1\n",
      "  (0, 1043)\t1\n",
      "  (0, 3528)\t1\n",
      "  (0, 2910)\t1\n",
      "  (1, 443)\t1\n",
      "  (1, 1074)\t1\n",
      "  (1, 829)\t1\n",
      "  (1, 957)\t1\n",
      "  (1, 3032)\t1\n",
      "  (1, 109)\t1\n",
      "  (1, 1065)\t2\n",
      "  (1, 18)\t1\n",
      "  (1, 1428)\t1\n",
      "  (1, 1646)\t1\n",
      "  (1, 1905)\t1\n",
      "  (1, 2050)\t1\n",
      "  (1, 1940)\t1\n",
      "  (1, 2335)\t1\n",
      "  (1, 2412)\t2\n",
      "  (1, 2064)\t1\n",
      "  (1, 2549)\t1\n",
      "  (1, 1684)\t1\n",
      "  :\t:\n",
      "  (1158, 2041)\t2\n",
      "  (1158, 3573)\t1\n",
      "  (1158, 2699)\t1\n",
      "  (1158, 3613)\t1\n",
      "  (1158, 236)\t1\n",
      "  (1158, 2232)\t1\n",
      "  (1158, 1583)\t1\n",
      "  (1158, 2159)\t1\n",
      "  (1158, 2560)\t1\n",
      "  (1158, 1726)\t1\n",
      "  (1158, 2627)\t1\n",
      "  (1158, 2539)\t1\n",
      "  (1158, 3448)\t1\n",
      "  (1158, 2209)\t1\n",
      "  (1159, 3514)\t1\n",
      "  (1159, 309)\t1\n",
      "  (1160, 918)\t1\n",
      "  (1160, 239)\t1\n",
      "  (1160, 2846)\t1\n",
      "  (1160, 3248)\t1\n",
      "  (1160, 2693)\t1\n",
      "  (1160, 923)\t1\n",
      "  (1160, 1279)\t1\n",
      "  (1160, 3106)\t1\n",
      "  (1160, 997)\t1\n"
     ]
    }
   ],
   "source": [
    "print(count_vectorized_data)"
   ]
  },
  {
   "cell_type": "code",
   "execution_count": null,
   "id": "13b6735c",
   "metadata": {},
   "outputs": [],
   "source": []
  }
 ],
 "metadata": {
  "kernelspec": {
   "display_name": "Python 3",
   "language": "python",
   "name": "python3"
  },
  "language_info": {
   "codemirror_mode": {
    "name": "ipython",
    "version": 3
   },
   "file_extension": ".py",
   "mimetype": "text/x-python",
   "name": "python",
   "nbconvert_exporter": "python",
   "pygments_lexer": "ipython3",
   "version": "3.8.8"
  }
 },
 "nbformat": 4,
 "nbformat_minor": 5
}
