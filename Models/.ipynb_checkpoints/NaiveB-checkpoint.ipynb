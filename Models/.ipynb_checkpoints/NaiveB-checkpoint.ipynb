{
 "cells": [
  {
   "cell_type": "code",
   "execution_count": 1,
   "id": "ff1b4561",
   "metadata": {},
   "outputs": [],
   "source": [
    "import pandas as pd\n",
    "import numpy as np\n",
    "import math\n"
   ]
  },
  {
   "cell_type": "code",
   "execution_count": 2,
   "id": "d736a1e4",
   "metadata": {},
   "outputs": [],
   "source": [
    "class NaiveBayesModel:\n",
    "\n",
    "    def WordGivenNoPI(self, tempNegDocVector, uniqueWords):\n",
    "        data = np.zeros([1, len(uniqueWords)])\n",
    "        wordGivenNoPI = pd.DataFrame(data, columns=uniqueWords)\n",
    "        columnSum = tempNegDocVector.sum(axis=1, skipna=True)\n",
    "        numWordsInNoPI = columnSum.sum()\n",
    "\n",
    "        for word in uniqueWords:\n",
    "            nk_wordinNoPI = tempNegDocVector[word].sum()\n",
    "            wordGivenNoPI.at[0, word] = (nk_wordinNoPI + 1) / (numWordsInNoPI + len(uniqueWords))\n",
    "        return (wordGivenNoPI, numWordsInNoPI)\n",
    "\n",
    "    def TrainModel(self, Train_Vector, uniqueWords):\n",
    "        yesCount = Train_Vector[\"PurchaseIntention\"] == \"yes\"\n",
    "        tempPosDocVector = Train_Vector[yesCount]\n",
    "        totalPI = tempPosDocVector[\"PurchaseIntention\"].count()\n",
    "        print(\"total PI \", totalPI)\n",
    "\n",
    "        noCount = Train_Vector[\"PurchaseIntention\"] == \"no\"\n",
    "        tempNegDocVector = Train_Vector[noCount]\n",
    "        # print(tempNegDocVector[\"PurchaseIntention\"])\n",
    "        totalNonPI = tempNegDocVector[\"PurchaseIntention\"].count()\n",
    "        print(\"total non PI \", totalNonPI)\n",
    "        # print(totalPI+totalNonPI)\n",
    "        # totalNonPI = docVector[\"PurchaseIntention\"].count() - totalPI\n",
    "        total = totalPI + totalNonPI\n",
    "        Prob_PI = totalPI / total\n",
    "        Prob_NoPI = totalNonPI / total\n",
    "\n",
    "        data = np.zeros([1, len(uniqueWords)])\n",
    "        wordGivenPI = pd.DataFrame(data, columns=uniqueWords)\n",
    "        columnSum = tempPosDocVector.sum(axis=1, skipna=True)\n",
    "        numWordsInPI = columnSum.sum()\n",
    "\n",
    "        for word in uniqueWords:\n",
    "            nk_wordinPI = tempPosDocVector[word].sum()\n",
    "            wordGivenPI.at[0, word] = (nk_wordinPI + 1) / (numWordsInPI + len(uniqueWords))\n",
    "\n",
    "        df_wordGivenNoPI, numWordsInNoPI = self.WordGivenNoPI(tempNegDocVector, uniqueWords)\n",
    "        return wordGivenPI, df_wordGivenNoPI, Prob_PI, Prob_NoPI, numWordsInPI, numWordsInNoPI\n",
    "\n",
    "\n",
    "    def predict(self,Prob_PI, Prob_NoPI, uniqueWords, df_WordGivenPI, df_WordGivenNoPi, numWordsInPI, numWordsInNoPI,\n",
    "                df_test, clean):\n",
    "        predict_df = pd.DataFrame()\n",
    "        weighPI = Prob_PI\n",
    "        weighNoPI = Prob_NoPI\n",
    "        count_test = 0\n",
    "        for sentence in df_test['text']:\n",
    "            # print(count_test)\n",
    "            for word in sentence.lower().split():\n",
    "                if word in uniqueWords:\n",
    "                    weighPI = weighPI * df_WordGivenPI.at[0, word]\n",
    "                    weighNoPI = weighNoPI * df_WordGivenNoPi.at[0, word]\n",
    "                else:\n",
    "                    weighPI = weighPI * (1 / (numWordsInPI + len(uniqueWords)))\n",
    "                    weighNoPI = weighNoPI * (1 / (numWordsInNoPI + len(uniqueWords)))\n",
    "            predict_df.at[count_test, 'WeightPI'] = weighPI\n",
    "            if weighPI > weighNoPI:\n",
    "                predict_df.at[count_test, 'PredictedClass'] = 'yes'\n",
    "                # print(test_data.at[count_test,'text'],test_data.at[count_test,'PredictedClass'])\n",
    "            else:\n",
    "                predict_df.at[count_test, 'PredictedClass'] = 'no'\n",
    "                # print(test_data.at[count_test,'text'],test_data.at[count_test,'PredictedClass'])\n",
    "\n",
    "            count_test += 1\n",
    "            weighPI = Prob_PI\n",
    "            weighNoPI = Prob_NoPI\n",
    "        return predict_df, df_test"
   ]
  },
  {
   "cell_type": "code",
   "execution_count": null,
   "id": "34121197",
   "metadata": {},
   "outputs": [],
   "source": []
  },
  {
   "cell_type": "markdown",
   "id": "ebbf1c6b",
   "metadata": {},
   "source": []
  },
  {
   "cell_type": "code",
   "execution_count": null,
   "id": "aaa79557",
   "metadata": {},
   "outputs": [],
   "source": []
  },
  {
   "cell_type": "code",
   "execution_count": null,
   "id": "6baa3cd1",
   "metadata": {},
   "outputs": [],
   "source": []
  }
 ],
 "metadata": {
  "kernelspec": {
   "display_name": "Python 3",
   "language": "python",
   "name": "python3"
  },
  "language_info": {
   "codemirror_mode": {
    "name": "ipython",
    "version": 3
   },
   "file_extension": ".py",
   "mimetype": "text/x-python",
   "name": "python",
   "nbconvert_exporter": "python",
   "pygments_lexer": "ipython3",
   "version": "3.8.8"
  }
 },
 "nbformat": 4,
 "nbformat_minor": 5
}
